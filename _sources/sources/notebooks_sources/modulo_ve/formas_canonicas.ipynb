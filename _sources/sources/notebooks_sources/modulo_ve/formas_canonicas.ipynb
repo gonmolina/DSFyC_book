{
 "cells": [
  {
   "cell_type": "markdown",
   "id": "be58da79",
   "metadata": {},
   "source": [
    "# Formas canónicas de un espacio de estados\n",
    "\n",
    "Para un sistema dado, existen un número infinito de posibles modelos en espacios de estados que nos darán las mismas salidas para las mismas entradas. Por lo tanto es deseable tener ciertas formas estandarizadas de estructuras de espacios de estados. Llamaremos a estas, las **formas canónicas**. \n",
    "\n",
    "Dado un sistema en su forma de función transferencia, es posible obtener cada una de sus formas canónicas es espacios de estados. Considerar el siguiente sistema lineal definido por sus ecuaciones diferenciales:"
   ]
  },
  {
   "cell_type": "markdown",
   "id": "77f6aee2",
   "metadata": {},
   "source": [
    "$$  \n",
    "y^{(n)}(t) + a_{1} ~ y^{(n-1)}(t) + ~ \\cdots ~ + a_{n-1} ~ \\dot{y}(t) + a_n ~ y(t) = b_0 ~ u^{(n)}(t) + ~ \\cdots ~ + b_{n-1} ~ \\dot{u}(t) + b_n ~ u(t) \n",
    "$$"
   ]
  },
  {
   "cell_type": "markdown",
   "id": "32048f50",
   "metadata": {},
   "source": [
    "donde  $u$ es la entrada, $y$ es la salida y $y^{(n)}$ representa la $n-th$ derivada de $y$ con respecto al tiempo. Haciendo la transformada de Laplace se tiene:"
   ]
  },
  {
   "cell_type": "markdown",
   "id": "06b994c0",
   "metadata": {},
   "source": [
    "$$  \n",
    "Y(s)(s^n + a_{1}s^{n-1} + ~ \\cdots ~ + a_{n-1}s + a_n ) = U(s)(b_0 s^{n} + ~ \\cdots ~ + b_{n-1} ~ s + b_n) \n",
    "$$"
   ]
  },
  {
   "cell_type": "markdown",
   "id": "555687a8",
   "metadata": {},
   "source": [
    "y se logar la siguiente función transferencia:"
   ]
  },
  {
   "cell_type": "markdown",
   "id": "23a9d890",
   "metadata": {},
   "source": [
    "$$  \n",
    "\\frac{Y(s)}{U(s)} = \\frac{b_0 s^{n} + ~ \\cdots ~ + b_{n-1} ~ s + b_n}{s^n + a_{1}s^{n-1} + ~ \\cdots ~ + a_{n-1}s + a_n}\n",
    "$$"
   ]
  },
  {
   "cell_type": "markdown",
   "id": "bfc0fd0b",
   "metadata": {},
   "source": [
    "## Forma canónica de controlabilidad\n",
    "\n",
    "Para obtener la forma **canónica controlable** debemos escribir las matrices del sistema en espacio de estado ${A_c, B_c, C_c, D_c}$, de la siguiente manera:"
   ]
  },
  {
   "cell_type": "markdown",
   "id": "570d60fd",
   "metadata": {},
   "source": [
    "$$\n",
    "\\begin{bmatrix} \\dot{x_1}\\\\\\dot{x_2} \\\\ \\vdots \\\\ \\dot{x_{n-1}}\\\\ \\dot{x_n} \\end{bmatrix} \n",
    "= \\underbrace{\\begin{bmatrix}\n",
    "  -a_{1} & -a_{2} & \\cdots & -a_{n-1} & -a_{n} \\\\\n",
    "   1 & 0 &  \\cdots & 0 & 0  \\\\\n",
    "  \\vdots & \\ddots & \\vdots & \\vdots & \\vdots\\\\\n",
    "  0 & \\cdots & 1  & 0 & 0\\\\\n",
    "  0 & 0 & \\cdots & 1 & 0\n",
    " \\end{bmatrix}}_{=A_c} \\begin{bmatrix} {x_1}\\\\ {x_2} \\\\ \\vdots \\\\ {x_{n-1}} \\\\ {x_n} \\end{bmatrix} \n",
    " + \\underbrace{\\begin{bmatrix} 1 \\\\0\\\\ \\vdots \\\\0\\\\0 \\end{bmatrix}}_{=B_c}~ u\n",
    "$$\n",
    " \n",
    "$$\n",
    "y= \\underbrace{\\begin{bmatrix} b_1-a_1 b_0 & b_2-a_2 b_0  & \\cdots & b_{n-1}-a_{n-1} b_0  & b_n-a_n b_0 \\end{bmatrix}}_{ =~C_c} \n",
    "   \\begin{bmatrix} {x_1}\\\\ {x_2}\\\\ \\vdots \\\\ {x_{n-1}}\\\\ {x_n} \\end{bmatrix} \n",
    " + \\underbrace{\\begin{bmatrix}b_0\\end{bmatrix}}_{=~D_c} ~u\n",
    " $$"
   ]
  },
  {
   "cell_type": "markdown",
   "id": "73a3c1a1",
   "metadata": {},
   "source": [
    "### Ejemplo 1 \n",
    "\n",
    "Considerar el sistema dado por"
   ]
  },
  {
   "cell_type": "markdown",
   "id": "dd27b21e",
   "metadata": {},
   "source": [
    "$$  \n",
    "\\frac{Y(s)}{U(s)} = \\frac{s + 3}{s^2 + 3s + 2}\n",
    "$$"
   ]
  },
  {
   "cell_type": "markdown",
   "id": "3baab8f0",
   "metadata": {},
   "source": [
    "Obtener la representación de estados en la forma **canónica de controlabilidad**.\n",
    "\n",
    "Por inspección vemos que, $n = 2$ (el exponente más grande del denominador en $s$), por lo tanto  $a_1 = 3,~ a_2 = 2,~ b_0 = 0,~ b_1 = 1$ y $b_2 = 3$. Por lo tanto tenemos que:"
   ]
  },
  {
   "cell_type": "markdown",
   "id": "08eaf61e",
   "metadata": {},
   "source": [
    "$$\n",
    "\\begin{bmatrix} \\dot{x_1}\\\\\\dot{x_2} \\end{bmatrix} \n",
    "= \n",
    "~\n",
    "\\underbrace{\\begin{bmatrix}\n",
    "-3 & -2\\\\\n",
    "1 & 0\n",
    "\\end{bmatrix}}_{=~A_c}\n",
    "~ \n",
    "\\begin{bmatrix} {x_1}\\\\{x_2} \\end{bmatrix} \n",
    "+ \n",
    "\\underbrace{\\begin{bmatrix} 1 \\\\0\\end{bmatrix} }_{=~B_c}\n",
    "u \n",
    "\\\\\n",
    "y = ~ \\underbrace{\\begin{bmatrix} 1 & 3\\end{bmatrix}}_{=~C_c} \n",
    "\\begin{bmatrix} {x_1}\\\\{x_2} \\end{bmatrix} \n",
    "+\n",
    "~ \\underbrace{\\begin{bmatrix} 0 \\end{bmatrix} }_{=~D_c}\n",
    "u\n",
    "$$"
   ]
  },
  {
   "cell_type": "markdown",
   "id": "3e429ae9",
   "metadata": {},
   "source": [
    "## Forma Canónica de Observabilidad"
   ]
  },
  {
   "cell_type": "markdown",
   "id": "9d288efd",
   "metadata": {},
   "source": [
    "Suponiendo que $A_c, B_c, C_c, D_c$ son las matrices de un sistema en su forma canónica de controlabilidad, el sistema en su forma **canónica de observable** tendrá la siguiente forma:\n",
    "\n",
    "$$ A_o = A_c^T \\quad B_o =B_c^T \\quad C_o = B_C^T \\quad D_o=D_c $$"
   ]
  },
  {
   "cell_type": "markdown",
   "id": "8cbbbb96",
   "metadata": {},
   "source": [
    "### Ejemplo 2:\n",
    "\n",
    "Obtener la representación del sistema del ejemplo 1 en su forma canónica observable:"
   ]
  },
  {
   "cell_type": "markdown",
   "id": "f2e8e1a1",
   "metadata": {},
   "source": [
    "$$\n",
    "\\begin{bmatrix} \\dot{x_1}\\\\\\dot{x_2} \\end{bmatrix} \n",
    "= \n",
    "~\n",
    "\\underbrace{\\begin{bmatrix}\n",
    "-3 & 1\\\\\n",
    "-2 & 0\n",
    "\\end{bmatrix}}_{=~A}\n",
    "~ \n",
    "\\begin{bmatrix} {x_1}\\\\{x_2} \\end{bmatrix} \n",
    "+ \n",
    "\\underbrace{\\begin{bmatrix} 1 \\\\3\\end{bmatrix} }_{=~B}\n",
    "u \n",
    "\\\\\n",
    "y = ~ \\underbrace{\\begin{bmatrix} 1 & 0\\end{bmatrix}}_{=~C} \n",
    "\\begin{bmatrix} {x_1}\\\\{x_2} \\end{bmatrix} \n",
    "+\n",
    "~ \\underbrace{\\begin{bmatrix} 0 \\end{bmatrix} }_{=~D}\n",
    "u\n",
    "$$"
   ]
  }
 ],
 "metadata": {
  "jupytext": {
   "formats": "ipynb,md:myst",
   "text_representation": {
    "extension": ".md",
    "format_name": "myst",
    "format_version": 0.13,
    "jupytext_version": "1.10.3"
   }
  },
  "kernelspec": {
   "display_name": "Python 3 (ipykernel)",
   "language": "python",
   "name": "python3"
  },
  "language_info": {
   "codemirror_mode": {
    "name": "ipython",
    "version": 3
   },
   "file_extension": ".py",
   "mimetype": "text/x-python",
   "name": "python",
   "nbconvert_exporter": "python",
   "pygments_lexer": "ipython3",
   "version": "3.8.12"
  },
  "source_map": [
   13,
   21,
   27,
   31,
   37,
   41,
   47,
   53,
   73,
   79,
   85,
   91,
   114,
   118,
   124,
   130
  ]
 },
 "nbformat": 4,
 "nbformat_minor": 5
}