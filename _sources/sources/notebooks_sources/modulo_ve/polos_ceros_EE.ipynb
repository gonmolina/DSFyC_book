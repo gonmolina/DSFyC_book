{
 "cells": [
  {
   "cell_type": "code",
   "execution_count": 1,
   "id": "8d059ba1",
   "metadata": {
    "tags": [
     "hide-cell"
    ]
   },
   "outputs": [],
   "source": [
    "import control as ctrl\n",
    "import sympy as sp\n",
    "import numpy as np\n",
    "import matplotlib.pyplot as plt"
   ]
  },
  {
   "cell_type": "markdown",
   "id": "beded046",
   "metadata": {},
   "source": [
    "# Polos y Ceros en los modelos de espacio de estados"
   ]
  },
  {
   "cell_type": "markdown",
   "id": "ab91b73f",
   "metadata": {},
   "source": [
    "## Polos de un sistema"
   ]
  },
  {
   "cell_type": "markdown",
   "id": "e9920bcc",
   "metadata": {},
   "source": [
    "Comenzaremos nuestro análisis tratando de respondernos ¿que es un polo en una función transferencia?¿Cómo identificamos un polo en el dominio temporal?"
   ]
  },
  {
   "cell_type": "markdown",
   "id": "9f726287",
   "metadata": {},
   "source": [
    "Del control clásico podemos recordar que un **polo** es un valor de frecuencia generalizada $s$ tal que si $s=p_i$ el sistema puede responder a ciertas condiciones iniciales $\\mathbf{x_0}$ como $Ke^{p_it}$ si no se está excitando al sistema con ninguna $u(t)$. En este contexto a $p_i$ se le llama **frecuencia natural** o **modo natural** del sistema.\n",
    "\n",
    "Para obtener los polos de un sistema en espacio de estados, vamos a escribir en forma de ecuaciones de estado lo que describí en el parrafo anterior. Esto sería:\n",
    "\n",
    "$$u(t)=0,\\qquad \\mathbf{x}(t)=\\mathbf{x}_0e^{p_it},\\qquad y(t)=K_ye^{p_it},$$\n",
    "\n",
    "entonces se tiene que:\n",
    "\n",
    "$$\\dot{\\mathbf{x}}(t) = \\mathbf{A}\\mathbf{x}(t)+\\mathbf{B}u(t) = \\mathbf{A}e^{p_it}\\mathbf{x}_0$$\n",
    "\n",
    "o escrito de otra forma:\n",
    "\n",
    "$$\\mathbf{Ax}_0 = p_i\\mathbf{x}_0.$$\n",
    "\n",
    "Donde sabemos que este es el problema de autovalores y autovectores de una matriz. Entonces aquí nuevamente vemos que los autovalores de la matriz $\\mathbf{A}$ son los polos del sistema. Además, podemos ver que las condiciones iniciales correspondientes para que el sistema evolucione con todos sus estados unicamente con el modo natura $p_i$ son las que se encuentran en la dirección del autovector correspondiente a ese autovalor $p_i$,"
   ]
  },
  {
   "cell_type": "markdown",
   "id": "15e99ca4",
   "metadata": {},
   "source": [
    "## Ejercicio 1\n",
    "\n",
    "Dado un sistema descripto por las siguienter matrices del espacio de estados:\n",
    "\n",
    "$$\\mathbf{A}=\n",
    "  \\begin{bmatrix}\n",
    "    -3 & 2\\\\\n",
    "    -1 & 0\n",
    "  \\end{bmatrix},\\qquad\n",
    "\\mathbf{B}=\n",
    "  \\begin{bmatrix}\n",
    "    1\\\\\n",
    "    0\n",
    "  \\end{bmatrix},\\qquad\n",
    "\\mathbf{C}=\n",
    "  \\begin{bmatrix}\n",
    "    -3 & 2\n",
    "  \\end{bmatrix},\\qquad\n",
    "D = 0\n",
    "$$\n",
    "\n",
    "\n",
    "Usando la teoría obtener los polos del sistema y condiciones iniciales a partir de las cuales todos los estados del sistema evolucionen solo con el mismo modo natural. Obtener una condición inicial para cada modo y verificar superponiendo graficas."
   ]
  },
  {
   "cell_type": "markdown",
   "id": "5d176286",
   "metadata": {},
   "source": [
    "## Solución\n",
    "\n",
    "Para resolver esto vamos a usar `sympy`, aunque facilmente se hubiera podido usar `numpy` ya que el problema de autovalores en general no dificultoso de resolver computacionalmente. Sin embargo, primero vamos a implementar el sistema usando el paquete de control de Python."
   ]
  },
  {
   "cell_type": "code",
   "execution_count": 2,
   "id": "9c6b6d42",
   "metadata": {},
   "outputs": [
    {
     "data": {
      "text/latex": [
       "\\[\n",
       "\\left(\n",
       "\\begin{array}{rllrll|rll}\n",
       "-3\\phantom{.}&\\hspace{-1em}&\\hspace{-1em}\\phantom{\\cdot}&2\\phantom{.}&\\hspace{-1em}&\\hspace{-1em}\\phantom{\\cdot}&1\\phantom{.}&\\hspace{-1em}&\\hspace{-1em}\\phantom{\\cdot}\\\\\n",
       "-1\\phantom{.}&\\hspace{-1em}&\\hspace{-1em}\\phantom{\\cdot}&0\\phantom{.}&\\hspace{-1em}&\\hspace{-1em}\\phantom{\\cdot}&0\\phantom{.}&\\hspace{-1em}&\\hspace{-1em}\\phantom{\\cdot}\\\\\n",
       "\\hline\n",
       "1\\phantom{.}&\\hspace{-1em}&\\hspace{-1em}\\phantom{\\cdot}&-3\\phantom{.}&\\hspace{-1em}&\\hspace{-1em}\\phantom{\\cdot}&0\\phantom{.}&\\hspace{-1em}&\\hspace{-1em}\\phantom{\\cdot}\\\\\n",
       "\\end{array}\\right)\n",
       "\\]"
      ],
      "text/plain": [
       "StateSpace(array([[-3.,  2.],\n",
       "       [-1.,  0.]]), array([[1.],\n",
       "       [0.]]), array([[ 1., -3.]]), array([[0.]]))"
      ]
     },
     "execution_count": 2,
     "metadata": {},
     "output_type": "execute_result"
    }
   ],
   "source": [
    "A=[[-3, 2],[-1,0]]\n",
    "B=[[1],[0]]\n",
    "C=[[1,-3]]\n",
    "D=0\n",
    "sys = ctrl.ss(A,B,C,D)\n",
    "sys"
   ]
  },
  {
   "cell_type": "markdown",
   "id": "ff3168e3",
   "metadata": {},
   "source": [
    "Vamos a escribir en `sympy` el problema a resolver. Para eso primero defino los simbolos a utilizar:"
   ]
  },
  {
   "cell_type": "code",
   "execution_count": 3,
   "id": "86c3f1a8",
   "metadata": {},
   "outputs": [
    {
     "data": {
      "text/plain": [
       "[-2, -1]"
      ]
     },
     "execution_count": 3,
     "metadata": {},
     "output_type": "execute_result"
    }
   ],
   "source": [
    "pi, x01, x02 = sp.symbols('pi, x01, x02')\n",
    "x0= sp.Matrix([x01, x02])\n",
    "Asp=sp.Matrix(A)\n",
    "polos = sp.solve(sp.det((pi*sp.eye(2,2)-Asp)), pi) # resuelvp det(piI-A)=0 variando pi\n",
    "polos"
   ]
  },
  {
   "cell_type": "markdown",
   "id": "e7543e85",
   "metadata": {},
   "source": [
    "De esta manera tenemos los autovalores. Para obtener un autovector para el polo en -2, podemos hacer:"
   ]
  },
  {
   "cell_type": "code",
   "execution_count": 4,
   "id": "808a3f99",
   "metadata": {},
   "outputs": [
    {
     "data": {
      "text/plain": [
       "{x01: 2*x02}"
      ]
     },
     "execution_count": 4,
     "metadata": {},
     "output_type": "execute_result"
    }
   ],
   "source": [
    "sp.solve((-2*sp.eye(2,2)-Asp)*x0, x0)"
   ]
  },
  {
   "cell_type": "markdown",
   "id": "0612a111",
   "metadata": {},
   "source": [
    "Esto quiere decir que `x01` tiene que ser 2 veces `x02`. Bien! tenemos el conjunto completo de autectores para ese autovalor en forma simbólica.\n",
    "\n",
    "Haciendo lo mismo para el polo en -1:"
   ]
  },
  {
   "cell_type": "code",
   "execution_count": 5,
   "id": "c78eb566",
   "metadata": {},
   "outputs": [
    {
     "data": {
      "text/plain": [
       "{x01: x02}"
      ]
     },
     "execution_count": 5,
     "metadata": {},
     "output_type": "execute_result"
    }
   ],
   "source": [
    "sp.solve((-1*sp.eye(2,2)-Asp)*x0, x0)"
   ]
  },
  {
   "cell_type": "markdown",
   "id": "97d74a12",
   "metadata": {},
   "source": [
    "Esto se traduce como que el conjunto de autovectores válidos para ese autovalor es `x01`=`x02`. Con los autovalores y autovectores tenemos entonces el problema podemos corroborar lo dicho en teoría haciendo una simulación del sistema frente a las condiciones iniciales dadas por un autovalor y verificar que responde según la dinámica del modo del autovalor asociado."
   ]
  },
  {
   "cell_type": "code",
   "execution_count": 6,
   "id": "d759fd63",
   "metadata": {},
   "outputs": [],
   "source": [
    "pi=-2\n",
    "x02=1\n",
    "x01=2*x02\n",
    "tp1,yp1,xp1 = ctrl.initial_response(sys, X0=[x01, x02], return_x=True)"
   ]
  },
  {
   "cell_type": "code",
   "execution_count": 7,
   "id": "1f0dd3b6",
   "metadata": {
    "tags": [
     "hide-input"
    ]
   },
   "outputs": [
    {
     "data": {
      "image/png": "[encoded data removed]",
      "text/plain": [
       "<Figure size 864x576 with 2 Axes>"
      ]
     },
     "metadata": {
      "filenames": {
       "image/png": "/home/runner/work/DSFyC_book/DSFyC_book/_build/jupyter_execute/sources/notebooks_sources/modulo_ve/polos_ceros_EE_16_0.png"
      },
      "needs_background": "light"
     },
     "output_type": "display_data"
    }
   ],
   "source": [
    "fig, ax = plt.subplots(2,1, figsize=(12,8))\n",
    "ax[0].plot(tp1, xp1[0,:], lw=3, label='estado 1')\n",
    "ax[0].plot(tp1, x01*np.exp(pi*tp1), '--', lw=2, label='verificación estado 1')\n",
    "ax[1].plot(tp1, xp1[1,:], lw=3, label='estado 2')\n",
    "ax[1].plot(tp1, x02*np.exp(pi*tp1), '--', lw=2, label='verificación estado 2')\n",
    "ax[0].set_title('Verificación del polo en -2')\n",
    "ax[0].grid()\n",
    "ax[1].grid();"
   ]
  },
  {
   "cell_type": "markdown",
   "id": "f2a9272f",
   "metadata": {},
   "source": [
    "Podemos ver que la respuesta de los estados (y por ende la salida) se corrsponden con una dinámica en el modo -2.\n",
    "\n",
    "Repetimos el procedimiento para el otro polo:"
   ]
  },
  {
   "cell_type": "code",
   "execution_count": 8,
   "id": "14b3e802",
   "metadata": {
    "tags": [
     "hide-input"
    ]
   },
   "outputs": [
    {
     "data": {
      "image/png": "[encoded data removed]",
      "text/plain": [
       "<Figure size 864x576 with 2 Axes>"
      ]
     },
     "metadata": {
      "filenames": {
       "image/png": "/home/runner/work/DSFyC_book/DSFyC_book/_build/jupyter_execute/sources/notebooks_sources/modulo_ve/polos_ceros_EE_18_0.png"
      },
      "needs_background": "light"
     },
     "output_type": "display_data"
    }
   ],
   "source": [
    "pi=-1\n",
    "x02=1\n",
    "x01=x02\n",
    "tp1,yp1,xp1 = ctrl.initial_response(sys, X0=[x01, x02], return_x=True)\n",
    "fig, ax = plt.subplots(2,1, figsize=(12,8))\n",
    "ax[0].plot(tp1, xp1[0,:], lw=3, label='estado 1')\n",
    "ax[0].plot(tp1, x01*np.exp(pi*tp1), '--', lw=2, label='verificación estado 1')\n",
    "ax[1].plot(tp1, xp1[1,:], lw=3, label='estado 2')\n",
    "ax[1].plot(tp1, x02*np.exp(pi*tp1), '--', lw=2, label='verificación estado 2')\n",
    "ax[0].set_title('Verificación del polo en -1')\n",
    "ax[0].grid()\n",
    "ax[1].grid();"
   ]
  },
  {
   "cell_type": "markdown",
   "id": "bd9f7fc0",
   "metadata": {},
   "source": [
    "Notar que el problema de autovalores y autovectores lo hemos resuleto usando `sympy`. Sin embargo, en la práctica es más sencillo resolver este problema numericamente usando `numpy`. Es decir:"
   ]
  },
  {
   "cell_type": "code",
   "execution_count": 9,
   "id": "7ac22777",
   "metadata": {},
   "outputs": [
    {
     "data": {
      "text/plain": [
       "(array([-2., -1.]),\n",
       " array([[-0.89442719, -0.70710678],\n",
       "        [-0.4472136 , -0.70710678]]))"
      ]
     },
     "execution_count": 9,
     "metadata": {},
     "output_type": "execute_result"
    }
   ],
   "source": [
    "aval, avec = np.linalg.eig(A)\n",
    "aval, avec"
   ]
  },
  {
   "cell_type": "markdown",
   "id": "39a99576",
   "metadata": {},
   "source": [
    "La solución numérica del autovalor dada por `numpy` es la que se corresponde con módulo 1. Es decir me devuelve un autovector de módulo 1 por cada autovalor."
   ]
  },
  {
   "cell_type": "markdown",
   "id": "96ac2374",
   "metadata": {
    "tags": []
   },
   "source": [
    "## Cero del sistema\n",
    "\n",
    "De control clásico sabemos que un **cero** $z_i$ es un punto de frecuencia generalizada $s$ tal que el sistema puede ser excitado en esa frecuencia ($u(t) = u_0e^{z_it}$), tener estados no nulos ($\\mathbf{x}_0\\neq \\mathbf{0}$) y aún así su salida es nula ($y(t)\\equiv 0$).\n",
    "\n",
    "Si escribimos en forma de espacio de estados lo que acabamos de decir del cero, tenemos entonces que:\n",
    "\n",
    "$$u=u_0e^{z_it},\\qquad \\mathbf{x}(t)=\\mathbf{x}_0e^{z_it},\\qquad y(t)\\equiv 0$$\n",
    "\n",
    "Por lo tanto:\n",
    "\n",
    "$$\\dot {\\mathbf{x}} =z_ie^{z_it}\\mathbf{x}_0=\\mathbf{A}e^{z_it}\\mathbf{x}_0+\\mathbf{B}u_0e^{z_it}$$\n",
    "\n",
    "o lo que es lo mismo:\n",
    "\n",
    "$$\n",
    "\\begin{bmatrix}\n",
    "z_i\\mathbf{I}-\\mathbf{A}&-\\mathbf{B}\\end{bmatrix}\\begin{bmatrix}\\mathbf{x}_0\\\\u_0\\end{bmatrix}=\\mathbf{0}.\n",
    "$$\n",
    "\n",
    "Para la salida tenemos:\n",
    "\n",
    "$$y(t) = \\mathbf{C}\\mathbf{x}(t) + Du(t) = \\mathbf{C}e^{z_it}\\mathbf{x}_0+Du_0e^{z_it}\\equiv 0 $$\n",
    "\n",
    "o lo que es lo mismo:\n",
    "\n",
    "$$\n",
    "\\begin{bmatrix}\\mathbf{C}&D\\end{bmatrix}\\begin{bmatrix}\\mathbf{x}_0\\\\u_0\\end{bmatrix}=0.\n",
    "$$\n",
    "\n",
    "Combinando las dos anteriores:\n",
    "$$\n",
    "\\begin{bmatrix}\n",
    "  z_i\\mathbf{I}-\\mathbf{A}&-\\mathbf{B}\\\\\n",
    "  \\mathbf{C}&D\n",
    "\\end{bmatrix}\n",
    "\\begin{bmatrix}\n",
    "  \\mathbf{x}_0\\\\\n",
    "  u_0\n",
    "  \\end{bmatrix} = \n",
    "\\begin{bmatrix}\n",
    "  \\mathbf{0}\\\\\n",
    "  0\n",
    "\\end{bmatrix}\n",
    "$$\n",
    "\n",
    "Vemos que este sistema tiene solución más allá de la trivial, unicamente si el determinante de la matriz de la izquierda anterior es 0. Es decir:\n",
    "\n",
    "$$\\det{\\begin{bmatrix}\n",
    "  z_i\\mathbf{I}-\\mathbf{A}&-\\mathbf{B}\\\\\n",
    "  \\mathbf{C}&D\n",
    "\\end{bmatrix}} = 0$$\n",
    "\n",
    "Los valores de $z_i$ que cumplan con la ecuación anterior son los ceros de transferencia del sistema."
   ]
  },
  {
   "cell_type": "markdown",
   "id": "fe7beb03",
   "metadata": {},
   "source": [
    "## Ejercicio 2\n",
    "\n",
    "Obtener los ceros de transferencia para el sistema del ejercicio anterior mediante la formula recien obtenida."
   ]
  },
  {
   "cell_type": "markdown",
   "id": "342dbe38",
   "metadata": {},
   "source": [
    "## Solución\n",
    "\n",
    "Para resolver este problema de forma simbólica utilizaré `sympy`. Por lo tanto lo primer que haré será escribir todas las matrices en en modulo de `sympy`."
   ]
  },
  {
   "cell_type": "code",
   "execution_count": 10,
   "id": "00b0677a",
   "metadata": {},
   "outputs": [],
   "source": [
    "zi = sp.symbols('zi')\n",
    "Asp = sp.Matrix(A)\n",
    "Bsp = sp.Matrix(B)\n",
    "Csp = sp.Matrix(C)\n",
    "Dsp = sp.Matrix([D])"
   ]
  },
  {
   "cell_type": "markdown",
   "id": "c0f50e78",
   "metadata": {},
   "source": [
    "Vamos a escribir la matriz para la cual tenemos que resolver el determinante:"
   ]
  },
  {
   "cell_type": "code",
   "execution_count": 11,
   "id": "90b37490",
   "metadata": {},
   "outputs": [
    {
     "data": {
      "text/latex": [
       "$\\displaystyle \\left[\\begin{matrix}zi + 3 & -2 & -1\\\\1 & zi & 0\\\\1 & -3 & 0\\end{matrix}\\right]$"
      ],
      "text/plain": [
       "Matrix([\n",
       "[zi + 3, -2, -1],\n",
       "[     1, zi,  0],\n",
       "[     1, -3,  0]])"
      ]
     },
     "execution_count": 11,
     "metadata": {},
     "output_type": "execute_result"
    }
   ],
   "source": [
    "abcd = (zi*sp.eye(2,2)-Asp).col_insert(2,-Bsp).row_insert(2,Csp.col_insert(2,Dsp))\n",
    "abcd"
   ]
  },
  {
   "cell_type": "code",
   "execution_count": 12,
   "id": "b7d5bb41",
   "metadata": {},
   "outputs": [
    {
     "data": {
      "text/plain": [
       "[-3]"
      ]
     },
     "execution_count": 12,
     "metadata": {},
     "output_type": "execute_result"
    }
   ],
   "source": [
    "zi=sp.solve(sp.det(abcd),zi)\n",
    "zi"
   ]
  },
  {
   "cell_type": "markdown",
   "id": "d5737516",
   "metadata": {},
   "source": [
    "Vemos que entonces el determinante de la matriz armada tiene un solo cero en $z_i=-3$. Por lo que el sistema tiene un solo cero en -3.\n",
    "\n",
    "Vamos a obtener ahora las condiciones iniciales $\\mathbf{x_0}$ y $u_0$ para las cuales el sistema tiene salida nula por más que se lo excite con una señal $u(t)$ tal que $u(t)=u_0e^{-3t}$.\n",
    "\n",
    "Sabemos que la matriz `abcd` anterior es de determinante 0, $z_i=-3$. Por lo que existen inifinitas soluciones para $\\mathbf x_0, u_0$ que cumplen con:\n",
    "\n",
    "$$\n",
    "\\begin{bmatrix}\n",
    "z_i\\mathbf{I}-\\mathbf{A}&-\\mathbf{B}\\end{bmatrix}\\begin{bmatrix}\\mathbf{x}_0\\\\u_0\\end{bmatrix}=\\mathbf{0}.\n",
    "$$\n",
    "\n",
    "Asumimos $u_0=1$ y resolvemos:"
   ]
  },
  {
   "cell_type": "code",
   "execution_count": 13,
   "id": "31e21fe5",
   "metadata": {},
   "outputs": [
    {
     "data": {
      "text/plain": [
       "[{x10: -3/2, x20: -1/2, zi: -3}]"
      ]
     },
     "execution_count": 13,
     "metadata": {},
     "output_type": "execute_result"
    }
   ],
   "source": [
    "x10, x20 = sp.symbols('x10, x20')\n",
    "x0 = sp.Matrix([x10, x20, 1])\n",
    "sol = sp.solve((abcd*x0).subs({'zi':-3}, x0))\n",
    "sol"
   ]
  },
  {
   "cell_type": "markdown",
   "id": "f6fd287f",
   "metadata": {},
   "source": [
    "Vamos a poner las condiciones iniciales en formato numérico, ya que por más que tenga un valor, siguen siendo datos del tipo de `sympy` es decir, simbólicos."
   ]
  },
  {
   "cell_type": "code",
   "execution_count": 14,
   "id": "5f28a302",
   "metadata": {},
   "outputs": [],
   "source": [
    "x0=[np.float64(sol[0][x10]), np.float64(sol[0][x20])]"
   ]
  },
  {
   "cell_type": "markdown",
   "id": "9ed84363",
   "metadata": {},
   "source": [
    "Y ahora simulamos el sistema con la respuesta forzada $u(t)=e^{-3t}$:"
   ]
  },
  {
   "cell_type": "code",
   "execution_count": 15,
   "id": "af31b566",
   "metadata": {},
   "outputs": [],
   "source": [
    "t=np.linspace(0,5,20001)\n",
    "tz,yz,xz = ctrl.forced_response(sys, T=t, U=1*np.exp(-3*t), X0=[np.float64(sol[0][x10]), np.float64(sol[0][x20])], return_x=True)"
   ]
  },
  {
   "cell_type": "markdown",
   "id": "21746532",
   "metadata": {},
   "source": [
    "Voy a graficar la salida en dos escalas:\n",
    "- en la primera la que por default muestra la librería `matplotlib`\n",
    "- la segunda una escala más normal para los valroes que estamos manejando en el sistema.\n",
    "\n",
    "Podemos ver que la salida se mantiene muy cercana a cero. El alejamiento de cero se debe a errores numéricos presentes sobre todo en la aproximación de la entrada (para el módulo de control cuando la simula la entrada será escalonada)."
   ]
  },
  {
   "cell_type": "code",
   "execution_count": 16,
   "id": "be1b7609",
   "metadata": {
    "tags": [
     "hide-input"
    ]
   },
   "outputs": [
    {
     "data": {
      "image/png": "[encoded data removed]",
      "text/plain": [
       "<Figure size 864x576 with 2 Axes>"
      ]
     },
     "metadata": {
      "filenames": {
       "image/png": "/home/runner/work/DSFyC_book/DSFyC_book/_build/jupyter_execute/sources/notebooks_sources/modulo_ve/polos_ceros_EE_36_0.png"
      },
      "needs_background": "light"
     },
     "output_type": "display_data"
    }
   ],
   "source": [
    "fig, ax = plt.subplots(2,1, figsize=(12,8))\n",
    "ax[0].plot(tz,yz)\n",
    "ax[0].grid()\n",
    "ax[1].plot(tz,yz)\n",
    "ax[1].set_ylim([-.01,0.01])\n",
    "ax[1].grid()\n",
    "ax[1].set_xlabel('Tiempo[s]');"
   ]
  },
  {
   "cell_type": "markdown",
   "id": "9e00c98a",
   "metadata": {},
   "source": [
    "Finalmente, para verificar que todos los cáculos realizados son correctos podemos obtener la función transferencia del sistema en espacio de estados."
   ]
  },
  {
   "cell_type": "code",
   "execution_count": 17,
   "id": "3f7e3690",
   "metadata": {
    "tags": [
     "hide-input"
    ]
   },
   "outputs": [
    {
     "data": {
      "text/latex": [
       "$$\\frac{s + 3}{s^2 + 3 s + 2}$$"
      ],
      "text/plain": [
       "TransferFunction(array([1., 3.]), array([1., 3., 2.]))"
      ]
     },
     "execution_count": 17,
     "metadata": {},
     "output_type": "execute_result"
    }
   ],
   "source": [
    "ctrl.tf(sys)"
   ]
  },
  {
   "cell_type": "markdown",
   "id": "bf7abd21",
   "metadata": {},
   "source": [
    "O directamente pedirle al módulo de control que nos devuelva los polos y los ceros:"
   ]
  },
  {
   "cell_type": "code",
   "execution_count": 18,
   "id": "3df6c5e8",
   "metadata": {
    "tags": [
     "hide-input"
    ]
   },
   "outputs": [
    {
     "data": {
      "text/plain": [
       "(array([-2., -1.]), array([-3.+0.j]))"
      ]
     },
     "execution_count": 18,
     "metadata": {},
     "output_type": "execute_result"
    }
   ],
   "source": [
    "sys.pole(), sys.zero()"
   ]
  },
  {
   "cell_type": "markdown",
   "id": "2137c752",
   "metadata": {},
   "source": [
    "Que vemos son los mismos que obtuvimos a partir de las definiciones teóricas de lo que significa un polo y un cero en el dominio temporal."
   ]
  },
  {
   "cell_type": "code",
   "execution_count": null,
   "id": "86171c2f",
   "metadata": {},
   "outputs": [],
   "source": []
  }
 ],
 "metadata": {
  "jupytext": {
   "formats": "ipynb,md:myst",
   "text_representation": {
    "extension": ".md",
    "format_name": "myst",
    "format_version": 0.13,
    "jupytext_version": "1.10.3"
   }
  },
  "kernelspec": {
   "display_name": "Python 3 (ipykernel)",
   "language": "python",
   "name": "python3"
  },
  "language_info": {
   "codemirror_mode": {
    "name": "ipython",
    "version": 3
   },
   "file_extension": ".py",
   "mimetype": "text/x-python",
   "name": "python",
   "nbconvert_exporter": "python",
   "pygments_lexer": "ipython3",
   "version": "3.8.12"
  },
  "source_map": [
   15,
   23,
   27,
   31,
   35,
   53,
   79,
   85,
   92,
   96,
   102,
   106,
   108,
   114,
   116,
   120,
   127,
   138,
   144,
   158,
   162,
   165,
   169,
   225,
   231,
   237,
   243,
   247,
   252,
   255,
   270,
   275,
   279,
   281,
   285,
   288,
   296,
   306,
   310,
   314,
   318,
   322,
   326
  ]
 },
 "nbformat": 4,
 "nbformat_minor": 5
}