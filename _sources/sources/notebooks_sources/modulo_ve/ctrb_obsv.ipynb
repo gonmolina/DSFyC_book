{
 "cells": [
  {
   "cell_type": "code",
   "execution_count": null,
   "id": "d33de34d",
   "metadata": {
    "tags": [
     "remove-cell"
    ]
   },
   "outputs": [],
   "source": [
    "import control as ctrl\n",
    "import numpy as np"
   ]
  },
  {
   "cell_type": "markdown",
   "id": "fa4fece0",
   "metadata": {},
   "source": [
    "# Análisis de los sistemas en su forma de espacio de estados"
   ]
  },
  {
   "cell_type": "markdown",
   "id": "492058e1",
   "metadata": {},
   "source": [
    "Supongamos que tenemos la siguiente función transferencia:"
   ]
  },
  {
   "cell_type": "code",
   "execution_count": null,
   "id": "9330e71a",
   "metadata": {},
   "outputs": [],
   "source": [
    "G=ctrl.tf([1,1],[1,2,3])\n",
    "G"
   ]
  },
  {
   "cell_type": "markdown",
   "id": "551ba210",
   "metadata": {},
   "source": [
    "De los apuntes de teoría podemos escribir una representación de espacios de estados en la forma canónica de controlabilidad que tendrá el mismo comportamiento externo de $G$ de la siguiente manera :"
   ]
  },
  {
   "cell_type": "code",
   "execution_count": null,
   "id": "8f6280ed",
   "metadata": {},
   "outputs": [],
   "source": [
    "Ac=np.matrix([[-2, -3],[1,0]])\n",
    "Ac"
   ]
  },
  {
   "cell_type": "markdown",
   "id": "25fd5c14",
   "metadata": {},
   "source": [
    "Antes de seguir, verificamos que los polos de $G$ sean los autovalores de $\\mathbf {Ac}$"
   ]
  },
  {
   "cell_type": "code",
   "execution_count": null,
   "id": "dc4961d0",
   "metadata": {},
   "outputs": [],
   "source": [
    "G.pole()"
   ]
  },
  {
   "cell_type": "code",
   "execution_count": null,
   "id": "c04225d7",
   "metadata": {},
   "outputs": [],
   "source": [
    "np.linalg.eigvals(Ac)"
   ]
  },
  {
   "cell_type": "markdown",
   "id": "ace38b5c",
   "metadata": {},
   "source": [
    "Ahora definimos el resto de las matrices"
   ]
  },
  {
   "cell_type": "code",
   "execution_count": null,
   "id": "965dd009",
   "metadata": {},
   "outputs": [],
   "source": [
    "Bc=np.matrix(\"1;0\")\n",
    "Bc"
   ]
  },
  {
   "cell_type": "code",
   "execution_count": null,
   "id": "2344a413",
   "metadata": {},
   "outputs": [],
   "source": [
    "Cc=np.matrix(\"1 1\")\n",
    "Cc"
   ]
  },
  {
   "cell_type": "code",
   "execution_count": null,
   "id": "8cadc31d",
   "metadata": {},
   "outputs": [],
   "source": [
    "Dc=0"
   ]
  },
  {
   "cell_type": "markdown",
   "id": "dd450f6e",
   "metadata": {},
   "source": [
    "Vamos ahora a definir un sistema $sys$ que se comporte igual que $G$"
   ]
  },
  {
   "cell_type": "code",
   "execution_count": null,
   "id": "cf64eaf7",
   "metadata": {},
   "outputs": [],
   "source": [
    "sys_c=ctrl.ss(Ac,Bc,Cc,Dc)"
   ]
  },
  {
   "cell_type": "markdown",
   "id": "487d3e94",
   "metadata": {},
   "source": [
    "Si $sys$ tiene los mismos polos, los mismos ceros y la misma ganancia en estado estacionario, entonces se comportará igual que $G$."
   ]
  },
  {
   "cell_type": "code",
   "execution_count": null,
   "id": "eb3e8a7a",
   "metadata": {},
   "outputs": [],
   "source": [
    "sys_c.pole()"
   ]
  },
  {
   "cell_type": "code",
   "execution_count": null,
   "id": "aaeaeb0b",
   "metadata": {},
   "outputs": [],
   "source": [
    "sys_c.zero()"
   ]
  },
  {
   "cell_type": "code",
   "execution_count": null,
   "id": "30719f07",
   "metadata": {},
   "outputs": [],
   "source": [
    "sys_c.dcgain()"
   ]
  },
  {
   "cell_type": "code",
   "execution_count": null,
   "id": "1dc60e00",
   "metadata": {},
   "outputs": [],
   "source": [
    "G.dcgain()"
   ]
  },
  {
   "cell_type": "markdown",
   "id": "345645fe",
   "metadata": {},
   "source": [
    "Por lo tanto podemos ver que la función transferencia de $sys$ será la misma que la de $G$. Es decir, $sys$ se comporta **externamente** igual que $G$. Verificamos"
   ]
  },
  {
   "cell_type": "code",
   "execution_count": null,
   "id": "3df037ba",
   "metadata": {},
   "outputs": [],
   "source": [
    "ctrl.tf(sys_c)"
   ]
  },
  {
   "cell_type": "markdown",
   "id": "b326514f",
   "metadata": {},
   "source": [
    "Vamos ahora a definir el sistema en espacio de estados, que se comporte como $G$ en la forma canónica de observabilidad. De la teoría sabemos que:"
   ]
  },
  {
   "cell_type": "code",
   "execution_count": null,
   "id": "a968b815",
   "metadata": {},
   "outputs": [],
   "source": [
    "Ao=Ac.T\n",
    "Bo=Cc.T\n",
    "Co=Bc.T\n",
    "Do=Dc"
   ]
  },
  {
   "cell_type": "code",
   "execution_count": null,
   "id": "de54c161",
   "metadata": {},
   "outputs": [],
   "source": [
    "sys_o=ctrl.ss(Ao,Bo,Co,Do)"
   ]
  },
  {
   "cell_type": "code",
   "execution_count": null,
   "id": "fac034b2",
   "metadata": {},
   "outputs": [],
   "source": [
    "sys_o.pole()"
   ]
  },
  {
   "cell_type": "code",
   "execution_count": null,
   "id": "1f5b884f",
   "metadata": {},
   "outputs": [],
   "source": [
    "sys_o.zero()"
   ]
  },
  {
   "cell_type": "code",
   "execution_count": null,
   "id": "c0adb000",
   "metadata": {},
   "outputs": [],
   "source": [
    "sys_o.dcgain()"
   ]
  },
  {
   "cell_type": "code",
   "execution_count": null,
   "id": "829e7788",
   "metadata": {},
   "outputs": [],
   "source": [
    "ctrl.tf(sys_o)"
   ]
  },
  {
   "cell_type": "code",
   "execution_count": null,
   "id": "4a3e37c0",
   "metadata": {},
   "outputs": [],
   "source": [
    "ctrl.tf(sys_o)"
   ]
  },
  {
   "cell_type": "markdown",
   "id": "7662eff6",
   "metadata": {},
   "source": [
    "El módulo de control de Python puede transformar una función transferencia a una forma de estados (no necesariamente en alguna forma canónica). Esto se hace:"
   ]
  },
  {
   "cell_type": "code",
   "execution_count": null,
   "id": "98dc4e9f",
   "metadata": {},
   "outputs": [],
   "source": [
    "sys=ctrl.ss(G)\n",
    "sys"
   ]
  },
  {
   "cell_type": "markdown",
   "id": "8d5a80a5",
   "metadata": {},
   "source": [
    "Además Python puede transformar un sistema en espacio de estados a alguna de las formas canónicas.\n",
    "\n",
    "Por ejemplo para escribir $sys$ (que está ahora en espacio de estados) en su forma canónica de controlabilidad podemos hacer"
   ]
  },
  {
   "cell_type": "code",
   "execution_count": null,
   "id": "3f1a190f",
   "metadata": {},
   "outputs": [],
   "source": [
    "ctrl.canonical_form(sys, 'reachable') # controlable"
   ]
  },
  {
   "cell_type": "markdown",
   "id": "ce159ceb",
   "metadata": {},
   "source": [
    "Notar que esta función necesita como primer argumento un sistema de espacios de estados.\n",
    "\n",
    "Si queremos la forma canónica de observabilidad podemos hacer:"
   ]
  },
  {
   "cell_type": "code",
   "execution_count": null,
   "id": "72f880e0",
   "metadata": {},
   "outputs": [],
   "source": [
    "ctrl.canonical_form(sys, 'observable')"
   ]
  },
  {
   "cell_type": "markdown",
   "id": "c071413e",
   "metadata": {},
   "source": [
    "Existe otra forma canónica de representación en espacio de estados que se la conoce como forma canónica modal. Esta la podemos obtener haciendo:"
   ]
  },
  {
   "cell_type": "code",
   "execution_count": null,
   "id": "1a29824d",
   "metadata": {},
   "outputs": [],
   "source": [
    "ctrl.canonical_form(sys, 'modal')"
   ]
  },
  {
   "cell_type": "markdown",
   "id": "780f7d03",
   "metadata": {},
   "source": [
    "Esta forma canónica lo que hace es aislar los modos unos de otros. Es decir cada variables de estado aparece en la diagonal. Sin embargo, como vemos en este caso, no tenemos una forma diagonal de la matriz $\\mathbf A$. Esto sucede por que hay casos que no se puede o no se desea aislarlos:\n",
    "- en caso de que se tengan autovalores complejos conjugados, no se aíslan para lograr tener una matriz $\\mathbf A$, $\\mathbf B$ y $\\mathbf C$ a coeficiente reales.\n",
    "- en caso de que sean multiples no se pueden aislar por que tienen el mismo autovector y no se pueden usar estos para la transformación. Para estos casos se utiliza la forma de Jordan."
   ]
  },
  {
   "cell_type": "markdown",
   "id": "d842214f",
   "metadata": {},
   "source": [
    "Vamos a ver otro ejemplo:"
   ]
  },
  {
   "cell_type": "code",
   "execution_count": null,
   "id": "5921e91f",
   "metadata": {},
   "outputs": [],
   "source": [
    "s=ctrl.tf('s')\n",
    "G2 = 1/((s+1)*(s+2)*(s+3))\n",
    "G2"
   ]
  },
  {
   "cell_type": "markdown",
   "id": "50f2a642",
   "metadata": {},
   "source": [
    "Vemos que esta función transferencia tiene los polos en -1, -2 y -3. Transformemos a espacio de estados usando la función `ss`."
   ]
  },
  {
   "cell_type": "code",
   "execution_count": null,
   "id": "4177edb9",
   "metadata": {},
   "outputs": [],
   "source": [
    "sys2 = ctrl.ss(G2)\n",
    "sys2"
   ]
  },
  {
   "cell_type": "markdown",
   "id": "c88b4930",
   "metadata": {},
   "source": [
    "Veamos al sistema en su forma canónica de controlabilidad."
   ]
  },
  {
   "cell_type": "code",
   "execution_count": null,
   "id": "8f5dea6a",
   "metadata": {},
   "outputs": [],
   "source": [
    "ctrl.canonical_form(sys2, 'reachable')"
   ]
  },
  {
   "cell_type": "markdown",
   "id": "7fa6d42a",
   "metadata": {},
   "source": [
    "Ahora lo podemos ver en la forma canónica de observabilidad"
   ]
  },
  {
   "cell_type": "code",
   "execution_count": null,
   "id": "1515eb45",
   "metadata": {},
   "outputs": [],
   "source": [
    "ctrl.canonical_form(sys2, 'observable')"
   ]
  },
  {
   "cell_type": "markdown",
   "id": "a3337aaf",
   "metadata": {},
   "source": [
    "Finalmente obtengamos la forma canónica modal:"
   ]
  },
  {
   "cell_type": "code",
   "execution_count": null,
   "id": "8f1557b7",
   "metadata": {},
   "outputs": [],
   "source": [
    "sys2_m, _=ctrl.canonical_form(sys2, 'modal')"
   ]
  },
  {
   "cell_type": "code",
   "execution_count": null,
   "id": "57186e5b",
   "metadata": {},
   "outputs": [],
   "source": [
    "sys2_m.A"
   ]
  },
  {
   "cell_type": "markdown",
   "id": "3320aa43",
   "metadata": {},
   "source": [
    "```{note}\n",
    "- La función `canonical_form` devuelve un sistema en la forma canónica solicitada y la matriz de transformación necesaria para obtenerlo\n",
    "- en la diagonal de $\\mathbf A$ tenemos los modos del sistema (polos de $G$ o autovalores de $A$)\n",
    "- fuera de la diagonal $\\mathbf A$ tenemos ceros o valores muy cercanos a ceros (debido a problemas numéricos en el cálculo)\n",
    "```"
   ]
  },
  {
   "cell_type": "markdown",
   "id": "c28f8c56",
   "metadata": {},
   "source": [
    "Verificamos el resto de las matrices:"
   ]
  },
  {
   "cell_type": "code",
   "execution_count": null,
   "id": "593aaae4",
   "metadata": {},
   "outputs": [],
   "source": [
    "sys2_m.B"
   ]
  },
  {
   "cell_type": "code",
   "execution_count": null,
   "id": "4078c014",
   "metadata": {},
   "outputs": [],
   "source": [
    "sys2_m.C"
   ]
  },
  {
   "cell_type": "code",
   "execution_count": null,
   "id": "eca90cde",
   "metadata": {},
   "outputs": [],
   "source": [
    "sys2_m.D"
   ]
  },
  {
   "cell_type": "markdown",
   "id": "44e652a1",
   "metadata": {},
   "source": [
    "En esta forma canónica, la matriz $B$ como la conexión de la entrada con el modo del sistema . Y de forma análoga a la matriz $C$ como la conexión del modo con la salida del sistema."
   ]
  },
  {
   "cell_type": "markdown",
   "id": "ed87af05",
   "metadata": {},
   "source": [
    "## Ejemplo de conexión de sistemas"
   ]
  },
  {
   "cell_type": "code",
   "execution_count": null,
   "id": "2d3f3c93",
   "metadata": {},
   "outputs": [],
   "source": [
    "G1=ctrl.tf(1,[1,1])\n",
    "G2=ctrl.tf([1,1],[1,2])"
   ]
  },
  {
   "cell_type": "markdown",
   "id": "8d9b4a7f",
   "metadata": {},
   "source": [
    "Podemos ver que G1 tiene un polo en -1 y G2 tiene un polo en -2 y un cero en -1."
   ]
  },
  {
   "cell_type": "markdown",
   "id": "9d9318c5",
   "metadata": {},
   "source": [
    "Ahora supongamos que queremos un nuevo sistema que:\n",
    "- conecta la salida de $G1$ con la entrada de $G2$\n",
    "- la salida es la salida de $G2$\n",
    "- la entrada es la entrada de $G1$"
   ]
  },
  {
   "cell_type": "markdown",
   "id": "6171d148",
   "metadata": {},
   "source": [
    "Para eso vamos a usar una función que se llama `connect`. Esta utiliza sistemas en espacio de estados, entonces hacemos:"
   ]
  },
  {
   "cell_type": "code",
   "execution_count": null,
   "id": "398e89e8",
   "metadata": {},
   "outputs": [],
   "source": [
    "sys1 = ctrl.ss(G1)\n",
    "sys2= ctrl.ss(G2)"
   ]
  },
  {
   "cell_type": "markdown",
   "id": "43018ce4",
   "metadata": {},
   "source": [
    "Y luego realizamos las conexiones:"
   ]
  },
  {
   "cell_type": "code",
   "execution_count": null,
   "id": "0cc60573",
   "metadata": {},
   "outputs": [],
   "source": [
    "sys_c = ctrl.connect(ctrl.append(sys1, sys2),[[2,1]],[1],[2])\n",
    "sys_c"
   ]
  },
  {
   "cell_type": "markdown",
   "id": "82df9ed2",
   "metadata": {},
   "source": [
    "Analizamos  los polos y ceros del sistema ya interconectado"
   ]
  },
  {
   "cell_type": "code",
   "execution_count": null,
   "id": "b9355408",
   "metadata": {},
   "outputs": [],
   "source": [
    "sys_c.pole()"
   ]
  },
  {
   "cell_type": "code",
   "execution_count": null,
   "id": "68c58302",
   "metadata": {},
   "outputs": [],
   "source": [
    "sys_c.zero()"
   ]
  },
  {
   "cell_type": "markdown",
   "id": "bd5d5c31",
   "metadata": {},
   "source": [
    "Vemos que el sistema conserva los mismos polos y los mismos ceros que el original, lo cual era de esperarse, ya que su función transferencia sería $G1.G2$"
   ]
  },
  {
   "cell_type": "markdown",
   "id": "3f824440",
   "metadata": {},
   "source": [
    "Obtengamos la forma canónica de controlabilidad del sistema"
   ]
  },
  {
   "cell_type": "code",
   "execution_count": null,
   "id": "a8a9bfed",
   "metadata": {},
   "outputs": [],
   "source": [
    "ctrl.canonical_form(sys_c, 'reachable')"
   ]
  },
  {
   "cell_type": "markdown",
   "id": "bc7b7008",
   "metadata": {},
   "source": [
    "Podemos ver que las matrices $ \\mathbf A$, $\\mathbf B$, $\\mathbf C$ y $\\mathbf D$ coinciden con lo visto en teoría.\n",
    "\n",
    "Ahora obtengamos la forma canónica de observabilidad:"
   ]
  },
  {
   "cell_type": "code",
   "execution_count": null,
   "id": "530ccfd4",
   "metadata": {
    "tags": [
     "raises-exception"
    ]
   },
   "outputs": [],
   "source": [
    "ctrl.canonical_form(sys_c, 'observable')"
   ]
  },
  {
   "cell_type": "markdown",
   "id": "190a51b6",
   "metadata": {},
   "source": [
    "Podemos ver que este sistema no puede ser escrito en su forma canónica de observabilidad. Esto sucede por que el sistema no es observable\n",
    "\n",
    "```{admonition} Interpretación\n",
    ":class: hint\n",
    "\n",
    "Un sistema observable necesita tener evidencia de lo que sucede con cada modo en al menos una salida del sistema. Como el modo en -1 se ve completamente tapado por el cero en esa misma frecuencia este sistema no es observable por que no tiene ninguna evidencia del modo en -1 a la salida del mismo.\n",
    "\n",
    "```"
   ]
  },
  {
   "cell_type": "markdown",
   "id": "0d15de29",
   "metadata": {},
   "source": [
    "Ahora hagamos la conexión al revés (primero $G1$ y luego $G2$):"
   ]
  },
  {
   "cell_type": "code",
   "execution_count": null,
   "id": "42b9e513",
   "metadata": {},
   "outputs": [],
   "source": [
    "sys_o = ctrl.connect(ctrl.append(sys1, sys2),[[1,2]],[2],[1])\n",
    "sys_o"
   ]
  },
  {
   "cell_type": "markdown",
   "id": "4b273e72",
   "metadata": {},
   "source": [
    "Obtengamos la forma canónica observable:"
   ]
  },
  {
   "cell_type": "code",
   "execution_count": null,
   "id": "bcf23861",
   "metadata": {},
   "outputs": [],
   "source": [
    "ctrl.canonical_form(sys_o, 'observable')"
   ]
  },
  {
   "cell_type": "markdown",
   "id": "a6a4b3f3",
   "metadata": {},
   "source": [
    "Y ahora la forma canónica controlable:"
   ]
  },
  {
   "cell_type": "code",
   "execution_count": null,
   "id": "af4b7785",
   "metadata": {
    "tags": [
     "raises-exception"
    ]
   },
   "outputs": [],
   "source": [
    "ctrl.canonical_form(sys_o, 'reachable')"
   ]
  },
  {
   "cell_type": "markdown",
   "id": "77f04534",
   "metadata": {},
   "source": [
    "Podemos ver que ahora no podemos obtener la forma canónica de observabilidad.\n",
    "\n",
    "```{admonition} Interpretación\n",
    ":class: hint\n",
    "\n",
    "La razón de esto es que no se puede excitar el modo -1, que ahora quedó tapado desde el lado de la entrada. Toda excitación que tenga \"frecuencia generalizada -1\" será tapada por el cero en -1. Por lo tanto este sistema no es controlable, ya que no puede excitar desde esa entrada el modo -1.\n",
    "```\n",
    "\n",
    "Es importante destacar que ambos sistemas presentan la misma función transferencia $G1.G2$, pero uno es solo controlable y el otro es solo observable. Esto se debe a que la controlabilidad y la observabilidad son propiedades internas de un sistema. \n",
    "\n",
    "\n",
    "\n",
    "```{attention}\n",
    "La **controlabilidad** y la **observabilidad**  no pueden ser decididas a partir de modelos externos de un sistema como son las funciones transferencias.\n",
    "```\n",
    "\n",
    "Estas dos mismas propiedades pueden ser analizadas con la forma modal. Tomemos el sistema $sys_C$ donde la entrada esta conectada a $G1$ y la salida a $G2$:"
   ]
  },
  {
   "cell_type": "code",
   "execution_count": null,
   "id": "c3108d1e",
   "metadata": {},
   "outputs": [],
   "source": [
    "ctrl.canonical_form(sys_c, 'modal')"
   ]
  },
  {
   "cell_type": "markdown",
   "id": "73620952",
   "metadata": {},
   "source": [
    "Podemos ver que la matriz $\\mathbf B$ tiene todos los valores distintos de 0. Esto significa que todos los modos están conectados a la entrada, por lo que deducimos que el sistema es controlable.\n",
    "\n",
    "Pero podemos ver que $\\mathbf C$ tiene un 0 en el primer elemento. Y que en la diagonal de $ \\mathbf A$ el primer elemento es -1. Esto quiere decir que no hay ninguna evidencia del modo -1 en la salida por que el sistema no es observable."
   ]
  },
  {
   "cell_type": "markdown",
   "id": "86d21f03",
   "metadata": {},
   "source": [
    "Probemos ahora con la segunda conexión:"
   ]
  },
  {
   "cell_type": "code",
   "execution_count": null,
   "id": "7311a2e9",
   "metadata": {},
   "outputs": [],
   "source": [
    "ctrl.canonical_form(sys_o, 'modal')"
   ]
  },
  {
   "cell_type": "markdown",
   "id": "b61f7ca3",
   "metadata": {},
   "source": [
    "Podemos ver ahora que la matriz $\\mathbf C$ no tiene ningún valor igual a 0, por lo que ahora el sistema sería observable (todos los modos están presentes de alguna manera en la salida). Pero tenemos un 0 en la primer fila de $\\mathbf B$, que se corresponde con el modo en -1. Esto quiere decir que no podemos excitar este modo. Por lo tanto no es controlable.\n",
    "\n",
    "```{important}\n",
    "La controlabilidad y la observabilidad pueden ser evaluadas con el sistema en su forma **canónica modal** analizando las relaciones  de la matrices $\\mathbf{B}$ y $\\mathbf{C}$ con la matriz $\\mathbf{A}$.\n",
    "```"
   ]
  }
 ],
 "metadata": {
  "jupytext": {
   "formats": "ipynb,md:myst",
   "text_representation": {
    "extension": ".md",
    "format_name": "myst",
    "format_version": 0.13,
    "jupytext_version": "1.11.0"
   }
  },
  "kernelspec": {
   "display_name": "Python 3",
   "language": "python",
   "name": "python3"
  },
  "source_map": [
   15,
   20,
   24,
   28,
   31,
   35,
   38,
   42,
   46,
   48,
   52,
   57,
   62,
   64,
   68,
   70,
   74,
   78,
   82,
   86,
   88,
   92,
   94,
   98,
   105,
   109,
   113,
   117,
   121,
   125,
   127,
   131,
   134,
   140,
   142,
   148,
   150,
   154,
   156,
   162,
   166,
   170,
   174,
   177,
   181,
   183,
   187,
   189,
   193,
   197,
   199,
   207,
   211,
   215,
   219,
   221,
   225,
   229,
   232,
   236,
   243,
   247,
   250,
   254,
   257,
   261,
   265,
   267,
   271,
   275,
   277,
   283,
   287,
   299,
   303,
   306,
   310,
   312,
   316,
   320,
   340,
   342,
   348,
   352,
   354
  ]
 },
 "nbformat": 4,
 "nbformat_minor": 5
}