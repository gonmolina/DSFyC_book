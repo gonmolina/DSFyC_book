{
 "cells": [
  {
   "cell_type": "markdown",
   "id": "4fd6a2a3",
   "metadata": {
    "colab_type": "text",
    "id": "V-kf_C3Hhklj"
   },
   "source": [
    "# Transformación lineal del espacio de estado\n",
    "\n",
    "Consideremos un sistema descripto por las ecuaciones de estado\n",
    "\n",
    "$$\n",
    "\\begin{array}{rcl}\n",
    "\\dot{\\mathbf {x}} &=&  \\mathbf A \\mathbf x + \\mathbf B \\mathbf u\\\\\n",
    " y &=& \\mathbf C \\mathbf x + Du\n",
    " \\end{array}\n",
    "$$\n",
    "\n",
    "Una transformación lineal mediante la matriz $\\mathbf T$, que hace:\n",
    "\n",
    "$$\\mathbf x= \\mathbf T \\mathbf z$$\n",
    "\n",
    "Sustituyendo la ecuación de la transformación en la de la ecuación de estados\n",
    "\n",
    "$$\n",
    "\\begin{array}{rl}\n",
    "\\dot{\\mathbf {x}} = \\mathbf {T\\dot z} &= \\mathbf {AT} \\mathbf z + \\mathbf B \\mathbf u\\\\\n",
    "\\dot{\\mathbf {z}} & = \\mathbf {T}^{-1}\\mathbf{AT} \\mathbf z + \\mathbf {T}^{-1}\\mathbf B \\mathbf u\n",
    " \\end{array}\n",
    "$$\n",
    "\n",
    "Sustituyendo el la ecuación de salida se tiene:\n",
    "\n",
    " $$y = \\mathbf C \\mathbf{Tz} + Du$$\n",
    " \n",
    "Comparando las ecuaciones del sistema transformado, podemos ver que la matriz $\\mathbf T$ transforma al sistema en:\n",
    "\n",
    "$$\n",
    "\\begin{array}{lll}\n",
    "\\mathbf{\\bar A} & = & \\mathbf {T^{-1}} \\mathbf A \\mathbf T\\\\\n",
    "\\mathbf{\\bar B} & = & \\mathbf{T^{-1} B}\\\\\n",
    "\\mathbf{\\bar C} & = & \\mathbf{CT}\\\\\n",
    "\\bar D &=& D\n",
    "\\end{array}\n",
    "$$"
   ]
  },
  {
   "cell_type": "markdown",
   "id": "5e330b93",
   "metadata": {},
   "source": [
    "# Transformación a la forma canónica de controlabilidad\n",
    "\n",
    "La matrices de un sistema de orden 3 lineal e invariante en el tiempo representado mediante su forma canónica de controlabilidad tiene la forma:\n",
    "\n",
    "$$\n",
    "A_c = \\begin{bmatrix}\n",
    "-a_1&-a_2&-a_3\\\\\n",
    "1&0&0\\\\\n",
    "0&1&0\\\\\n",
    "\\end{bmatrix},  \\qquad B_c=\\begin{bmatrix}\n",
    "1\\\\\n",
    "0\\\\\n",
    "0\\\\\n",
    "\\end{bmatrix}$$\n",
    "\n",
    "$$\n",
    "C_c=\\begin{bmatrix}\n",
    "c_1&c_2&c_3\n",
    "\\end{bmatrix}, \\qquad D_c=\\begin{bmatrix}0\\end{bmatrix}$$"
   ]
  },
  {
   "cell_type": "markdown",
   "id": "32768077",
   "metadata": {},
   "source": [
    "Como vimos anteriormente, una transformación lineal mediante la matriz $\\mathbf T$, que hace:\n",
    "\n",
    "$$\\mathbf x=\\mathbf{Tz}$$\n",
    "\n",
    "Por lo tanto podemos, llamando $\\mathbf{\\bar A} = \\mathbf A_c$, tenemos que:\n",
    "\n",
    "$$\\mathbf{A_c} \\mathbf {T^{-1}}=\\mathbf{T^{-1}} \\mathbf {A}$$\n",
    "\n",
    "Escribimos $\\mathbf {T^{-1}}$ como vectores fila, es decir:\n",
    "\n",
    "$$\\mathbf{T^{-1}} = \\begin{bmatrix}\n",
    "\\mathbf{t_1}\\\\\n",
    "\\mathbf{t_2}\\\\\n",
    "\\mathbf{t_3}\\\\\n",
    "\\end{bmatrix}$$\n",
    "\n",
    "$$\n",
    "\\begin{bmatrix}\n",
    "-a_1&-a_2&-a_3\\\\\n",
    "1&0&0\\\\\n",
    "0&1&0\\\\\n",
    "\\end{bmatrix} \n",
    "\\begin{bmatrix}\n",
    "\\mathbf{t_1}\\\\\n",
    "\\mathbf{t_2}\\\\\n",
    "\\mathbf{t_3}\\\\\n",
    "\\end{bmatrix} = \\begin{bmatrix}\n",
    "\\mathbf{t_1}\\mathbf A\\\\\n",
    " \\mathbf{t_2}\\mathbf A\\\\\n",
    " \\mathbf{t_3}\\mathbf A\\\\\n",
    "\\end{bmatrix}\n",
    "$$"
   ]
  },
  {
   "cell_type": "markdown",
   "id": "f481cad2",
   "metadata": {},
   "source": [
    "Trabajando con las columnas 2 y 3 se tiene que:\n",
    "\n",
    "$$\\left.\\begin{array}{lll}\n",
    "\\mathbf{t_1} &=&\\mathbf{t_2 A}\\\\\n",
    "\\mathbf{t_2} &=& \\mathbf{t_3 A}\\end{array}\\right\\}\\implies \\mathbf{t_1} =\\mathbf{t_3A}^2\n",
    "$$"
   ]
  },
  {
   "cell_type": "markdown",
   "id": "ba5e7f4e",
   "metadata": {},
   "source": [
    "Por otro lado, asumiendo que $\\mathbf B_c$ está en la forma canónica de control, tenemos la relación\n",
    "\n",
    "$$ \\mathbf{T^{-1}}\\mathbf B=\\mathbf{B_c}$$ \n",
    "\n",
    "o:\n",
    "\n",
    "$$  \\begin{bmatrix}\n",
    "\\mathbf{t_1}\\mathbf B\\\\\n",
    "\\mathbf{t_2}\\mathbf B\\\\\n",
    "\\mathbf{t_3}\\mathbf B\\\\\n",
    "\\end{bmatrix} = \\begin{bmatrix}\n",
    "1\\\\\n",
    "0\\\\\n",
    "0\\\\\n",
    "\\end{bmatrix}$$  \n",
    "\n",
    "Combinando las ecuaciones anteriores se tiene que:\n",
    "\n",
    "$$\\begin{array}{lcccl}\n",
    "\\mathbf{t_3}\\mathbf B &=& 0\\\\\n",
    "\\mathbf{t_2}\\mathbf B &=& \\mathbf{t_3}\\mathbf {AB} &=& 0\\\\\n",
    "\\mathbf{t_1}\\mathbf B &=& \\mathbf{t_3}\\mathbf {A^2B} &=& 1\\\\\n",
    "\\end{array}$$\n",
    "\n",
    "Estas ecuaciones pueden ser escritas de la siguiente manera:\n",
    "\n",
    "$$\\mathbf{t_3}\\left[\\mathbf B\\quad \\mathbf{AB}\\quad \\mathbf{A^2B}\\right] = \\left[0\\quad 0 \\quad 1 \\right]$$\n",
    "\n",
    "$$\\mathbf{t_3}=[0\\quad 0 \\quad 1]\\mathcal{C}^{-1}$$\n",
    "\n",
    "donde $\\mathcal C$ es la matriz de controlabilidad, con $\\mathcal C = \\left[\\mathbf B\\quad \\mathbf{AB}\\quad \n",
    "\\mathbf{A^2B}\\right]$. \n",
    "\n",
    "Obteniendo $\\mathbf{t_3}$ podemos obtener el resto de las filas de $\\mathbf{T^{-1}}$.\n",
    "\n",
    "Por lo tanto, en general para un sistema de orden $n$, la matriz de controlabilidad es:\n",
    "\n",
    "$$\\mathcal C =\\left[ \\mathbf{B}\\quad\\mathbf{AB}\\quad\\mathbf{A^2B}\\quad\\dots\\quad\\mathbf{A^{n-1}B}\\right]$$\n",
    "\n",
    "Por lo tanto, la última columna de la matriz $\\mathbf{T^{-1}}$ resulta:\n",
    "\n",
    "$$\\mathbf{t_n}=\\left[0\\quad 0\\quad\\dots\\quad 1\\right]\\mathcal C^{-1}$$\n",
    "\n",
    "La matriz $T^{-1}$  se construye como:\n",
    "\n",
    "$$\n",
    "\\mathbf{T^{-1}}=\\begin{bmatrix}\n",
    "\\mathbf{t_n}\\mathbf{A^{n-1}}\\\\\n",
    "\\mathbf{t_n}\\mathbf{A^{n-2}}\\\\\n",
    "\\vdots\\\\\n",
    "\\mathbf{t_n}\\\\\n",
    "\\end{bmatrix}\n",
    "$$"
   ]
  },
  {
   "cell_type": "markdown",
   "id": "4cefcd60",
   "metadata": {},
   "source": [
    "## Definición:\n",
    "**Un sistema es controlable si existe su forma canónica de controlabilidad.**\n",
    "\n",
    "Podemos ver de las ecuaciones anteriores que solamente podremos obtener $\\mathbf{T^{-1}}$ y por ende $\\mathbf{T}$, si existe $\\mathcal{C}^{-1}$. Para esto tenemos que asegurar que el rango de $\\mathcal C$ sea igual al orden del sistema $n$.\n",
    "\n",
    "Es importante notar que al definir la controlabilidad no depende de la matriz $\\mathbf{C}$, sino que depende solo de la matriz $\\mathbf{A}$ y $\\mathbf{B}$.\n",
    "\n",
    "La matriz $\\mathbf{B}$ es la relacionada con las entradas del sistema. Nada tiene que ver con las salidas. En caso del que el sistema no sea controlable será necesario rediseñar la forma en que actuamos sobre del sistema. Nada resolveremos respecto a la controlabilidad cambiando, mejorando o agregando mediciones.\n",
    "\n",
    "\n",
    "\n",
    "# Transformación a la forma canónica de observabilidad\n",
    "\n",
    "\n",
    "La matrices de un sistema de orden 3 lineal e invariante en el tiempo representado mediante su forma canónica de observabilidad tiene la forma:\n",
    "\n",
    "$$\n",
    "\\mathbf{A_o} = \\begin{bmatrix}\n",
    "-a_1&1&0\\\\\n",
    "-a_2&0&1\\\\\n",
    "-a_3&0&0\\\\\n",
    "\\end{bmatrix},  \\qquad \\mathbf{B_o}=\\begin{bmatrix}\n",
    "b_1\\\\\n",
    "b_2\\\\\n",
    "b_3\\\\\n",
    "\\end{bmatrix}$$\n",
    "\n",
    "$$\n",
    "\\mathbf{C_o}=\\begin{bmatrix}\n",
    "1&0&0\n",
    "\\end{bmatrix}, \\qquad D_o=\\begin{bmatrix}0\\end{bmatrix}$$"
   ]
  },
  {
   "cell_type": "markdown",
   "id": "43e08d30",
   "metadata": {},
   "source": [
    "Como vimos anteriormente, una transformación lineal mediante la matriz $\\mathbf{T}$, que hace:\n",
    "\n",
    "$$\\mathbf{x}=\\mathbf{Tz}$$"
   ]
  },
  {
   "cell_type": "markdown",
   "id": "a02157fa",
   "metadata": {},
   "source": [
    "Esto transforma a mi sistema en:\n",
    "\n",
    "$$\n",
    "\\begin{array}{rcl}\n",
    "\\bar{\\mathbf{A}} &=& \\mathbf{T^{-1} A T}\\\\\n",
    "\\bar{\\mathbf{B}} &=& \\mathbf{T^{-1} B}\\\\\n",
    "\\bar{\\mathbf{C}} &=&\\mathbf{CT}\\\\\n",
    "\\bar D &=& D\n",
    "\\end{array}\n",
    "$$"
   ]
  },
  {
   "cell_type": "markdown",
   "id": "23419371",
   "metadata": {},
   "source": [
    "Como queremos obtener el forma canónica de observabilidad llamamos $\\mathbf{\\bar A} = \\mathbf{A_o}$, $\\mathbf{\\bar B} =  \\mathbf{B_o}$, $\\mathbf{\\bar C} = \\mathbf{C_o}$ y a $\\bar D = D_o$. \n",
    "\n",
    "De las ecuaciones de la transformación tenemos:\n",
    "\n",
    "$$\\mathbf{TA_o}=\\mathbf{AT}$$\n",
    "\n",
    "Escribiendo $\\mathbf{T}$ como:\n",
    "\n",
    "$$\n",
    "\\mathbf{T}=\\begin{bmatrix}\n",
    "\\mathbf{t_1}&\\mathbf{t_2}&\\mathbf{t_3}\n",
    "\\end{bmatrix}$$\n",
    "\n",
    "donde $\\mathbf{t_1}, \\mathbf{t_2}, \\mathbf{t_3}$ son vectores columnas que se corresponden con las columnas de $\\mathbf{T}$."
   ]
  },
  {
   "cell_type": "markdown",
   "id": "bb8a6b89",
   "metadata": {},
   "source": [
    "De esta manera tenemos que:\n",
    "\n",
    "$$\n",
    "\\begin{bmatrix}\n",
    "\\mathbf{t_1}&\\mathbf{t_2}&\\mathbf{t_3}\n",
    "\\end{bmatrix}\\begin{bmatrix}\n",
    "-a_1&1&0\\\\\n",
    "-a_2&0&1\\\\\n",
    "-a_3&0&0\\\\\n",
    "\\end{bmatrix}=\\begin{bmatrix}\n",
    "\\mathbf{At_1}&\\mathbf{At_2}&\\mathbf{At_3}\n",
    "\\end{bmatrix}$$"
   ]
  },
  {
   "cell_type": "markdown",
   "id": "514a29c9",
   "metadata": {},
   "source": [
    "De esta manera podemos obtener las siguientes igualdades:\n",
    "\n",
    "$$\n",
    "\\left.\\begin{array}{lll}\n",
    "\\mathbf{t_1} &=& \\mathbf{At_2}\\\\\n",
    "\\mathbf{t_2} &=& \\mathbf{At_3}\\end{array}\\right\\}\\implies \\mathbf{t_1} =\\mathbf{A^2t_3}$$"
   ]
  },
  {
   "cell_type": "markdown",
   "id": "0e8e834f",
   "metadata": {},
   "source": [
    "Usando la ecuación de la transformación de la matriz $\\mathbf{C_o=CT}$, se tiene que:\n",
    "\n",
    "$$\\begin{bmatrix}\n",
    "1&0&0\n",
    "\\end{bmatrix}=\\begin{bmatrix}\n",
    "\\mathbf{Ct_1}&\\mathbf{Ct_2}&\\mathbf{Ct_3}\n",
    "\\end{bmatrix}=\\begin{bmatrix}\n",
    "\\mathbf{CA}^2\\mathbf{t_3}&\\mathbf{CAt_3}&\\mathbf{Ct_3}\n",
    "\\end{bmatrix}$$"
   ]
  },
  {
   "cell_type": "markdown",
   "id": "2dfc8ec1",
   "metadata": {},
   "source": [
    "Esto lo podemos reordenar como un sistema de ecuaciones en forma matricial de la siguiente manera:\n",
    "\n",
    "$$\\begin{bmatrix}\n",
    "\\mathbf{C}\\\\\n",
    "\\mathbf{CA}\\\\\n",
    "\\mathbf{CA}^2\n",
    "\\end{bmatrix}\\mathbf{t_3} = \\begin{bmatrix}\n",
    "0\\\\\n",
    "0\\\\\n",
    "1\n",
    "\\end{bmatrix}$$"
   ]
  },
  {
   "cell_type": "markdown",
   "id": "ba92bea5",
   "metadata": {},
   "source": [
    "Llamando a la matriz de observabilidad \n",
    "\n",
    "$$\\mathcal{O}=\\begin{bmatrix}\n",
    "\\mathbf{C}\\\\\n",
    "\\mathbf{CA}\\\\\n",
    "\\mathbf{CA}^2\n",
    "\\end{bmatrix}$$\n",
    "\n",
    "podemos obtener $\\mathbf{t_3}$ que es la última columna de la matriz de transformación $\\mathbf{T}$, y con esta la otras columnas de la matriz de transformación."
   ]
  },
  {
   "cell_type": "markdown",
   "id": "1551485b",
   "metadata": {},
   "source": [
    "En general para un sistema de orden $n$, la matriz $\\mathcal{O}$ resulta\n",
    "\n",
    "$$\\mathcal{O}=\\begin{bmatrix}\n",
    "\\mathbf{C}\\\\\n",
    "\\mathbf{CA}\\\\\n",
    "\\vdots\\\\\n",
    "\\mathbf{CA}^{n-1}\n",
    "\\end{bmatrix}$$\n",
    "\n",
    "y la última columna de la matriz de transformación resulta:\n",
    "\n",
    "$$\\mathbf{t_n} = \\mathcal{O}^{-1}\\begin{bmatrix}\n",
    "0\\\\\n",
    "0\\\\\n",
    "\\vdots\\\\\n",
    "1\n",
    "\\end{bmatrix}\n",
    "$$\n",
    "\n",
    "```{admonition} Definición\n",
    "\n",
    "Un sistema es observable si existe su forma canónica de observabilidad.\n",
    "```\n",
    "\n",
    "Podemos ver de las ecuaciones anteriores que solamente podremos obtener $\\mathbf{T}$ si existe $\\mathcal{O}^{-1}$. Para esto tenemos que asegurar que el rango de $\\mathcal O$ sea igual al orden del sistema $n$.\n",
    "\n",
    "Es importante notar que definir la observabilidad no depende de la matriz $\\mathbf{B}$, sino que depende solo de la matriz $\\mathbf{A}$ y $\\mathbf{C}$.\n",
    "\n",
    "La matriz $\\mathbf{C}$ es la relacionada con las salidas del sistema. Nada tiene que ver con las entradas. En caso del que el sistema no sea observable será necesario rediseñar la forma en que tomamos las mediciones del sistema. Nada resolveremos respecto a la observabilidad modificando los actuadores."
   ]
  },
  {
   "cell_type": "markdown",
   "id": "472cc9c6",
   "metadata": {},
   "source": [
    "## Ejemplo masa resorte: obtener la forma canónica de observabilidad y con matriz de transformación T"
   ]
  },
  {
   "cell_type": "code",
   "execution_count": 1,
   "id": "e72a5556",
   "metadata": {
    "tags": [
     "remove-cell"
    ]
   },
   "outputs": [],
   "source": [
    "import control as ctrl\n",
    "import numpy as np"
   ]
  },
  {
   "cell_type": "markdown",
   "id": "63f5bf72",
   "metadata": {},
   "source": [
    "Definimos los parámetros del sistema"
   ]
  },
  {
   "cell_type": "code",
   "execution_count": 2,
   "id": "8676c453",
   "metadata": {},
   "outputs": [],
   "source": [
    "b=20\n",
    "k=10\n",
    "m=1"
   ]
  },
  {
   "cell_type": "markdown",
   "id": "3fb4d450",
   "metadata": {},
   "source": [
    "Definimos las matrices del sistema a partir de las ecuaciones diferenciales:"
   ]
  },
  {
   "cell_type": "code",
   "execution_count": 3,
   "id": "732da01d",
   "metadata": {},
   "outputs": [
    {
     "data": {
      "text/latex": [
       "\\[\n",
       "\\left(\n",
       "\\begin{array}{rllrll|rll}\n",
       "0\\phantom{.}&\\hspace{-1em}&\\hspace{-1em}\\phantom{\\cdot}&1\\phantom{.}&\\hspace{-1em}&\\hspace{-1em}\\phantom{\\cdot}&0\\phantom{.}&\\hspace{-1em}&\\hspace{-1em}\\phantom{\\cdot}\\\\\n",
       "-10\\phantom{.}&\\hspace{-1em}&\\hspace{-1em}\\phantom{\\cdot}&-20\\phantom{.}&\\hspace{-1em}&\\hspace{-1em}\\phantom{\\cdot}&1\\phantom{.}&\\hspace{-1em}&\\hspace{-1em}\\phantom{\\cdot}\\\\\n",
       "\\hline\n",
       "1\\phantom{.}&\\hspace{-1em}&\\hspace{-1em}\\phantom{\\cdot}&0\\phantom{.}&\\hspace{-1em}&\\hspace{-1em}\\phantom{\\cdot}&0\\phantom{.}&\\hspace{-1em}&\\hspace{-1em}\\phantom{\\cdot}\\\\\n",
       "\\end{array}\\right)\n",
       "\\]"
      ],
      "text/plain": [
       "StateSpace(array([[  0.,   1.],\n",
       "       [-10., -20.]]), array([[0.],\n",
       "       [1.]]), array([[1., 0.]]), array([[0.]]))"
      ]
     },
     "execution_count": 3,
     "metadata": {},
     "output_type": "execute_result"
    }
   ],
   "source": [
    "A=np.array([[0,1],\n",
    "   [-k/m, -b/m]])\n",
    "\n",
    "B=np.array([[0,1/m ]]).T\n",
    "C=np.array([[1,0]])\n",
    "D=np.array([0])\n",
    "sys = ctrl.ss(A,B,C,D)\n",
    "sys"
   ]
  },
  {
   "cell_type": "markdown",
   "id": "f19664a0",
   "metadata": {},
   "source": [
    "Para obtener la forma canónica de observabilidad debemos obtener la matriz $\\mathcal{O}$. Como el sistema es de orden 2 es:\n",
    "\n",
    "$$\\mathcal{O}=\\begin{bmatrix}\n",
    "\\mathbf C\\\\\n",
    "\\mathbf{CA}\n",
    "\\end{bmatrix}$$"
   ]
  },
  {
   "cell_type": "markdown",
   "id": "4996fcf1",
   "metadata": {},
   "source": [
    "Apilamos verticalmente $\\mathbf C$ y $\\mathbf{CA}$"
   ]
  },
  {
   "cell_type": "code",
   "execution_count": 4,
   "id": "7d5ea885",
   "metadata": {},
   "outputs": [
    {
     "data": {
      "text/plain": [
       "array([[1., 0.],\n",
       "       [0., 1.]])"
      ]
     },
     "execution_count": 4,
     "metadata": {},
     "output_type": "execute_result"
    }
   ],
   "source": [
    "O=np.vstack((sys.C, sys.C@sys.A))\n",
    "O"
   ]
  },
  {
   "cell_type": "markdown",
   "id": "c29561b4",
   "metadata": {},
   "source": [
    "Ahora calculamos la última columna de $\\mathbf T$."
   ]
  },
  {
   "cell_type": "code",
   "execution_count": 5,
   "id": "701b9e45",
   "metadata": {},
   "outputs": [
    {
     "data": {
      "text/plain": [
       "matrix([[0.],\n",
       "        [1.]])"
      ]
     },
     "execution_count": 5,
     "metadata": {},
     "output_type": "execute_result"
    }
   ],
   "source": [
    "t2=np.linalg.inv(O)*np.matrix(\"0;1\")\n",
    "t2"
   ]
  },
  {
   "cell_type": "markdown",
   "id": "282a8228",
   "metadata": {},
   "source": [
    "Calculamos la columna $\\mathbf {t_1}$"
   ]
  },
  {
   "cell_type": "code",
   "execution_count": 6,
   "id": "46ff9e85",
   "metadata": {},
   "outputs": [],
   "source": [
    "t1=A@t2"
   ]
  },
  {
   "cell_type": "code",
   "execution_count": 7,
   "id": "ced17be6",
   "metadata": {},
   "outputs": [
    {
     "data": {
      "text/plain": [
       "matrix([[  1.],\n",
       "        [-20.]])"
      ]
     },
     "execution_count": 7,
     "metadata": {},
     "output_type": "execute_result"
    }
   ],
   "source": [
    "t1"
   ]
  },
  {
   "cell_type": "markdown",
   "id": "66611848",
   "metadata": {},
   "source": [
    "Apilamos horizontalmente $\\mathbf{t_1}$ y $\\mathbf{t_2}$."
   ]
  },
  {
   "cell_type": "code",
   "execution_count": 8,
   "id": "55dad88b",
   "metadata": {},
   "outputs": [
    {
     "data": {
      "text/plain": [
       "matrix([[  1.,   0.],\n",
       "        [-20.,   1.]])"
      ]
     },
     "execution_count": 8,
     "metadata": {},
     "output_type": "execute_result"
    }
   ],
   "source": [
    "T=np.hstack((t1,t2))\n",
    "T"
   ]
  },
  {
   "cell_type": "code",
   "execution_count": 9,
   "id": "2d65a3f9",
   "metadata": {},
   "outputs": [
    {
     "data": {
      "text/plain": [
       "matrix([[ 1., -0.],\n",
       "        [20.,  1.]])"
      ]
     },
     "execution_count": 9,
     "metadata": {},
     "output_type": "execute_result"
    }
   ],
   "source": [
    "invT=np.linalg.inv(T)\n",
    "invT"
   ]
  },
  {
   "cell_type": "markdown",
   "id": "22e6fa63",
   "metadata": {},
   "source": [
    "Finalmente calculamos las matrices del sistema transformado:"
   ]
  },
  {
   "cell_type": "code",
   "execution_count": 10,
   "id": "47fa05c1",
   "metadata": {},
   "outputs": [],
   "source": [
    "Ao=invT@sys.A@T\n",
    "Bo=invT@B\n",
    "Co=sys.C@T\n",
    "Do=D"
   ]
  },
  {
   "cell_type": "markdown",
   "id": "ccbc9519",
   "metadata": {},
   "source": [
    "Podemos verificar que las funciones transferencias del sistema antes de transformar y después de transformarlo son las mismas:"
   ]
  },
  {
   "cell_type": "code",
   "execution_count": 11,
   "id": "45ee3641",
   "metadata": {},
   "outputs": [
    {
     "data": {
      "text/latex": [
       "\\[\n",
       "\\left(\n",
       "\\begin{array}{rllrll|rll}\n",
       "-20\\phantom{.}&\\hspace{-1em}&\\hspace{-1em}\\phantom{\\cdot}&1\\phantom{.}&\\hspace{-1em}&\\hspace{-1em}\\phantom{\\cdot}&0\\phantom{.}&\\hspace{-1em}&\\hspace{-1em}\\phantom{\\cdot}\\\\\n",
       "-10\\phantom{.}&\\hspace{-1em}&\\hspace{-1em}\\phantom{\\cdot}&0\\phantom{.}&\\hspace{-1em}&\\hspace{-1em}\\phantom{\\cdot}&1\\phantom{.}&\\hspace{-1em}&\\hspace{-1em}\\phantom{\\cdot}\\\\\n",
       "\\hline\n",
       "1\\phantom{.}&\\hspace{-1em}&\\hspace{-1em}\\phantom{\\cdot}&0\\phantom{.}&\\hspace{-1em}&\\hspace{-1em}\\phantom{\\cdot}&0\\phantom{.}&\\hspace{-1em}&\\hspace{-1em}\\phantom{\\cdot}\\\\\n",
       "\\end{array}\\right)\n",
       "\\]"
      ],
      "text/plain": [
       "StateSpace(array([[-20.,   1.],\n",
       "       [-10.,   0.]]), array([[0.],\n",
       "       [1.]]), array([[1., 0.]]), array([[0.]]))"
      ]
     },
     "execution_count": 11,
     "metadata": {},
     "output_type": "execute_result"
    }
   ],
   "source": [
    "sys_o=ctrl.ss(Ao,Bo,Co,Do)\n",
    "sys_o"
   ]
  },
  {
   "cell_type": "code",
   "execution_count": 12,
   "id": "7153f9a6",
   "metadata": {},
   "outputs": [
    {
     "name": "stdout",
     "output_type": "stream",
     "text": [
      "sistema sin transformar: \n",
      "       1\n",
      "---------------\n",
      "s^2 + 20 s + 10\n",
      " sistema en su forma canónica de observabilidad: \n",
      "       1\n",
      "---------------\n",
      "s^2 + 20 s + 10\n",
      "\n"
     ]
    }
   ],
   "source": [
    "print(\"sistema sin transformar:\",ctrl.tf(sys),\"sistema en su forma canónica de observabilidad:\", ctrl.tf(sys_o))"
   ]
  },
  {
   "cell_type": "markdown",
   "id": "1b7475bf",
   "metadata": {},
   "source": [
    "## Obtención de la forma canónica de controlabilidad\n",
    "\n",
    "\n",
    "Para obtener la forma canónica de controlabilidad debemos obtener la matriz $\\mathcal{C}$. Como el sistema es de orden 2 es:\n",
    "\n",
    "$$\\mathcal{C}=\\begin{bmatrix}\n",
    "\\mathbf B & \\mathbf{AB}\n",
    "\\end{bmatrix}$$\n",
    "\n",
    "Apilamos horizontalmente $\\mathbf B$ y $\\mathbf{AB}$"
   ]
  },
  {
   "cell_type": "code",
   "execution_count": 13,
   "id": "f9508a76",
   "metadata": {},
   "outputs": [
    {
     "data": {
      "text/plain": [
       "array([[  0.,   1.],\n",
       "       [  1., -20.]])"
      ]
     },
     "execution_count": 13,
     "metadata": {},
     "output_type": "execute_result"
    }
   ],
   "source": [
    "Con=np.hstack((sys.B,sys.A@sys.B))\n",
    "Con"
   ]
  },
  {
   "cell_type": "markdown",
   "id": "7421fab2",
   "metadata": {},
   "source": [
    "Ahora calculamos la última fila de $\\mathbf{T}^{-1}$, $\\mathbf{t2}$"
   ]
  },
  {
   "cell_type": "code",
   "execution_count": 14,
   "id": "c50aab62",
   "metadata": {},
   "outputs": [
    {
     "data": {
      "text/plain": [
       "matrix([[1., 0.]])"
      ]
     },
     "execution_count": 14,
     "metadata": {},
     "output_type": "execute_result"
    }
   ],
   "source": [
    "t2=np.matrix([[0,1]])*np.linalg.inv(Con)\n",
    "t2"
   ]
  },
  {
   "cell_type": "markdown",
   "id": "7e761f3d",
   "metadata": {},
   "source": [
    "Calculamos la fila $\\mathbf {t_1}$"
   ]
  },
  {
   "cell_type": "code",
   "execution_count": 15,
   "id": "f03cd578",
   "metadata": {},
   "outputs": [],
   "source": [
    "t1=t2@A"
   ]
  },
  {
   "cell_type": "code",
   "execution_count": 16,
   "id": "cee06554",
   "metadata": {},
   "outputs": [
    {
     "data": {
      "text/plain": [
       "matrix([[0., 1.]])"
      ]
     },
     "execution_count": 16,
     "metadata": {},
     "output_type": "execute_result"
    }
   ],
   "source": [
    "t1"
   ]
  },
  {
   "cell_type": "markdown",
   "id": "448ef241",
   "metadata": {},
   "source": [
    "Apilamos verticalmente $\\mathbf{t_1}$ y $\\mathbf{t_2}$."
   ]
  },
  {
   "cell_type": "code",
   "execution_count": 17,
   "id": "feebeb62",
   "metadata": {},
   "outputs": [],
   "source": [
    "invT=np.vstack((t1,t2))\n",
    "T=np.linalg.inv(invT)"
   ]
  },
  {
   "cell_type": "markdown",
   "id": "28b12a20",
   "metadata": {},
   "source": [
    "Finalmente calculamos las matrices del sistema transformado:"
   ]
  },
  {
   "cell_type": "code",
   "execution_count": 18,
   "id": "f2cd8b75",
   "metadata": {},
   "outputs": [],
   "source": [
    "Ac=invT*sys.A*T\n",
    "Bc=invT@B\n",
    "Cc=sys.C@T\n",
    "Dc=D"
   ]
  },
  {
   "cell_type": "markdown",
   "id": "f3d62924",
   "metadata": {},
   "source": [
    "Podemos verificar que las funciones transferencias del sistema antes de transformar y después de transformarlo son las mismas:"
   ]
  },
  {
   "cell_type": "code",
   "execution_count": 19,
   "id": "3d4a105c",
   "metadata": {},
   "outputs": [],
   "source": [
    "sys_c=ctrl.ss(Ac,Bc,Cc,Dc)"
   ]
  },
  {
   "cell_type": "code",
   "execution_count": 20,
   "id": "00d599b8",
   "metadata": {},
   "outputs": [
    {
     "name": "stdout",
     "output_type": "stream",
     "text": [
      "sistema sin transformar: \n",
      "       1\n",
      "---------------\n",
      "s^2 + 20 s + 10\n",
      " sistema en su forma canónica de controlabilidad: \n",
      "       1\n",
      "---------------\n",
      "s^2 + 20 s + 10\n",
      "\n"
     ]
    }
   ],
   "source": [
    "print(\"sistema sin transformar:\",ctrl.tf(sys),\"sistema en su forma canónica de controlabilidad:\", ctrl.tf(sys_c))"
   ]
  },
  {
   "cell_type": "markdown",
   "id": "58aa6fe6",
   "metadata": {},
   "source": [
    "## Transformación a la forma canónica modal:\n",
    "\n",
    "Veremos solo el caso de autovalores reales simples.\n",
    "\n",
    "### Definición.\n",
    "\n",
    "Sea la matriz $\\mathbf{A} \\in \\Bbb R^{n\\times n}$. Diremos que  $\\lambda \\in \\Bbb K (= \\Bbb R\\text{ o } \\Bbb C)$ es un autovalor de $\\mathbf{A}$ si existe un vector $\\mathbf{v} \\in \\Bbb K^n$, con $\\mathbf v \\neq 0$ tal que:\n",
    "\n",
    "$$\\mathbf{Av}=\\lambda \\mathbf{v}$$\n",
    "\n",
    "en cuyo caso se dice que $\\mathbf{v}$ es un autovector asociado al autovalor $\\lambda$."
   ]
  },
  {
   "cell_type": "markdown",
   "id": "6d395eab",
   "metadata": {},
   "source": [
    "Suponiendo que $\\mathbf A$ tienen $n$ autovalores diferentes, entonces podemos escribir en forma matricial $n$ ecuaciones para los $n$ pares autovalores-autovector"
   ]
  },
  {
   "cell_type": "markdown",
   "id": "2986240b",
   "metadata": {},
   "source": [
    "$$\n",
    "\\begin{bmatrix}\n",
    "\\mathbf{v_1}&\\mathbf{v_2}&\\mathbf{v_3}\n",
    "\\end{bmatrix}\\begin{bmatrix}\n",
    "\\lambda_1&0&0\\\\\n",
    "0&\\lambda_2&0\\\\\n",
    "0&0&\\lambda_3\\\\\n",
    "\\end{bmatrix}=\\mathbf A\\begin{bmatrix}\n",
    "\\mathbf{v_1}&\\mathbf{v_2}&\\mathbf{v_3}\n",
    "\\end{bmatrix}$$"
   ]
  },
  {
   "cell_type": "markdown",
   "id": "2c20ab3e",
   "metadata": {},
   "source": [
    "Si hacemos que:\n",
    "\n",
    "$$\\mathbf{T}=\\begin{bmatrix}\n",
    "\\mathbf{v_1}&\\mathbf{v_2}&\\mathbf{v_3}\n",
    "\\end{bmatrix}$$\n",
    "\n",
    "tenemos que:\n",
    "\n",
    "$$\\begin{bmatrix}\n",
    "\\lambda_1&0&0\\\\\n",
    "0&\\lambda_2&0\\\\\n",
    "0&0&\\lambda_3\\\\\n",
    "\\end{bmatrix}=\\mathbf{T}^{-1}\\mathbf{A T}$$\n",
    "\n",
    "\n",
    "donde:\n",
    "\n",
    "$$\\mathbf{A_m}=\\begin{bmatrix}\n",
    "\\lambda_1&0&0\\\\\n",
    "0&\\lambda_2&0\\\\\n",
    "0&0&\\lambda_3\\\\\n",
    "\\end{bmatrix}$$\n",
    "\n",
    "Nuevamente $\\mathbf{B_m}$ se obtiene como $\\mathbf{B_m}=\\mathbf{T}^{-1}\\mathbf{B}$ y $\\mathbf{C_m}=\\mathbf{CT}$ \n",
    "\n",
    "La forma canónica modal tiene la particularidad de independizar los estados unos de otros. Es decir, cada estado se conecta solo con la entrada y con la salida y no se conectan entre si (cada estado no depende de otro estado).\n",
    "\n",
    "Esta forma canónica nos da la posibilidad de estudiar controlabilidad y observabilidad sin pasar por las matrices $\\mathcal C$ y $\\mathcal O$. \n",
    "\n",
    "Si todos los estados están conectados con la entrada entonces el sistema es controlable. Para que se de esto, la matriz $\\mathbf{B_m}$  tiene que tener todas sus componentes distintas de 0.\n",
    "\n",
    "Si todos los estados están conectados con la salida entonces el sistema es observable. Para que se de esto, la matriz $\\mathbf{C_m}$ tiene que tener todas sus componentes distintas de 0."
   ]
  },
  {
   "cell_type": "markdown",
   "id": "933e0307",
   "metadata": {},
   "source": [
    "## Ejemplo de transformación a la forma canónica modal\n",
    "\n",
    "La matriz de transformación son los autovectores. \n",
    "\n",
    "El módulo linalg de numpy tiene una función que se llama eig, que los devuelve los autovectores y autovalores. Los autovalores lo devuelve en forma de ndarray y luego devuelvo los autovalores como un array. Vamos a utilizar esta función para calcular la matriz de transformación $T$. Los autovalores los vamos a usar para verificar que luego de aplicar la transformación la matriz $A_m$ resulte ser diagonal con los autovalores en la diagonal."
   ]
  },
  {
   "cell_type": "code",
   "execution_count": 21,
   "id": "31e672a6",
   "metadata": {},
   "outputs": [
    {
     "name": "stdout",
     "output_type": "stream",
     "text": [
      "autovectores:\n",
      "  [[ 0.88969225 -0.05124927]\n",
      " [-0.45656072  0.99868589]]\n",
      "autovalores:\n",
      "  [ -0.51316702 -19.48683298]\n"
     ]
    }
   ],
   "source": [
    "lamb,v=np.linalg.eig(A)\n",
    "print(\"autovectores:\\n \", v)\n",
    "print(\"autovalores:\\n \", lamb )"
   ]
  },
  {
   "cell_type": "markdown",
   "id": "8ad74654",
   "metadata": {},
   "source": [
    "La matriz de transformación T es la de los autovectores. Entonces:"
   ]
  },
  {
   "cell_type": "code",
   "execution_count": 22,
   "id": "dae77212",
   "metadata": {},
   "outputs": [],
   "source": [
    "T=v\n",
    "invT=np.linalg.inv(T)"
   ]
  },
  {
   "cell_type": "markdown",
   "id": "cbd968b9",
   "metadata": {},
   "source": [
    "Calculamos la transformación:"
   ]
  },
  {
   "cell_type": "code",
   "execution_count": 23,
   "id": "5a64967a",
   "metadata": {},
   "outputs": [],
   "source": [
    "Am=invT@A@T\n",
    "Bm=invT@B\n",
    "Cm=C@T\n",
    "Dm=D"
   ]
  },
  {
   "cell_type": "code",
   "execution_count": 24,
   "id": "1c86a4ac",
   "metadata": {},
   "outputs": [],
   "source": [
    "sys_m = ctrl.ss(Am,Bm,Cm,Dm)"
   ]
  },
  {
   "cell_type": "code",
   "execution_count": 25,
   "id": "279513af",
   "metadata": {},
   "outputs": [
    {
     "data": {
      "text/latex": [
       "\\[\n",
       "\\left(\n",
       "\\begin{array}{rllrll|rll}\n",
       "-0.&\\hspace{-1em}513&\\hspace{-1em}\\phantom{\\cdot}&9.&\\hspace{-1em}71&\\hspace{-1em}\\cdot10^{-17}&0.&\\hspace{-1em}0592&\\hspace{-1em}\\phantom{\\cdot}\\\\\n",
       "-1.&\\hspace{-1em}78&\\hspace{-1em}\\cdot10^{-15}&-19.&\\hspace{-1em}5&\\hspace{-1em}\\phantom{\\cdot}&1.&\\hspace{-1em}03&\\hspace{-1em}\\phantom{\\cdot}\\\\\n",
       "\\hline\n",
       "0.&\\hspace{-1em}89&\\hspace{-1em}\\phantom{\\cdot}&-0.&\\hspace{-1em}0512&\\hspace{-1em}\\phantom{\\cdot}&0\\phantom{.}&\\hspace{-1em}&\\hspace{-1em}\\phantom{\\cdot}\\\\\n",
       "\\end{array}\\right)\n",
       "\\]"
      ],
      "text/plain": [
       "StateSpace(array([[-5.13167019e-01,  9.71445147e-17],\n",
       "       [-1.77635684e-15, -1.94868330e+01]]), array([[0.05923917],\n",
       "       [1.0283977 ]]), array([[ 0.88969225, -0.05124927]]), array([[0.]]))"
      ]
     },
     "execution_count": 25,
     "metadata": {},
     "output_type": "execute_result"
    }
   ],
   "source": [
    "sys_m"
   ]
  },
  {
   "cell_type": "markdown",
   "id": "1f05f18e",
   "metadata": {},
   "source": [
    "Observando la matriz $\\mathbf{A}$ del sistema en su forma canónica modal tiene en su diagonal lo autovalores, y fuera de esto valores igual a 0 o muy cercanos a ceros. Las diferencias con ceros son error numéricos y podemos considerar que la transformación resultó correcta."
   ]
  },
  {
   "cell_type": "markdown",
   "id": "7a40de1b",
   "metadata": {},
   "source": [
    "Por otro lado podemos ver que todos las componentes de B en esta forma canónica son distintos de 0, por lo que el sistema es controlable."
   ]
  },
  {
   "cell_type": "markdown",
   "id": "a04e1e84",
   "metadata": {},
   "source": [
    "Finalmente, para el sistema en la forma canónica modal, todas las componentes de C son distintas de 0,por lo que el sistema es observable."
   ]
  },
  {
   "cell_type": "markdown",
   "id": "9147b2a3",
   "metadata": {},
   "source": [
    "```{warning}\n",
    "Respecto al uso de numpy. La multiplicación de matrices usando el * la entiende como elemento a elemento si el tipo de datos es un ndarray o un array. Si usamos ese tipo de datos, entonces para que numpy entienda multiplicación de matrices se debe usar el símbolo @. Si el tipo de datos que se está operando es una matriz de `numpy` entonces la multiplicación de matrices se puede hacer con *.\n",
    "\n",
    "```"
   ]
  }
 ],
 "metadata": {
  "jupytext": {
   "formats": "ipynb,md:myst",
   "text_representation": {
    "extension": ".md",
    "format_name": "myst",
    "format_version": 0.13,
    "jupytext_version": "1.10.3"
   }
  },
  "kernelspec": {
   "display_name": "Python 3 (ipykernel)",
   "language": "python",
   "name": "python3"
  },
  "language_info": {
   "codemirror_mode": {
    "name": "ipython",
    "version": 3
   },
   "file_extension": ".py",
   "mimetype": "text/x-python",
   "name": "python",
   "nbconvert_exporter": "python",
   "pygments_lexer": "ipython3",
   "version": "3.8.12"
  },
  "source_map": [
   15,
   56,
   78,
   113,
   122,
   178,
   212,
   218,
   231,
   248,
   263,
   272,
   284,
   298,
   310,
   342,
   346,
   351,
   355,
   359,
   363,
   372,
   381,
   385,
   388,
   392,
   395,
   399,
   403,
   405,
   409,
   414,
   417,
   421,
   426,
   430,
   435,
   437,
   450,
   453,
   457,
   460,
   464,
   468,
   470,
   474,
   477,
   481,
   486,
   490,
   494,
   496,
   510,
   514,
   527,
   562,
   570,
   574,
   578,
   581,
   585,
   592,
   596,
   598,
   602,
   606,
   610
  ]
 },
 "nbformat": 4,
 "nbformat_minor": 5
}