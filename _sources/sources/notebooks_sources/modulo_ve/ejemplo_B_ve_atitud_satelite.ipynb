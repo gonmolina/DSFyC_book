{
 "cells": [
  {
   "cell_type": "markdown",
   "id": "710843a8",
   "metadata": {
    "colab_type": "text",
    "id": "lxZfKlZ-kVxN"
   },
   "source": [
    "# Diseño del sistema de control del atitud de un satélite"
   ]
  },
  {
   "cell_type": "markdown",
   "id": "2a4f6045",
   "metadata": {
    "colab_type": "text",
    "id": "_EzuAq45kVxO"
   },
   "source": [
    "## Definimos el sistema:"
   ]
  },
  {
   "cell_type": "code",
   "execution_count": 1,
   "id": "b4314ce1",
   "metadata": {
    "colab": {},
    "colab_type": "code",
    "executionInfo": {
     "elapsed": 763,
     "status": "ok",
     "timestamp": 1600889891217,
     "user": {
      "displayName": "gonzalo molina",
      "photoUrl": "",
      "userId": "03146719216223860883"
     },
     "user_tz": 180
    },
    "id": "ByjXN7_nkVxP"
   },
   "outputs": [],
   "source": [
    "import numpy as np\n",
    "import control as ctrl\n",
    "import matplotlib.pyplot as plt\n",
    "%matplotlib inline"
   ]
  },
  {
   "cell_type": "markdown",
   "id": "9a117def",
   "metadata": {
    "colab_type": "text",
    "id": "yr0zAycUkVxV"
   },
   "source": [
    "Diseñar un compensador para la planta: \n",
    "\n",
    "$$ \\dot{\\mathbf{x}}=\\begin{bmatrix}\n",
    "0&1\\\\\n",
    "0&0\\\\\n",
    "\\end{bmatrix}\\mathbf{x}+\\begin{bmatrix}\n",
    "0\\\\\n",
    "1\n",
    "\\end{bmatrix}u$$\n",
    "\n",
    "$$ y=\\begin{bmatrix}\n",
    "1&0\\end{bmatrix}\\mathbf{x}.$$\n",
    "\n",
    "que ubique los polos tal que $\\omega_n =1$ y $\\zeta=0.707$:"
   ]
  },
  {
   "cell_type": "code",
   "execution_count": 2,
   "id": "b6334cc7",
   "metadata": {
    "colab": {},
    "colab_type": "code",
    "executionInfo": {
     "elapsed": 94,
     "status": "ok",
     "timestamp": 1600889892775,
     "user": {
      "displayName": "gonzalo molina",
      "photoUrl": "",
      "userId": "03146719216223860883"
     },
     "user_tz": 180
    },
    "id": "FqZgbz_IkVxW"
   },
   "outputs": [],
   "source": [
    "A=[[0,1],[0,0]]\n",
    "B=[[0],[1]]\n",
    "C=[[1,0]]\n",
    "D=[[0]]\n",
    "sys=ctrl.ss(A,B,C,D)"
   ]
  },
  {
   "cell_type": "markdown",
   "id": "fdabaf07",
   "metadata": {
    "colab_type": "text",
    "id": "hl1OfdGorC8C"
   },
   "source": [
    "## Análisis de Controlalibidad y Observabilidad"
   ]
  },
  {
   "cell_type": "markdown",
   "id": "4d40c589",
   "metadata": {
    "colab_type": "text",
    "id": "IWMewafdkVxb"
   },
   "source": [
    "Vemos que el sistema es controlable usando las matrices C y B  dadas. Aunque no lo sería se fuesen diferentes (es decir se actuara o se midiera diferente)."
   ]
  },
  {
   "cell_type": "code",
   "execution_count": 3,
   "id": "d714ecb4",
   "metadata": {
    "colab": {
     "base_uri": "https://localhost:8080/",
     "height": 85
    },
    "colab_type": "code",
    "executionInfo": {
     "elapsed": 85,
     "status": "ok",
     "timestamp": 1600889894935,
     "user": {
      "displayName": "gonzalo molina",
      "photoUrl": "",
      "userId": "03146719216223860883"
     },
     "user_tz": 180
    },
    "id": "JlpOQeukkVxc",
    "outputId": "d94493a0-d0b9-4be6-95a3-7ec74cf3d525"
   },
   "outputs": [
    {
     "name": "stdout",
     "output_type": "stream",
     "text": [
      "2\n",
      "1\n",
      "2\n",
      "1\n"
     ]
    }
   ],
   "source": [
    "print(np.linalg.matrix_rank(ctrl.obsv(A,C)))\n",
    "\n",
    "print(np.linalg.matrix_rank(ctrl.obsv(A,[[0,1]])))\n",
    "\n",
    "print(np.linalg.matrix_rank(ctrl.ctrb(A,B)))\n",
    "\n",
    "print(np.linalg.matrix_rank(ctrl.ctrb(A,[[1],[0]])))"
   ]
  },
  {
   "cell_type": "markdown",
   "id": "3aa4646f",
   "metadata": {
    "colab_type": "text",
    "id": "lL9UNOaXkVxh"
   },
   "source": [
    "Para cumplir con los requerimientos debemos ubicar los polos en $\\alpha_c = -0.7070 \\pm 0.0707j$."
   ]
  },
  {
   "cell_type": "markdown",
   "id": "ab6aa16d",
   "metadata": {
    "colab_type": "text",
    "id": "01TsvxNmrR05"
   },
   "source": [
    "## Ley de Control"
   ]
  },
  {
   "cell_type": "markdown",
   "id": "f8a9af2b",
   "metadata": {
    "colab_type": "text",
    "id": "iKyQsCp8kVxi"
   },
   "source": [
    "Usando el comando `acker` o `place` obtenemos la ley de control que ubica los polos del sistema donde queremos."
   ]
  },
  {
   "cell_type": "code",
   "execution_count": 4,
   "id": "707f9bf7",
   "metadata": {
    "colab": {
     "base_uri": "https://localhost:8080/",
     "height": 34
    },
    "colab_type": "code",
    "executionInfo": {
     "elapsed": 82,
     "status": "ok",
     "timestamp": 1600889897764,
     "user": {
      "displayName": "gonzalo molina",
      "photoUrl": "",
      "userId": "03146719216223860883"
     },
     "user_tz": 180
    },
    "id": "wOfCTiznkVxj",
    "outputId": "6cb91894-36a2-4406-f69b-482b6746e62f"
   },
   "outputs": [
    {
     "name": "stdout",
     "output_type": "stream",
     "text": [
      "[-0.70710678+0.70710678j -0.70710678-0.70710678j]\n"
     ]
    }
   ],
   "source": [
    "wnc=1\n",
    "zetac=np.sqrt(2)/2\n",
    "polyc=[1,2*zetac*wnc,wnc**2]\n",
    "alpha_c =np.roots(polyc)\n",
    "print(alpha_c)"
   ]
  },
  {
   "cell_type": "code",
   "execution_count": 5,
   "id": "a8c4da4c",
   "metadata": {
    "colab": {
     "base_uri": "https://localhost:8080/",
     "height": 34
    },
    "colab_type": "code",
    "executionInfo": {
     "elapsed": 72,
     "status": "ok",
     "timestamp": 1600889898437,
     "user": {
      "displayName": "gonzalo molina",
      "photoUrl": "",
      "userId": "03146719216223860883"
     },
     "user_tz": 180
    },
    "id": "qu9HKSJhkVxo",
    "outputId": "5ec4c221-09d0-4cf8-a31c-25e54cbfced1"
   },
   "outputs": [
    {
     "name": "stdout",
     "output_type": "stream",
     "text": [
      "[[1.         1.41421356]]\n"
     ]
    }
   ],
   "source": [
    "K = ctrl.place(A,B,alpha_c)\n",
    "print(K)"
   ]
  },
  {
   "cell_type": "markdown",
   "id": "41c9b888",
   "metadata": {
    "colab_type": "text",
    "id": "SQQ6KAikkVxt"
   },
   "source": [
    "Usando `acker`"
   ]
  },
  {
   "cell_type": "code",
   "execution_count": 6,
   "id": "7c0517e2",
   "metadata": {
    "colab": {
     "base_uri": "https://localhost:8080/",
     "height": 34
    },
    "colab_type": "code",
    "executionInfo": {
     "elapsed": 98,
     "status": "ok",
     "timestamp": 1600889899763,
     "user": {
      "displayName": "gonzalo molina",
      "photoUrl": "",
      "userId": "03146719216223860883"
     },
     "user_tz": 180
    },
    "id": "gPb4kAERkVxv",
    "outputId": "b98e5c5f-2142-49a8-9ece-2f1b07190f91"
   },
   "outputs": [
    {
     "name": "stdout",
     "output_type": "stream",
     "text": [
      "[[1.         1.41421356]]\n"
     ]
    }
   ],
   "source": [
    "K = ctrl.acker(A,B,alpha_c)\n",
    "print(K)"
   ]
  },
  {
   "cell_type": "markdown",
   "id": "6fc36b57",
   "metadata": {
    "colab_type": "text",
    "id": "FyEuZ0KGkVx1"
   },
   "source": [
    "Controlamos que las cuentas esten bien hechas, viendo que los autovalores de $\\mathbf{A}-\\mathbf{BK}$ den donde tienen que dar:"
   ]
  },
  {
   "cell_type": "code",
   "execution_count": 7,
   "id": "09ed3468",
   "metadata": {
    "colab": {
     "base_uri": "https://localhost:8080/",
     "height": 34
    },
    "colab_type": "code",
    "executionInfo": {
     "elapsed": 98,
     "status": "ok",
     "timestamp": 1600889901123,
     "user": {
      "displayName": "gonzalo molina",
      "photoUrl": "",
      "userId": "03146719216223860883"
     },
     "user_tz": 180
    },
    "id": "zpxsXvuukVx2",
    "outputId": "02687b9e-1290-4b63-9e1d-75c470a1cbef"
   },
   "outputs": [
    {
     "name": "stdout",
     "output_type": "stream",
     "text": [
      "[-0.70710678+0.70710678j -0.70710678-0.70710678j]\n"
     ]
    }
   ],
   "source": [
    "l,_=np.linalg.eig(A-B@K)\n",
    "print(l)"
   ]
  },
  {
   "cell_type": "markdown",
   "id": "6761f879",
   "metadata": {
    "colab_type": "text",
    "id": "NJPe9GI6rmU_"
   },
   "source": [
    "## Diseño del estimador"
   ]
  },
  {
   "cell_type": "markdown",
   "id": "e2047f00",
   "metadata": {
    "colab_type": "text",
    "id": "Pwd3TbEIkVx7"
   },
   "source": [
    "Ahora ubicamos los polos del estimador 5 veces más rápido, pero con un $\\zeta$ que haga que no oscile ($\\zeta=0.5$)."
   ]
  },
  {
   "cell_type": "code",
   "execution_count": 8,
   "id": "cd2477fc",
   "metadata": {
    "colab": {
     "base_uri": "https://localhost:8080/",
     "height": 34
    },
    "colab_type": "code",
    "executionInfo": {
     "elapsed": 91,
     "status": "ok",
     "timestamp": 1600889904116,
     "user": {
      "displayName": "gonzalo molina",
      "photoUrl": "",
      "userId": "03146719216223860883"
     },
     "user_tz": 180
    },
    "id": "u6E7pRxokVx8",
    "outputId": "47e8a7b4-e1e0-416b-844b-023d381c0b45"
   },
   "outputs": [
    {
     "name": "stdout",
     "output_type": "stream",
     "text": [
      "[-2.5+4.33012702j -2.5-4.33012702j]\n"
     ]
    }
   ],
   "source": [
    "wne=5\n",
    "zetae=0.5\n",
    "polye =[1,2*zetae*wne,wne**2]\n",
    "rootse=np.roots(polye)\n",
    "print(rootse)"
   ]
  },
  {
   "cell_type": "code",
   "execution_count": 9,
   "id": "a66da59a",
   "metadata": {
    "colab": {
     "base_uri": "https://localhost:8080/",
     "height": 51
    },
    "colab_type": "code",
    "executionInfo": {
     "elapsed": 104,
     "status": "ok",
     "timestamp": 1600889904774,
     "user": {
      "displayName": "gonzalo molina",
      "photoUrl": "",
      "userId": "03146719216223860883"
     },
     "user_tz": 180
    },
    "id": "7lFWGEbNkVyA",
    "outputId": "7b0eacb0-b62f-464b-cae4-14366c2318d9"
   },
   "outputs": [
    {
     "name": "stdout",
     "output_type": "stream",
     "text": [
      "[[ 5.]\n",
      " [25.]]\n"
     ]
    }
   ],
   "source": [
    "Lt=ctrl.place(sys.A.T,sys.C.T,rootse).T\n",
    "print(Lt)"
   ]
  },
  {
   "cell_type": "markdown",
   "id": "fc701500",
   "metadata": {
    "colab_type": "text",
    "id": "Pvirfdbtr3pJ"
   },
   "source": [
    "## Definición del sistema de control"
   ]
  },
  {
   "cell_type": "markdown",
   "id": "ca564745",
   "metadata": {
    "colab_type": "text",
    "id": "E-f_6hKZkVyE"
   },
   "source": [
    "Expresando las ecuaciones de estado del controlador $D_c$ nos queda:\n",
    "\n",
    "$$\\begin{eqnarray}\n",
    "\\mathbf{\\dot{\\hat{x}}}&=&(\\mathbf{A-BK-LC}) \\mathbf{\\hat {x}}+\\mathbf{L}y\\\\\n",
    "u&=&-\\mathbf{K}\\mathbf{\\hat{x}}\\end{eqnarray}$$"
   ]
  },
  {
   "cell_type": "code",
   "execution_count": 10,
   "id": "27ebf689",
   "metadata": {
    "colab": {
     "base_uri": "https://localhost:8080/",
     "height": 39
    },
    "colab_type": "code",
    "executionInfo": {
     "elapsed": 199,
     "status": "ok",
     "timestamp": 1600889907573,
     "user": {
      "displayName": "gonzalo molina",
      "photoUrl": "",
      "userId": "03146719216223860883"
     },
     "user_tz": 180
    },
    "id": "VCOqKt8EkVyK",
    "outputId": "14b6abd4-acd1-48c6-be92-c37bba6abebb"
   },
   "outputs": [
    {
     "data": {
      "text/latex": [
       "$$\\frac{-40.36 s - 25}{s^2 + 6.414 s + 33.07}$$"
      ],
      "text/plain": [
       "TransferFunction(array([-40.35533906, -25.        ]), array([ 1.        ,  6.41421356, 33.07106781]))"
      ]
     },
     "execution_count": 10,
     "metadata": {},
     "output_type": "execute_result"
    }
   ],
   "source": [
    "Dc=ctrl.ss(A-B@K-Lt@C,Lt,-K,[0])\n",
    "ctrl.tf(Dc)"
   ]
  },
  {
   "cell_type": "markdown",
   "id": "9f36542d",
   "metadata": {
    "colab_type": "text",
    "id": "hbw1qSG7kVyP"
   },
   "source": [
    "Con este controlador podemos hacer un análisis de sistema igual que lo hacíamos con control clásico."
   ]
  },
  {
   "cell_type": "code",
   "execution_count": 11,
   "id": "cdff02e6",
   "metadata": {
    "colab": {
     "base_uri": "https://localhost:8080/",
     "height": 283
    },
    "colab_type": "code",
    "executionInfo": {
     "elapsed": 1521,
     "status": "ok",
     "timestamp": 1600889910845,
     "user": {
      "displayName": "gonzalo molina",
      "photoUrl": "",
      "userId": "03146719216223860883"
     },
     "user_tz": 180
    },
    "id": "imZqGhTykVyQ",
    "outputId": "11e91e3f-2dde-4ab1-dc81-eedb859fbae0"
   },
   "outputs": [
    {
     "data": {
      "image/png": "[encoded data removed]",
      "text/plain": [
       "<Figure size 864x576 with 2 Axes>"
      ]
     },
     "metadata": {
      "filenames": {
       "image/png": "/home/runner/work/DSFyC_book/DSFyC_book/_build/jupyter_execute/sources/notebooks_sources/modulo_ve/ejemplo_B_ve_atitud_satelite_25_0.png"
      },
      "needs_background": "light"
     },
     "output_type": "display_data"
    }
   ],
   "source": [
    "_=ctrl.bode(sys*-Dc,dB=True)\n",
    "plt.gcf().set_size_inches(12,8)"
   ]
  },
  {
   "cell_type": "code",
   "execution_count": 12,
   "id": "111a1959",
   "metadata": {
    "colab": {
     "base_uri": "https://localhost:8080/",
     "height": 34
    },
    "colab_type": "code",
    "executionInfo": {
     "elapsed": 77,
     "status": "ok",
     "timestamp": 1600889936944,
     "user": {
      "displayName": "gonzalo molina",
      "photoUrl": "",
      "userId": "03146719216223860883"
     },
     "user_tz": 180
    },
    "id": "YH91gmBqkVyU",
    "outputId": "5b47a582-936e-4e79-b36c-aa16bd72bbd6"
   },
   "outputs": [
    {
     "data": {
      "text/plain": [
       "(4.624852080148075, 49.92496178414228, 5.39420833649216, 1.3670031280375003)"
      ]
     },
     "execution_count": 12,
     "metadata": {},
     "output_type": "execute_result"
    }
   ],
   "source": [
    "ctrl.margin(sys*-Dc)"
   ]
  },
  {
   "cell_type": "code",
   "execution_count": 13,
   "id": "214db277",
   "metadata": {
    "colab": {
     "base_uri": "https://localhost:8080/",
     "height": 280
    },
    "colab_type": "code",
    "executionInfo": {
     "elapsed": 510,
     "status": "ok",
     "timestamp": 1600889937979,
     "user": {
      "displayName": "gonzalo molina",
      "photoUrl": "",
      "userId": "03146719216223860883"
     },
     "user_tz": 180
    },
    "id": "Hx6MMMBPkVyY",
    "outputId": "95d82932-75f5-490f-cb0c-9c8de96c66a2"
   },
   "outputs": [
    {
     "data": {
      "image/png": "[encoded data removed]",
      "text/plain": [
       "<Figure size 576x432 with 1 Axes>"
      ]
     },
     "metadata": {
      "filenames": {
       "image/png": "/home/runner/work/DSFyC_book/DSFyC_book/_build/jupyter_execute/sources/notebooks_sources/modulo_ve/ejemplo_B_ve_atitud_satelite_27_0.png"
      },
      "needs_background": "light"
     },
     "output_type": "display_data"
    }
   ],
   "source": [
    "_=ctrl.rlocus(sys*-Dc,grid=True)\n",
    "plt.gcf().set_size_inches(8,6)"
   ]
  },
  {
   "cell_type": "markdown",
   "id": "bb5b07aa",
   "metadata": {
    "colab_type": "text",
    "id": "f8xlqFUckVyd"
   },
   "source": [
    "Podemos ver que este diseño tiene un margen de fase de 50 grados aproximadamente."
   ]
  },
  {
   "cell_type": "markdown",
   "id": "177ce129",
   "metadata": {
    "colab_type": "text",
    "id": "KXY5AUwYkVyd"
   },
   "source": [
    "## Con estimador reducido"
   ]
  },
  {
   "cell_type": "markdown",
   "id": "a968289b",
   "metadata": {
    "colab_type": "text",
    "id": "bwdu9HtukVye"
   },
   "source": [
    "Pondremos ahora el polo del estimador en -5rad/seg."
   ]
  },
  {
   "cell_type": "code",
   "execution_count": 14,
   "id": "a0b45fa5",
   "metadata": {
    "colab": {},
    "colab_type": "code",
    "executionInfo": {
     "elapsed": 65,
     "status": "ok",
     "timestamp": 1600889940684,
     "user": {
      "displayName": "gonzalo molina",
      "photoUrl": "",
      "userId": "03146719216223860883"
     },
     "user_tz": 180
    },
    "id": "LSbkFwhlkVyf"
   },
   "outputs": [],
   "source": [
    "polesered=[-5]\n",
    "Aaa=sys.A[0:1,0:1]\n",
    "Aab=sys.A[0:1,1:]\n",
    "Aba=sys.A[1:,0:1]\n",
    "Abb=sys.A[1:,1:]\n",
    "\n",
    "Ba = sys.B[0:1,0]\n",
    "Bb = sys.B[1:,0]"
   ]
  },
  {
   "cell_type": "code",
   "execution_count": 15,
   "id": "8f50ff69",
   "metadata": {
    "colab": {
     "base_uri": "https://localhost:8080/",
     "height": 34
    },
    "colab_type": "code",
    "executionInfo": {
     "elapsed": 78,
     "status": "ok",
     "timestamp": 1600889941979,
     "user": {
      "displayName": "gonzalo molina",
      "photoUrl": "",
      "userId": "03146719216223860883"
     },
     "user_tz": 180
    },
    "id": "jx4poHFnkVyj",
    "outputId": "2d1417eb-0326-46ce-cba8-053796e04893"
   },
   "outputs": [
    {
     "data": {
      "text/plain": [
       "array([[5.]])"
      ]
     },
     "execution_count": 15,
     "metadata": {},
     "output_type": "execute_result"
    }
   ],
   "source": [
    "Ltred = ctrl.acker(Abb.T,Aab.T,polesered).T\n",
    "Ltred"
   ]
  },
  {
   "cell_type": "markdown",
   "id": "8873e359",
   "metadata": {
    "colab_type": "text",
    "id": "QD2AnykekVyn"
   },
   "source": [
    "Ahora podemos obtener la ley de control igualmente mediante estas ecuaciones del controlador para un sistema con un estimador reducido.\n",
    "\n",
    "Para esto necesitamos devidir las $\\mathbf K$ que multiplican a la parte medida de los esatados ($\\mathbf{K_a}$) de la no medida ($\\mathbf{K_b}$)."
   ]
  },
  {
   "cell_type": "markdown",
   "id": "4f1517a6",
   "metadata": {
    "colab_type": "text",
    "id": "qoo2qOtRsNz1"
   },
   "source": [
    "## Definición del sistema  controlador con estimador de orden reducido"
   ]
  },
  {
   "cell_type": "code",
   "execution_count": 16,
   "id": "d0b601af",
   "metadata": {
    "colab": {},
    "colab_type": "code",
    "executionInfo": {
     "elapsed": 48,
     "status": "ok",
     "timestamp": 1600889946396,
     "user": {
      "displayName": "gonzalo molina",
      "photoUrl": "",
      "userId": "03146719216223860883"
     },
     "user_tz": 180
    },
    "id": "hMD5R5vUkVyo"
   },
   "outputs": [],
   "source": [
    "Ka=K[0,0:1]\n",
    "Kb=K[0,1:]\n",
    "\n",
    "Ar = Abb-Ltred@Aab-(Bb-Ltred@Ba)*Kb\n",
    "Br = Ar@Ltred + Aba - Ltred@Aaa - (Bb-Ltred@Ba)@Ka\n",
    "Cr = -Kb\n",
    "Dr = -Ka-Kb@Ltred"
   ]
  },
  {
   "cell_type": "code",
   "execution_count": 17,
   "id": "87410c2b",
   "metadata": {
    "colab": {},
    "colab_type": "code",
    "executionInfo": {
     "elapsed": 53,
     "status": "ok",
     "timestamp": 1600889947052,
     "user": {
      "displayName": "gonzalo molina",
      "photoUrl": "",
      "userId": "03146719216223860883"
     },
     "user_tz": 180
    },
    "id": "eCDPLt6EkVyr"
   },
   "outputs": [],
   "source": [
    "Dcr = ctrl.ss(Ar,Br,Cr,Dr)"
   ]
  },
  {
   "cell_type": "code",
   "execution_count": 18,
   "id": "b38c160a",
   "metadata": {
    "colab": {
     "base_uri": "https://localhost:8080/",
     "height": 39
    },
    "colab_type": "code",
    "executionInfo": {
     "elapsed": 118,
     "status": "ok",
     "timestamp": 1600889947808,
     "user": {
      "displayName": "gonzalo molina",
      "photoUrl": "",
      "userId": "03146719216223860883"
     },
     "user_tz": 180
    },
    "id": "XrcVjH4XkVyv",
    "outputId": "e57c990e-6f61-49bb-c274-591aab00099e"
   },
   "outputs": [
    {
     "data": {
      "text/latex": [
       "$$\\frac{8.071 s + 5}{s + 6.414}$$"
      ],
      "text/plain": [
       "TransferFunction(array([8.07106781, 5.        ]), array([1.        , 6.41421356]))"
      ]
     },
     "execution_count": 18,
     "metadata": {},
     "output_type": "execute_result"
    }
   ],
   "source": [
    "ctrl.tf(-Dcr)"
   ]
  },
  {
   "cell_type": "code",
   "execution_count": 19,
   "id": "a2bc0973",
   "metadata": {
    "colab": {
     "base_uri": "https://localhost:8080/",
     "height": 283
    },
    "colab_type": "code",
    "executionInfo": {
     "elapsed": 1165,
     "status": "ok",
     "timestamp": 1600889950193,
     "user": {
      "displayName": "gonzalo molina",
      "photoUrl": "",
      "userId": "03146719216223860883"
     },
     "user_tz": 180
    },
    "id": "ekU26Rt_kVyz",
    "outputId": "0e769e42-6446-4f9e-ee37-636d20cf0e01"
   },
   "outputs": [
    {
     "data": {
      "image/png": "[encoded data removed]",
      "text/plain": [
       "<Figure size 864x576 with 2 Axes>"
      ]
     },
     "metadata": {
      "filenames": {
       "image/png": "/home/runner/work/DSFyC_book/DSFyC_book/_build/jupyter_execute/sources/notebooks_sources/modulo_ve/ejemplo_B_ve_atitud_satelite_38_0.png"
      },
      "needs_background": "light"
     },
     "output_type": "display_data"
    }
   ],
   "source": [
    "_=ctrl.bode((-Dcr*sys),dB=True)\n",
    "plt.gcf().set_size_inches(12,8)"
   ]
  },
  {
   "cell_type": "code",
   "execution_count": 20,
   "id": "c10494da",
   "metadata": {
    "colab": {
     "base_uri": "https://localhost:8080/",
     "height": 34
    },
    "colab_type": "code",
    "executionInfo": {
     "elapsed": 69,
     "status": "ok",
     "timestamp": 1600889952306,
     "user": {
      "displayName": "gonzalo molina",
      "photoUrl": "",
      "userId": "03146719216223860883"
     },
     "user_tz": 180
    },
    "id": "wwy7D__MkVy2",
    "outputId": "c7dda6fb-74b7-4978-c1da-c2aa24c3010b"
   },
   "outputs": [
    {
     "data": {
      "text/plain": [
       "(inf, 53.49419065418766, nan, 1.353936706913817)"
      ]
     },
     "execution_count": 20,
     "metadata": {},
     "output_type": "execute_result"
    }
   ],
   "source": [
    "ctrl.margin(-Dcr*sys)"
   ]
  },
  {
   "cell_type": "code",
   "execution_count": 21,
   "id": "db3c094c",
   "metadata": {
    "colab": {
     "base_uri": "https://localhost:8080/",
     "height": 280
    },
    "colab_type": "code",
    "executionInfo": {
     "elapsed": 673,
     "status": "ok",
     "timestamp": 1600889955804,
     "user": {
      "displayName": "gonzalo molina",
      "photoUrl": "",
      "userId": "03146719216223860883"
     },
     "user_tz": 180
    },
    "id": "pVsv_5d3kVy6",
    "outputId": "c69ee9cd-22ff-48ea-8f37-6f827424f9e8"
   },
   "outputs": [
    {
     "data": {
      "image/png": "[encoded data removed]",
      "text/plain": [
       "<Figure size 576x432 with 1 Axes>"
      ]
     },
     "metadata": {
      "filenames": {
       "image/png": "/home/runner/work/DSFyC_book/DSFyC_book/_build/jupyter_execute/sources/notebooks_sources/modulo_ve/ejemplo_B_ve_atitud_satelite_40_0.png"
      },
      "needs_background": "light"
     },
     "output_type": "display_data"
    }
   ],
   "source": [
    "_=ctrl.rlocus(-Dcr*sys)\n",
    "plt.gcf().set_size_inches(8,6)"
   ]
  },
  {
   "cell_type": "code",
   "execution_count": null,
   "id": "d07c5ae0",
   "metadata": {
    "colab": {},
    "colab_type": "code",
    "executionInfo": {
     "elapsed": 47,
     "status": "ok",
     "timestamp": 1600889958948,
     "user": {
      "displayName": "gonzalo molina",
      "photoUrl": "",
      "userId": "03146719216223860883"
     },
     "user_tz": 180
    },
    "id": "DAXSgDfUkVy9"
   },
   "outputs": [],
   "source": []
  },
  {
   "cell_type": "code",
   "execution_count": null,
   "id": "84c56833",
   "metadata": {
    "colab": {},
    "colab_type": "code",
    "id": "7qXNJ52OkVzB"
   },
   "outputs": [],
   "source": []
  }
 ],
 "metadata": {
  "jupytext": {
   "formats": "ipynb,md:myst",
   "text_representation": {
    "extension": ".md",
    "format_name": "myst",
    "format_version": 0.13,
    "jupytext_version": "1.10.2"
   }
  },
  "kernelspec": {
   "display_name": "Python 3",
   "language": "python",
   "name": "python3"
  },
  "language_info": {
   "codemirror_mode": {
    "name": "ipython",
    "version": 3
   },
   "file_extension": ".py",
   "mimetype": "text/x-python",
   "name": "python",
   "nbconvert_exporter": "python",
   "pygments_lexer": "ipython3",
   "version": "3.8.11"
  },
  "source_map": [
   15,
   19,
   23,
   44,
   61,
   83,
   87,
   91,
   118,
   122,
   126,
   130,
   155,
   177,
   181,
   203,
   207,
   229,
   233,
   237,
   262,
   284,
   288,
   296,
   318,
   322,
   344,
   365,
   387,
   391,
   395,
   399,
   424,
   446,
   452,
   456,
   480,
   498,
   519,
   541,
   562,
   584,
   602
  ]
 },
 "nbformat": 4,
 "nbformat_minor": 5
}