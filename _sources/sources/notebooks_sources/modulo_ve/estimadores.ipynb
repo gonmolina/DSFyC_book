{
 "cells": [
  {
   "cell_type": "markdown",
   "id": "3c90a5c7",
   "metadata": {
    "id": "-yaDGL7biDMS"
   },
   "source": [
    "# Diseño de estimadores\n",
    "\n",
    "Hasta ahora aprendimos a obtener la ley de control suponiendo conocido el vector de estados. En general en control no se mido de forma completa todos lo estados del sistema. Por lo tanto será necesario construir un sistema que nos permita __estimar__ los estados de la planta que queremos controlar a partir de lsa variables que conocemos. En general las variables que conocemos son las _salidas_ (mediciones) y las _entradas_ que son las variables que no da nuestro controlador y que serán entradas de los actuadores de la planta."
   ]
  },
  {
   "cell_type": "markdown",
   "id": "6cb2f291",
   "metadata": {
    "id": "YSG8ObATiDMV"
   },
   "source": [
    "## Estimador de orden completo\n",
    "\n",
    "Con el modelo de la planta, suponiendo que es fiel a la realidad, uno podría pensar en darle las mismas entradas que tiene la planta y de obtener los estados del modelo directamente. Sin embargo esto choca con dos problemas:\n",
    "* se debe conocer las condiciones iniciales en todo momento, sino el sistema tardará lo que corresponda para  según sus modos para obtener una estimación correcta.\n",
    "* cualquier error en el modelado pueda hacer divergir las estimaciones respecto al valor de los estados reales sin ningún control de las mismas."
   ]
  },
  {
   "cell_type": "markdown",
   "id": "a24f470f",
   "metadata": {
    "id": "cT4SikTwiDMX"
   },
   "source": [
    "Por estos problemas, es que se hace lo que mejor hacemos en control, **REALIMENTAR**."
   ]
  },
  {
   "cell_type": "markdown",
   "id": "3f4ad19b",
   "metadata": {
    "id": "_6qBicU_iDMZ"
   },
   "source": [
    "La idea es utilizar lo que sabemos de la salida tanto del modelo como de la planta para obtener una estimación de los estados. \n",
    "\n",
    "Llamando $\\mathbf {\\hat x}$ a la estimación de $\\mathbf x$ lo que se propone es un estimador que siga la siguiente ecuaciones:\n",
    "\n",
    "$$\\dot{ \\hat{ \\mathbf{x}}}=\\mathbf A\\hat{\\mathbf{x}}+\\mathbf B u+\\mathbf L(y-\\mathbf C \\hat{\\mathbf{x}})$$"
   ]
  },
  {
   "cell_type": "markdown",
   "id": "a44043ce",
   "metadata": {
    "id": "OBIu1_mfiDMa"
   },
   "source": [
    "Definimos entonces error de estimación como:\n",
    "\n",
    "$$\\tilde{\\mathbf x} = \\mathbf x -  \\mathbf {\\hat {\\mathbf x}}$$\n",
    "\n",
    "Por lo tanto la dinámica del error de estimación resulta:\n",
    "\n",
    "$$\\dot {\\tilde {\\mathbf{ x}}} = (\\mathbf A - \\mathbf{LC})\\tilde {\\mathbf x}$$"
   ]
  },
  {
   "cell_type": "markdown",
   "id": "a2b481b0",
   "metadata": {
    "id": "U9dR4qO3iDMb"
   },
   "source": [
    "La ecuación característica del error de estimación entonces e:\n",
    "\n",
    "$$\\det\\left[s\\mathbf I -(\\mathbf{A-LC}\\right)]=0$$"
   ]
  },
  {
   "cell_type": "markdown",
   "id": "bb388a61",
   "metadata": {
    "id": "0hmPx2AOiDMd"
   },
   "source": [
    "Esta ecuación no esta diciendo que podemos elegir un $\\mathbf L$ de forma tal que la dinámica del error sea la que queramos.\n",
    "\n",
    "Si se compara con la de la ley de control:\n",
    "\n",
    "$$\\det\\left[s\\mathbf I -(\\mathbf{A-BK}\\right)]=0$$\n",
    "\n",
    "podemos ver ciertas similitudes o semejanzas.\n",
    "\n",
    "Por ejemplo, si transponemos la ecuación característica del observador resulta:\n",
    "\n",
    "$$\\det\\left[s\\mathbf I -(\\mathbf{A'-C'L'}\\right)]=0$$"
   ]
  },
  {
   "cell_type": "markdown",
   "id": "9e3f56b9",
   "metadata": {
    "id": "ivR9oWmziDMe"
   },
   "source": [
    "De esta ecuación podemos ver que $\\mathbf L$ de forma análoga a como obtenemos $\\mathbf K$. \n",
    "\n",
    "```python\n",
    "L=(acker(A.T,C.T)).T\n",
    "\n",
    "```\n",
    "\n",
    "```{important}\n",
    "De forma análoga a la ley de control, podemos decir que solo podremos tener una única $L$ que no permite ubicar los polos de la dinámica del error de estimación si y solo si el sistema es observable\n",
    "```\n",
    "\n",
    "```{hint}\n",
    "\n",
    "Y el sistema es observable si y solo si el rango de la matriz de observabilidad $\\mathcal O$ es igual al orden $n$ del sistema.\n",
    "\n",
    "```\n",
    "\n",
    "```{hint}\n",
    "\n",
    "A esto se lo conoce como **dualidad** entre los problemas de control y estimación.\n",
    "\n",
    "```"
   ]
  },
  {
   "cell_type": "markdown",
   "id": "f59bc5e6",
   "metadata": {
    "id": "VWKPR_BUiDMg"
   },
   "source": [
    "## Estimador de orden reducido"
   ]
  },
  {
   "cell_type": "markdown",
   "id": "1674695a",
   "metadata": {
    "id": "T0b-HP_0iDMh"
   },
   "source": [
    "La idea de este estimador es reducir el orden del mismo.\n",
    "Para esto lo que se busca es no estimar las variables que se conocen de antemano, es decir las mediciones.\n",
    "\n",
    "Escribamos el sistema como:\n",
    "\n",
    "$$\\begin{bmatrix}\n",
    "\\dot {x_a} \\\\\n",
    "\\dot{\\mathbf{ x}_b}\\end{bmatrix}=\n",
    "\\begin{bmatrix} A_{aa}&\\mathbf A_{ab}\\\\\n",
    "\\mathbf A_{ba} & \\mathbf{A}_{bb}\\end{bmatrix}\\begin{bmatrix}\n",
    "x_a \\\\\n",
    "\\mathbf x_b\\end{bmatrix}$$\n",
    "\n",
    "$$y=[1 \\quad\\mathbf 0]\\begin{bmatrix} x_a \\\\ \\mathbf{x}_b\\end{bmatrix}$$"
   ]
  },
  {
   "cell_type": "markdown",
   "id": "6166416d",
   "metadata": {
    "id": "3KmAGcHqiDMi"
   },
   "source": [
    "La dinámica de las variables no medidas está dada por:\n",
    "\n",
    "$$\\mathbf {\\dot x}_b = \\mathbf {A}_{bb}\\mathbf{x}_b + \\underbrace{\\mathbf{A}_{ba} x_a + \\mathbf B_bu}_{\\text{entradas conocidas}}$$"
   ]
  },
  {
   "cell_type": "markdown",
   "id": "f01f46b0",
   "metadata": {
    "id": "UdzkPKv4iDMj"
   },
   "source": [
    "La ecuación de salida y de las variables de estado conocidas la podemos expresar como:\n",
    "\n",
    "$$\\underbrace{\\dot y - A_{aa}y - B_au}_{\\text{mediciones conocidas}} =\\mathbf A_{ab}\\mathbf{x}_b$$"
   ]
  },
  {
   "cell_type": "markdown",
   "id": "cf85009b",
   "metadata": {
    "id": "1ZBKu9asiDMk"
   },
   "source": [
    "De esta manera podemos hacer un equivalente con el estimador de orden completo.\n",
    "\n",
    "La primer ecuación la podemos comparar con la ecuación de la dinámica del estimador y la segunda ecuación la podemos comparar con la ecuación de salida, ambas del trabajo realizado para el estimador completo.\n",
    "\n",
    "Haciendo esto tenemos que:\n",
    "\n",
    "$$\\begin{eqnarray}\n",
    "\\mathbf{x} &\\leftarrow&\\mathbf x_b\\\\\n",
    "\\mathbf{A} &\\leftarrow&\\mathbf A_{bb}\\\\\n",
    "\\mathbf{B}u &\\leftarrow&\\mathbf A_{ba}y+\\mathbf B_{b}u\\\\\n",
    "y &\\leftarrow&\\dot y - A_{aa}y-\\mathbf B_{a}u\\\\\n",
    "\\mathbf{C} &\\leftarrow&\\mathbf A_{ab}\\\\\n",
    "\\end{eqnarray}$$"
   ]
  },
  {
   "cell_type": "markdown",
   "id": "046e0359",
   "metadata": {
    "id": "noiHPiuOiDMl"
   },
   "source": [
    "Sustituyendo en las ecuaciones del estimador completo, podemos obtener que las variables estimadas del estimador reducido tienen la siguiente dinámica:\n",
    "\n",
    "$$\\mathbf {\\dot {\\hat x}}_b = \\mathbf {A}_{bb}\\mathbf{\\hat{x}}_b + \\underbrace{\\mathbf{A}_{ba} y + \\mathbf B_bu}_{\\text{entradas}} + \\mathbf L ( \\underbrace{\\dot y -A_{aa}y-B_a u}_{\\text{mediciones}}-\\mathbf A_{ab}\\mathbf{\\hat{x}_b})$$"
   ]
  },
  {
   "cell_type": "markdown",
   "id": "778eaf44",
   "metadata": {
    "id": "QgY1FGggiDMm"
   },
   "source": [
    "Entonces definimos el error de estimación como:\n",
    "\n",
    "$$\\mathbf{\\tilde{x}_b}=\\mathbf x_b-\\mathbf{\\hat{x}}_b$$\n",
    "\n",
    "y obtenemos la siguiente dinámica del error:"
   ]
  },
  {
   "cell_type": "markdown",
   "id": "cbb9de78",
   "metadata": {
    "id": "ym7WJGLrGbJ6"
   },
   "source": [
    "$$\n",
    "\\mathbf{\\dot{\\tilde{x}}}_b = \\mathbf{\\dot{x}_b}-\\mathbf{\\dot{\\hat{x}}_b}\n",
    "$$\n",
    "\n",
    "$$\n",
    "\\mathbf{\\dot{\\tilde{x}}}_b =  \\mathbf {A}_{bb}\\mathbf{x}_b + \\mathbf{A}_{ba} x_a + \\mathbf B_bu -  \\mathbf {A}_{bb}\\mathbf{\\hat{x}}_b - \\mathbf{A}_{ba} y - \\mathbf B_bu - \\mathbf L ( \\dot y -A_{aa}y-B_a u-\\mathbf A_{ab}\\mathbf{\\hat{x}_b})\n",
    "$$\n",
    "\n",
    "$$\n",
    "\\mathbf{\\dot{\\tilde{x}}}_b =  \\mathbf {A}_{bb}\\mathbf{\\tilde x}_b  - \\mathbf L (\\underbrace{\\dot y - A_{aa}y - B_au}_{\\mathbf A_{ab}\\mathbf{x}_b}-\\mathbf A_{ab}\\mathbf{\\hat{x}_b}) =  \\mathbf {A}_{bb}\\mathbf{\\tilde x}_b  - \\mathbf L \\mathbf A_{ab}\\mathbf{\\tilde x}_b\n",
    "$$"
   ]
  },
  {
   "cell_type": "markdown",
   "id": "2bc5c6b5",
   "metadata": {
    "id": "a_pE65tNGie4"
   },
   "source": [
    "Finalmente:"
   ]
  },
  {
   "cell_type": "markdown",
   "id": "fc667af4",
   "metadata": {
    "id": "zS5DhpWrGbJ7"
   },
   "source": [
    "$$\\mathbf{\\dot{\\tilde{x}}}_b=(\\mathbf A_{bb} -\\mathbf L \\mathbf A_{ab})\\mathbf{\\tilde{x}}_b$$\n",
    "\n",
    "y la ecuación característica resulta:\n",
    "\n",
    "$$\\det\\left[s\\mathbf I -(\\mathbf{A}_{bb}-\\mathbf {LA}_{ab}\\right)]=0$$"
   ]
  },
  {
   "cell_type": "markdown",
   "id": "6be13347",
   "metadata": {
    "id": "MNUU1YgliDMn"
   },
   "source": [
    "El problema que tiene el estimador es que depende de la derivada de $y$: uno mide $y$ y a partir de esta variable resuelve $\\dot y$, lo cual implica amplificar cualquier ruido presente en la medición:\n",
    "\n",
    "$$\\mathbf {\\dot {\\hat x}}_b = (\\mathbf {A}_{bb}-\\mathbf L\\mathbf A_{ab})\\mathbf{\\hat{x}}_b + (\\mathbf{A}_{ba}-\\mathbf L A_{aa})y + (\\mathbf B_b- \\mathbf L B_a) +\\mathbf L \\dot y $$\n",
    "\n",
    "Para poder obtener una ecuación del estimador sin la derivada de la medición, lo que se puede hacer es redefinir la variable de estado como:\n",
    "\n",
    "$$\\mathbf x_c \\overset{\\Delta}{=}\\mathbf{\\hat{x}_b}-\\mathbf Ly$$\n",
    "\n",
    "Entonces la dinámica del este estimador resulta:\n",
    "\n",
    "$$\\mathbf {\\dot {\\hat x}}_c = (\\mathbf {A}_{bb}-\\mathbf L\\mathbf A_{ab})\\mathbf{\\hat{x}}_b + (\\mathbf{A}_{ba}-\\mathbf L A_{aa})y + (\\mathbf B_b- \\mathbf L B_a)u $$"
   ]
  },
  {
   "cell_type": "markdown",
   "id": "50bc72b0",
   "metadata": {
    "id": "qCYQwLAZiDMn"
   },
   "source": [
    "Para dejarlo todo en función de $\\mathbf{x}_c$:\n",
    "\n",
    "$$\\mathbf {\\dot {\\hat x}}_c = (\\mathbf {A}_{bb}-\\mathbf L\\mathbf A_{ab})(\\mathbf{x}_c+\\mathbf Ly) + (\\mathbf{A}_{ba}-\\mathbf L A_{aa})y + (\\mathbf B_b- \\mathbf L B_a)u $$"
   ]
  },
  {
   "cell_type": "markdown",
   "id": "a32e899c",
   "metadata": {
    "id": "c8LUE5d7iDMo"
   },
   "source": [
    "$$\\mathbf {\\dot {\\hat x}}_c = (\\mathbf {A}_{bb}-\\mathbf L\\mathbf A_{ab})\\mathbf{x}_c + (\\mathbf{A}_{ba}-\\mathbf L A_{aa} + \\mathbf {A}_{bb} \\mathbf L-\\mathbf L\\mathbf A_{ab}\\mathbf L)y + (\\mathbf B_b- \\mathbf L B_a)u $$"
   ]
  },
  {
   "cell_type": "markdown",
   "id": "e4cdb288",
   "metadata": {
    "id": "M_pBHg0riDMq"
   },
   "source": [
    "## Retomamos el ejemplo de péndulo\n",
    "\n",
    "Obtener el estimador completo para el péndulo. Ubicar los polos del error del estimador en $10\\omega_0$. Es decir 5 veces más rápido que los que ubicamos los polos de la ley de control."
   ]
  },
  {
   "cell_type": "code",
   "execution_count": 1,
   "id": "269c8c4e",
   "metadata": {
    "id": "EMtRWJIdiDMr",
    "tags": [
     "remove-cell"
    ]
   },
   "outputs": [],
   "source": [
    "import control as ctrl\n",
    "import numpy as np"
   ]
  },
  {
   "cell_type": "code",
   "execution_count": 2,
   "id": "86ebd945",
   "metadata": {
    "id": "EMtRWJIdiDMr"
   },
   "outputs": [],
   "source": [
    "w0=2\n",
    "A=[[0,1],[-w0**2,0]]\n",
    "B=[[0],[1]]\n",
    "C=[1,0]\n",
    "D=0\n",
    "sys=ctrl.ss(A,B,C,D)"
   ]
  },
  {
   "cell_type": "markdown",
   "id": "9a6a5475",
   "metadata": {
    "id": "iIbgk2pqGbKG"
   },
   "source": [
    "### Cálculo del observador completo"
   ]
  },
  {
   "cell_type": "code",
   "execution_count": 3,
   "id": "8e7a9f33",
   "metadata": {
    "id": "RVnOImHHiDMx"
   },
   "outputs": [
    {
     "data": {
      "text/plain": [
       "array([[-40.],\n",
       "       [396.]])"
      ]
     },
     "execution_count": 3,
     "metadata": {},
     "output_type": "execute_result"
    }
   ],
   "source": [
    "L=(ctrl.acker(sys.A.T,sys.C.T,[10*w0,10*w0])).T\n",
    "L"
   ]
  },
  {
   "cell_type": "markdown",
   "id": "31d78a80",
   "metadata": {
    "id": "By0jLubjGbKR"
   },
   "source": [
    "### Calculo del observador reducido"
   ]
  },
  {
   "cell_type": "code",
   "execution_count": 4,
   "id": "0f1b4889",
   "metadata": {
    "id": "U0FxBQyWiDM8"
   },
   "outputs": [],
   "source": [
    "n=sys.A.shape[0]\n",
    "Aaa=sys.A[0:1,0:1]\n",
    "Aab=sys.A[0,1:]\n",
    "Aba=sys.A[1:,0:1]\n",
    "Abb=sys.A[1:,1:]\n",
    "Ba=sys.B[0:1]\n",
    "Bb=sys.B[1:]"
   ]
  },
  {
   "cell_type": "code",
   "execution_count": 5,
   "id": "aa841167",
   "metadata": {
    "id": "MnME15obGbKY",
    "outputId": "fbd400f6-cb08-4239-bb43-94bf82c39dc8"
   },
   "outputs": [
    {
     "data": {
      "text/plain": [
       "array([[20.]])"
      ]
     },
     "execution_count": 5,
     "metadata": {},
     "output_type": "execute_result"
    }
   ],
   "source": [
    "Lred=(ctrl.acker(Abb.T, Aab.T, [-10*w0])).T # notar que se tata de ubicar un solo polo\n",
    "Lred"
   ]
  }
 ],
 "metadata": {
  "jupytext": {
   "formats": "ipynb,md:myst",
   "text_representation": {
    "extension": ".md",
    "format_name": "myst",
    "format_version": 0.13,
    "jupytext_version": "1.10.2"
   }
  },
  "kernelspec": {
   "display_name": "Python 3",
   "language": "python",
   "name": "python3"
  },
  "language_info": {
   "codemirror_mode": {
    "name": "ipython",
    "version": 3
   },
   "file_extension": ".py",
   "mimetype": "text/x-python",
   "name": "python",
   "nbconvert_exporter": "python",
   "pygments_lexer": "ipython3",
   "version": "3.8.11"
  },
  "source_map": [
   15,
   22,
   30,
   34,
   42,
   52,
   58,
   73,
   98,
   102,
   119,
   125,
   131,
   147,
   153,
   161,
   175,
   179,
   187,
   202,
   208,
   212,
   218,
   226,
   237,
   241,
   248,
   252,
   264
  ]
 },
 "nbformat": 4,
 "nbformat_minor": 5
}