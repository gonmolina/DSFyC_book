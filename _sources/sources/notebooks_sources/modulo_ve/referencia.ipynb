{
 "cells": [
  {
   "cell_type": "markdown",
   "id": "c2543114",
   "metadata": {},
   "source": [
    "# Inserción de referencias"
   ]
  },
  {
   "cell_type": "markdown",
   "id": "eccaaa68",
   "metadata": {},
   "source": [
    "Para introducir el seguimiento de referencias, siguiendo la idea de control clásico uno podría hacer $u=-\\mathbf K \\mathbf x + r$, siendo $r$ la referencia. Sin embargo esto en general llevaría a tener errores de estados estacionarios muy grandes.\n",
    "\n",
    "La forma correcta sería tratar de calcular los estados y la entrada en estado estacionario($t \\rightarrow \\infty$). Si entramos con el valor de estado estacionario de $u$ y hacemos que para $t \\rightarrow \\infty$ la realimentación sea 0, entonces nos aseguramos que el sistema tendrá error nulo. Matemáticamente esto lo podemos lograr haciendo que:\n",
    "\n",
    "$$u=u_{ss}-\\mathbf K(\\mathbf x - \\mathbf{x_ss})$$\n",
    "\n",
    "Para resolver cuanto vales $u_ss$ y $\\mathbf{x_ss}$ debemos expresar las ecuaciones de estado con las condiciones de estado estacionario, es decir:\n",
    "\n",
    "$$\n",
    "\\begin{eqnarray}\n",
    "0&=&\\mathbf{Ax_{ss}}+\\mathbf{B}u_{ss} \\\\\n",
    "yss&=&\\mathbf{Cx_{ss}}+\\mathbf{D}u_{ss}\n",
    "\\end{eqnarray}\n",
    "$$\n",
    "\n",
    "Entonces se quiere resolver los valores para los cuales $y_{ss }=r_{ss}$ para cualquier $y_ss$. Para hacer esto hacemos que $\\mathbf{x_{ss}}=\\mathbf{N_x}r_{ss}$ y $u_{ss}=N_ur_{ss}$. Haciendo esto tenemos el siguiente sistema de ecuaciones:\n",
    "\n",
    "$$\n",
    "\\begin{bmatrix}\n",
    "\\mathbf A & \\mathbf B\\\\\n",
    "\\mathbf C & D\n",
    "\\end{bmatrix} \\begin{bmatrix}\n",
    "\\mathbf{N_x}\\\\\n",
    "N_u\\\\ \\end{bmatrix} =\\begin{bmatrix}\n",
    "\\mathbf 0\\\\\n",
    "1\\end{bmatrix}\n",
    "$$"
   ]
  },
  {
   "cell_type": "markdown",
   "id": "776a357e",
   "metadata": {},
   "source": [
    "De esta manera\n",
    "\n",
    "$$\\begin{bmatrix}\n",
    "\\mathbf{N_x}\\\\\n",
    "N_u\\\\ \\end{bmatrix} =\n",
    "\\begin{bmatrix}\n",
    "\\mathbf A & \\mathbf B\\\\\n",
    "\\mathbf C & D\n",
    "\\end{bmatrix}^{-1}\\begin{bmatrix}\n",
    "\\mathbf 0\\\\\n",
    "1\\end{bmatrix}.\n",
    "$$\n",
    "\n",
    "Con estos valores, entonces podemos introducir la referencia (de forma \"no robusta\") haciendo:\n",
    "\n",
    "$$u=N_ur-\\mathbf {K}(\\mathbf{x} - \\mathbf{N_x}r)$$\n",
    "\n",
    "\n",
    "Sabiendo cuanto vale la ley de control, es decir $\\mathbf{K}$, podemos simplificar la expresión anterior de la siguiente manera:\n",
    "\n",
    "$$u=-\\mathbf{Kx}+\\bar Nr$$ \n",
    "\n",
    "donde $\\bar N = N_u+\\mathbf{KN_x}$"
   ]
  },
  {
   "cell_type": "markdown",
   "id": "c0e5b8f6",
   "metadata": {},
   "source": [
    "Para poder ver el esfuerzo de control en la salida del sistema que agreguemos tenemos que  expresar las ecuaciones de estado en función de las entradas (ahora la entrada es $r$) y los estados (siguen siendo $\\mathbf{x}$). Entonces la ecuación de salida que tengo que agregar es \n",
    "\n",
    "$$u=-\\mathbf{K x}+\\bar Nr$$\n",
    "\n",
    "\n",
    "````{admonition} Funciones para el cálculo del seguimiento a referencia\n",
    ":class: Hint\n",
    "\n",
    "Con esta función podemos calcular las matrices para el seguimiento a referencia:\n",
    "\n",
    "```{code} ipython3\n",
    "\n",
    "def seguimiento_referencia(sys):\n",
    "    aux1=np.vstack((np.hstack((sys.A,sys.B)),\n",
    "                   np.hstack((sys.C,sys.D))))\n",
    "    n=np.shape(sys.A)[0]\n",
    "    aux2=np.vstack((np.zeros((n,1)),[1]))\n",
    "    N=np.linalg.inv(aux1)@aux2\n",
    "    Nx=N[0:n]\n",
    "    Nu=N[n]\n",
    "    return Nx, Nu\n",
    "```\n",
    "\n",
    "Para simplificar la implementación podemos usar solo esta ganancia:\n",
    "\n",
    "```{code} ipython3\n",
    "def calculate_Nbar(Nx,Nu,K):\n",
    "    return Nu+K@Nx\n",
    "```\n",
    "\n",
    "````"
   ]
  },
  {
   "cell_type": "markdown",
   "id": "94c899b9",
   "metadata": {},
   "source": [
    "## Elección de la ubicación de los polos a lazo cerrado\n",
    "\n",
    "\n",
    "Una forma de seleccionar la ubicación de los polos es hacer lo mismo que se hacía en control clásico, es decir buscar que el sistema sea parecido a un segundo orden dominante. \n",
    "\n",
    "Esto es perfectamente factible en control moderno. Sin embargo, tiene la desventaja que no sabemos para nada que sucederá con el esfuerzo de control $u$. Ubicando los polos de esta manera podemos obtener esfuerzos de control imposibles de realizar por nuestros actuadores, o que lleven a consumos de energías demasiado altos para nuestro sistema.\n",
    "\n",
    "Por esto, lo más recomendable es usar técnicas de control óptimo para seleccionar los polos del sistema a lazo cerrado."
   ]
  },
  {
   "cell_type": "markdown",
   "id": "0d10f9da",
   "metadata": {},
   "source": [
    "## Lugar simétrico de las raíces\n",
    "\n",
    "\n",
    "Una técnica de control óptimo ampliamente usado es el control `regulador cuadrático lineal (LQR)`. En este curso veremos una versión simplificada que se conoce como __Lugar de las Raíces Simétrico__. Esta versión simplificada consiste en resolver el problema de minimización del siguiente índice de costo:\n",
    "\n",
    "$$\\mathcal J = \\int_0^{\\infty}\\left[\\rho z^2(t)+u^2(t)\\right]dt$$\n",
    "\n",
    "donde:\n",
    "\n",
    "$$\\begin{eqnarray}\n",
    "\\mathbf{\\dot x} = \\mathbf{Ax}+\\mathbf B u\\\\\n",
    "z =  \\mathbf{C_1x}\\\\\n",
    "\\end{eqnarray}$$\n",
    "\n",
    "mediante la ley de control:\n",
    "\n",
    "$$ u =-\\mathbf{Kx}$$"
   ]
  },
  {
   "cell_type": "markdown",
   "id": "b0ef80b1",
   "metadata": {},
   "source": [
    "Se puede demostrar que la ubicación de los polos a lazo cerrado que minimizan el funcional de costo anterior, son los polos estables del lugar simétrico de las raíces dado por la ecuación:\n",
    "$$1+\\rho G_0(-s)G_0(s)=0$$\n",
    " \n",
    "donde $G_0(s)$ es:\n",
    "\n",
    "$$G_0(s) = \\frac{Z(s)}{U(s)}=\\mathbf{C_1}(s\\mathbf I -\\mathbf A)^{-1}\\mathbf B$$\n",
    "\n",
    "Por lo tanto el problema lo podemos resolver para todo $\\rho$ haciendo un lugar simétrico de las raíces de $G_0(-s)G_0(s)$. El lugar dará simétrico respecto del eje $j\\omega$ ya que los polos y ceros de $G_0(-s)G_0(s)$ también estarán ubicados de forma simétrica."
   ]
  }
 ],
 "metadata": {
  "jupytext": {
   "formats": "ipynb,md:myst",
   "text_representation": {
    "extension": ".md",
    "format_name": "myst",
    "format_version": 0.13,
    "jupytext_version": "1.10.2"
   }
  },
  "kernelspec": {
   "display_name": "Python 3",
   "language": "python",
   "name": "python3"
  },
  "language_info": {
   "codemirror_mode": {
    "name": "ipython",
    "version": 3
   },
   "file_extension": ".py",
   "mimetype": "text/x-python",
   "name": "python",
   "nbconvert_exporter": "python",
   "pygments_lexer": "ipython3",
   "version": "3.8.11"
  },
  "source_map": [
   15,
   19,
   48,
   74,
   109,
   120,
   140
  ]
 },
 "nbformat": 4,
 "nbformat_minor": 5
}