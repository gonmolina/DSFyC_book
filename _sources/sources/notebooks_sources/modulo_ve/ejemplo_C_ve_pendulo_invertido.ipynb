{
 "cells": [
  {
   "cell_type": "code",
   "execution_count": 1,
   "id": "b9fee959",
   "metadata": {
    "colab": {},
    "colab_type": "code",
    "executionInfo": {
     "elapsed": 878,
     "status": "ok",
     "timestamp": 1600887583376,
     "user": {
      "displayName": "gonzalo molina",
      "photoUrl": "",
      "userId": "03146719216223860883"
     },
     "user_tz": 180
    },
    "id": "9d3suj4ejvVZ",
    "tags": [
     "remove-cell"
    ]
   },
   "outputs": [],
   "source": [
    "import control as ctrl\n",
    "import numpy as np\n",
    "import matplotlib.pyplot as plt"
   ]
  },
  {
   "cell_type": "markdown",
   "id": "22b4ddb7",
   "metadata": {},
   "source": [
    "# Diseño del sistema de control del pédulo invertido"
   ]
  },
  {
   "cell_type": "markdown",
   "id": "8558e733",
   "metadata": {
    "colab_type": "text",
    "id": "zLhphrmYQfRZ"
   },
   "source": [
    "Seguimos con el ejemplo de teoría, pero con un pequeño cambio:"
   ]
  },
  {
   "cell_type": "code",
   "execution_count": 2,
   "id": "e59a7f43",
   "metadata": {
    "colab": {
     "base_uri": "https://localhost:8080/",
     "height": 170
    },
    "colab_type": "code",
    "executionInfo": {
     "elapsed": 75,
     "status": "ok",
     "timestamp": 1600887592097,
     "user": {
      "displayName": "gonzalo molina",
      "photoUrl": "",
      "userId": "03146719216223860883"
     },
     "user_tz": 180
    },
    "id": "xTsRWAtAjvVg",
    "outputId": "9826c964-7267-4d9c-ef74-6c5164c1b0ed"
   },
   "outputs": [
    {
     "data": {
      "text/latex": [
       "\\[\n",
       "\\left(\n",
       "\\begin{array}{rllrll|rll}\n",
       "0\\phantom{.}&\\hspace{-1em}&\\hspace{-1em}\\phantom{\\cdot}&1\\phantom{.}&\\hspace{-1em}&\\hspace{-1em}\\phantom{\\cdot}&0\\phantom{.}&\\hspace{-1em}&\\hspace{-1em}\\phantom{\\cdot}\\\\\n",
       "-4\\phantom{.}&\\hspace{-1em}&\\hspace{-1em}\\phantom{\\cdot}&0\\phantom{.}&\\hspace{-1em}&\\hspace{-1em}\\phantom{\\cdot}&1\\phantom{.}&\\hspace{-1em}&\\hspace{-1em}\\phantom{\\cdot}\\\\\n",
       "\\hline\n",
       "1\\phantom{.}&\\hspace{-1em}&\\hspace{-1em}\\phantom{\\cdot}&0\\phantom{.}&\\hspace{-1em}&\\hspace{-1em}\\phantom{\\cdot}&0\\phantom{.}&\\hspace{-1em}&\\hspace{-1em}\\phantom{\\cdot}\\\\\n",
       "\\end{array}\\right)\n",
       "\\]"
      ],
      "text/plain": [
       "StateSpace(array([[ 0.,  1.],\n",
       "       [-4.,  0.]]), array([[0.],\n",
       "       [1.]]), array([[1., 0.]]), array([[0.]]))"
      ]
     },
     "execution_count": 2,
     "metadata": {},
     "output_type": "execute_result"
    }
   ],
   "source": [
    "w0=2\n",
    "A=[[0,1],[-w0**2,0]]\n",
    "B=[[0],[1]]\n",
    "C=[1,0]\n",
    "D=0\n",
    "\n",
    "pendulo=ctrl.ss(A,B,C,D)\n",
    "pendulo"
   ]
  },
  {
   "cell_type": "markdown",
   "id": "5a7a8dc6",
   "metadata": {
    "colab_type": "text",
    "id": "X5tpCzCqQxbc"
   },
   "source": [
    "## Obtención de la ley de control"
   ]
  },
  {
   "cell_type": "code",
   "execution_count": 3,
   "id": "633b4791",
   "metadata": {
    "colab": {
     "base_uri": "https://localhost:8080/",
     "height": 34
    },
    "colab_type": "code",
    "executionInfo": {
     "elapsed": 66,
     "status": "ok",
     "timestamp": 1600887592433,
     "user": {
      "displayName": "gonzalo molina",
      "photoUrl": "",
      "userId": "03146719216223860883"
     },
     "user_tz": 180
    },
    "id": "Bmx-2ifgjvVw",
    "outputId": "ea5a22d1-a038-4e0f-d016-0708b8d22fb0"
   },
   "outputs": [
    {
     "data": {
      "text/plain": [
       "array([[12.,  8.]])"
      ]
     },
     "execution_count": 3,
     "metadata": {},
     "output_type": "execute_result"
    }
   ],
   "source": [
    "K=ctrl.acker(pendulo.A,pendulo.B,[-2*w0,-2*w0])\n",
    "K"
   ]
  },
  {
   "cell_type": "markdown",
   "id": "247b33bd",
   "metadata": {
    "colab_type": "text",
    "id": "j8aD5bcEQ6Mp"
   },
   "source": [
    "## Diseño del estimador completo"
   ]
  },
  {
   "cell_type": "code",
   "execution_count": 4,
   "id": "64fb0cbb",
   "metadata": {
    "colab": {},
    "colab_type": "code",
    "executionInfo": {
     "elapsed": 164,
     "status": "ok",
     "timestamp": 1600887592864,
     "user": {
      "displayName": "gonzalo molina",
      "photoUrl": "",
      "userId": "03146719216223860883"
     },
     "user_tz": 180
    },
    "id": "N0WrjtyXjvVm"
   },
   "outputs": [],
   "source": [
    "L=ctrl.acker(pendulo.A.T,pendulo.C.T,[-4*w0,-4*w0]).T"
   ]
  },
  {
   "cell_type": "code",
   "execution_count": 5,
   "id": "9256d881",
   "metadata": {
    "colab": {
     "base_uri": "https://localhost:8080/",
     "height": 51
    },
    "colab_type": "code",
    "executionInfo": {
     "elapsed": 89,
     "status": "ok",
     "timestamp": 1600887592948,
     "user": {
      "displayName": "gonzalo molina",
      "photoUrl": "",
      "userId": "03146719216223860883"
     },
     "user_tz": 180
    },
    "id": "mIW2WWYsjvVr",
    "outputId": "b094c105-e46c-4c02-d1e2-4ab11d1f0c09"
   },
   "outputs": [
    {
     "data": {
      "text/plain": [
       "array([[16.],\n",
       "       [60.]])"
      ]
     },
     "execution_count": 5,
     "metadata": {},
     "output_type": "execute_result"
    }
   ],
   "source": [
    "L"
   ]
  },
  {
   "cell_type": "code",
   "execution_count": 6,
   "id": "7539f008",
   "metadata": {
    "colab": {
     "base_uri": "https://localhost:8080/",
     "height": 34
    },
    "colab_type": "code",
    "executionInfo": {
     "elapsed": 86,
     "status": "ok",
     "timestamp": 1600887593114,
     "user": {
      "displayName": "gonzalo molina",
      "photoUrl": "",
      "userId": "03146719216223860883"
     },
     "user_tz": 180
    },
    "id": "8I5qf9F-jvV1",
    "outputId": "0ed843f1-0c77-4a13-a54f-b1791f508b2c"
   },
   "outputs": [
    {
     "data": {
      "text/plain": [
       "array([-4., -4.])"
      ]
     },
     "execution_count": 6,
     "metadata": {},
     "output_type": "execute_result"
    }
   ],
   "source": [
    "np.linalg.eigvals(pendulo.A-pendulo.B@K)"
   ]
  },
  {
   "cell_type": "code",
   "execution_count": 7,
   "id": "f7feffb4",
   "metadata": {
    "colab": {
     "base_uri": "https://localhost:8080/",
     "height": 34
    },
    "colab_type": "code",
    "executionInfo": {
     "elapsed": 80,
     "status": "ok",
     "timestamp": 1600887593710,
     "user": {
      "displayName": "gonzalo molina",
      "photoUrl": "",
      "userId": "03146719216223860883"
     },
     "user_tz": 180
    },
    "id": "f_tJSKkajvV5",
    "outputId": "d0add423-274e-4d53-9e88-fca5ac30c441"
   },
   "outputs": [
    {
     "data": {
      "text/plain": [
       "array([-8., -8.])"
      ]
     },
     "execution_count": 7,
     "metadata": {},
     "output_type": "execute_result"
    }
   ],
   "source": [
    "np.linalg.eigvals(pendulo.A-L@pendulo.C)"
   ]
  },
  {
   "cell_type": "markdown",
   "id": "60d0b385",
   "metadata": {
    "colab_type": "text",
    "id": "0ILtOeUgRDu6"
   },
   "source": [
    "## Definimos el sistema compensador ( entrada $y$, salida $u$)"
   ]
  },
  {
   "cell_type": "code",
   "execution_count": 8,
   "id": "6dcace8f",
   "metadata": {
    "colab": {
     "base_uri": "https://localhost:8080/",
     "height": 170
    },
    "colab_type": "code",
    "executionInfo": {
     "elapsed": 89,
     "status": "ok",
     "timestamp": 1600887595681,
     "user": {
      "displayName": "gonzalo molina",
      "photoUrl": "",
      "userId": "03146719216223860883"
     },
     "user_tz": 180
    },
    "id": "f9-yRdoTjvV_",
    "outputId": "33cd2459-3801-4c74-c127-23f42271dd69"
   },
   "outputs": [
    {
     "data": {
      "text/latex": [
       "\\[\n",
       "\\left(\n",
       "\\begin{array}{rllrll|rll}\n",
       "-16\\phantom{.}&\\hspace{-1em}&\\hspace{-1em}\\phantom{\\cdot}&1\\phantom{.}&\\hspace{-1em}&\\hspace{-1em}\\phantom{\\cdot}&16\\phantom{.}&\\hspace{-1em}&\\hspace{-1em}\\phantom{\\cdot}\\\\\n",
       "-76\\phantom{.}&\\hspace{-1em}&\\hspace{-1em}\\phantom{\\cdot}&-8\\phantom{.}&\\hspace{-1em}&\\hspace{-1em}\\phantom{\\cdot}&60\\phantom{.}&\\hspace{-1em}&\\hspace{-1em}\\phantom{\\cdot}\\\\\n",
       "\\hline\n",
       "-12\\phantom{.}&\\hspace{-1em}&\\hspace{-1em}\\phantom{\\cdot}&-8\\phantom{.}&\\hspace{-1em}&\\hspace{-1em}\\phantom{\\cdot}&0\\phantom{.}&\\hspace{-1em}&\\hspace{-1em}\\phantom{\\cdot}\\\\\n",
       "\\end{array}\\right)\n",
       "\\]"
      ],
      "text/plain": [
       "StateSpace(array([[-16.,   1.],\n",
       "       [-76.,  -8.]]), array([[16.],\n",
       "       [60.]]), array([[-12.,  -8.]]), array([[0.]]))"
      ]
     },
     "execution_count": 8,
     "metadata": {},
     "output_type": "execute_result"
    }
   ],
   "source": [
    "s=pendulo\n",
    "Acomp=s.A-s.B@K-L@s.C\n",
    "Bcomp=L\n",
    "Ccomp=-K\n",
    "comp=ctrl.ss(Acomp,Bcomp,Ccomp,0)\n",
    "comp"
   ]
  },
  {
   "cell_type": "code",
   "execution_count": 9,
   "id": "e84a5808",
   "metadata": {
    "colab": {
     "base_uri": "https://localhost:8080/",
     "height": 34
    },
    "colab_type": "code",
    "executionInfo": {
     "elapsed": 74,
     "status": "ok",
     "timestamp": 1600887596319,
     "user": {
      "displayName": "gonzalo molina",
      "photoUrl": "",
      "userId": "03146719216223860883"
     },
     "user_tz": 180
    },
    "id": "TBr5EF4LjvWD",
    "outputId": "b0be4a9b-a5de-4cd8-8748-8bd40a517640"
   },
   "outputs": [
    {
     "data": {
      "text/plain": [
       "array([-12.+7.74596669j, -12.-7.74596669j])"
      ]
     },
     "execution_count": 9,
     "metadata": {},
     "output_type": "execute_result"
    }
   ],
   "source": [
    "np.linalg.eigvals(comp.A)"
   ]
  },
  {
   "cell_type": "markdown",
   "id": "ad32daab",
   "metadata": {
    "colab_type": "text",
    "id": "GVl0c3o-SQdr"
   },
   "source": [
    "Vemos que los polos del compensador son estables!"
   ]
  },
  {
   "cell_type": "code",
   "execution_count": 10,
   "id": "591b403c",
   "metadata": {
    "colab": {
     "base_uri": "https://localhost:8080/",
     "height": 34
    },
    "colab_type": "code",
    "executionInfo": {
     "elapsed": 77,
     "status": "ok",
     "timestamp": 1600887597398,
     "user": {
      "displayName": "gonzalo molina",
      "photoUrl": "",
      "userId": "03146719216223860883"
     },
     "user_tz": 180
    },
    "id": "oNNODB36jvWH",
    "outputId": "2dd72ebc-c192-4ffe-e2f8-c10fa237f44a"
   },
   "outputs": [
    {
     "data": {
      "text/plain": [
       "array([-0.30952381+0.j])"
      ]
     },
     "execution_count": 10,
     "metadata": {},
     "output_type": "execute_result"
    }
   ],
   "source": [
    " comp.zero()"
   ]
  },
  {
   "cell_type": "markdown",
   "id": "60413e16",
   "metadata": {
    "colab_type": "text",
    "id": "YXLS-XtZR0Wz"
   },
   "source": [
    "Verificamos que los polos a lazo cerrado del sistema compensado son los adecuados:"
   ]
  },
  {
   "cell_type": "code",
   "execution_count": 11,
   "id": "afbf5013",
   "metadata": {
    "colab": {
     "base_uri": "https://localhost:8080/",
     "height": 51
    },
    "colab_type": "code",
    "executionInfo": {
     "elapsed": 58,
     "status": "ok",
     "timestamp": 1600887600472,
     "user": {
      "displayName": "gonzalo molina",
      "photoUrl": "",
      "userId": "03146719216223860883"
     },
     "user_tz": 180
    },
    "id": "ju4lV5k-RylN",
    "outputId": "657d1a21-388a-48ee-f591-b8603b2726e5"
   },
   "outputs": [
    {
     "data": {
      "text/plain": [
       "array([-8.00000064, -7.99999936, -4.00000054, -3.99999946])"
      ]
     },
     "execution_count": 11,
     "metadata": {},
     "output_type": "execute_result"
    }
   ],
   "source": [
    "sys_comp = ctrl.feedback(-s*comp)\n",
    "sys_comp.pole()"
   ]
  },
  {
   "cell_type": "markdown",
   "id": "05d2021d",
   "metadata": {
    "colab_type": "text",
    "id": "SYwU4LmaScIE"
   },
   "source": [
    "Ahora verificamos que el sistema a lazo cerrado tiene efectivamente los polos donde se pretendía. Igualmente será necesario rediseñar para lograr un controlador que sea correcto."
   ]
  },
  {
   "cell_type": "markdown",
   "id": "1ccd5219",
   "metadata": {
    "colab_type": "text",
    "id": "dePTqAuIjvWM"
   },
   "source": [
    "## Sistema completo."
   ]
  },
  {
   "cell_type": "code",
   "execution_count": 12,
   "id": "4d757c4e",
   "metadata": {
    "colab": {},
    "colab_type": "code",
    "executionInfo": {
     "elapsed": 99,
     "status": "ok",
     "timestamp": 1600887322154,
     "user": {
      "displayName": "gonzalo molina",
      "photoUrl": "",
      "userId": "03146719216223860883"
     },
     "user_tz": 180
    },
    "id": "okSMV0NUjvWM"
   },
   "outputs": [],
   "source": [
    "sys_completo =  ctrl.connect(ctrl.append(s,comp),[[1,2],[2,1]],[1],[1,2])\n",
    "t,y = ctrl.initial_response(sys_completo, X0=[1,0,0,0], T=np.linspace(0,3,1001))"
   ]
  },
  {
   "cell_type": "code",
   "execution_count": 13,
   "id": "3fd4c795",
   "metadata": {
    "colab": {
     "base_uri": "https://localhost:8080/",
     "height": 430
    },
    "colab_type": "code",
    "executionInfo": {
     "elapsed": 1141,
     "status": "ok",
     "timestamp": 1600887607512,
     "user": {
      "displayName": "gonzalo molina",
      "photoUrl": "",
      "userId": "03146719216223860883"
     },
     "user_tz": 180
    },
    "id": "hBc4qmV7jvWT",
    "outputId": "63552704-e0d2-44fa-afe9-e1847e92880f",
    "tags": [
     "hide-input"
    ]
   },
   "outputs": [
    {
     "data": {
      "image/png": "[encoded data removed]",
      "text/plain": [
       "<Figure size 864x576 with 2 Axes>"
      ]
     },
     "metadata": {
      "filenames": {
       "image/png": "/home/runner/work/DSFyC_book/DSFyC_book/_build/jupyter_execute/sources/notebooks_sources/modulo_ve/ejemplo_C_ve_pendulo_invertido_21_0.png"
      },
      "needs_background": "light"
     },
     "output_type": "display_data"
    }
   ],
   "source": [
    "fig, ax = plt.subplots(2,1,figsize=(12,8))\n",
    "ax[0].plot(t,y[0,:],label=\"sys completo\")\n",
    "ax[0].set_title('Respuesta al escalón en la referencia')\n",
    "ax[0].set_xlabel(\"Tiempo\")\n",
    "ax[0].set_ylabel(\"Salida\")\n",
    "ax[0].grid()\n",
    "ax[1].plot(t,y[1,:],label=\"sys completo\")\n",
    "ax[1].set_title('Respuesta al escalón en la referencia')\n",
    "ax[1].set_xlabel(\"Tiempo\")\n",
    "ax[1].set_ylabel(\"Salida\")\n",
    "ax[1].grid()\n",
    "fig.tight_layout()"
   ]
  },
  {
   "cell_type": "code",
   "execution_count": 14,
   "id": "a80a013f",
   "metadata": {
    "colab": {
     "base_uri": "https://localhost:8080/",
     "height": 51
    },
    "colab_type": "code",
    "executionInfo": {
     "elapsed": 52,
     "status": "ok",
     "timestamp": 1600887620966,
     "user": {
      "displayName": "gonzalo molina",
      "photoUrl": "",
      "userId": "03146719216223860883"
     },
     "user_tz": 180
    },
    "id": "nT5TtqmxjvWc",
    "outputId": "79570990-5350-4c92-b3b8-1b8e177fd6be"
   },
   "outputs": [
    {
     "data": {
      "text/plain": [
       "array([-8.        +2.97116012e-07j, -8.        -2.97116012e-07j,\n",
       "       -4.00000034+0.00000000e+00j, -3.99999966+0.00000000e+00j])"
      ]
     },
     "execution_count": 14,
     "metadata": {},
     "output_type": "execute_result"
    }
   ],
   "source": [
    "np.linalg.eigvals(sys_completo.A)"
   ]
  },
  {
   "cell_type": "markdown",
   "id": "76817583",
   "metadata": {
    "colab_type": "text",
    "id": "TvMLcJ3H2Y8H"
   },
   "source": [
    "# Ubicación óptima de los autovalores del estimador"
   ]
  },
  {
   "cell_type": "code",
   "execution_count": 15,
   "id": "4095a644",
   "metadata": {
    "colab": {},
    "colab_type": "code",
    "executionInfo": {
     "elapsed": 55,
     "status": "ok",
     "timestamp": 1600887631034,
     "user": {
      "displayName": "gonzalo molina",
      "photoUrl": "",
      "userId": "03146719216223860883"
     },
     "user_tz": 180
    },
    "id": "dtXrd3-X2iOo"
   },
   "outputs": [],
   "source": [
    "B1=B"
   ]
  },
  {
   "cell_type": "code",
   "execution_count": 16,
   "id": "e3ad9ac5",
   "metadata": {
    "colab": {},
    "colab_type": "code",
    "executionInfo": {
     "elapsed": 53,
     "status": "ok",
     "timestamp": 1600887631672,
     "user": {
      "displayName": "gonzalo molina",
      "photoUrl": "",
      "userId": "03146719216223860883"
     },
     "user_tz": 180
    },
    "id": "54pz7Qhm8b8I"
   },
   "outputs": [],
   "source": [
    "def conjugate_tf(G):\n",
    "    num = ctrl.tf(G).num[0][0]\n",
    "    den = ctrl.tf(G).den[0][0]\n",
    "    nume = [num[i]*((-1)**(len(num)%2+1-i)) for i in range(0, len(num))]\n",
    "    dene = [den[i]*((-1)**(len(den)%2+1-i)) for i in range(0, len(den))]\n",
    "    return ctrl.tf(nume,dene)"
   ]
  },
  {
   "cell_type": "code",
   "execution_count": 17,
   "id": "73c218de",
   "metadata": {
    "colab": {
     "base_uri": "https://localhost:8080/",
     "height": 455
    },
    "colab_type": "code",
    "executionInfo": {
     "elapsed": 777,
     "status": "ok",
     "timestamp": 1600887835105,
     "user": {
      "displayName": "gonzalo molina",
      "photoUrl": "",
      "userId": "03146719216223860883"
     },
     "user_tz": 180
    },
    "id": "xetdmVeT8kDR",
    "outputId": "c2600b06-8bec-4c5a-91c0-1e3f95447346"
   },
   "outputs": [
    {
     "data": {
      "image/png": "[encoded data removed]",
      "text/plain": [
       "<Figure size 576x432 with 1 Axes>"
      ]
     },
     "metadata": {
      "filenames": {
       "image/png": "/home/runner/work/DSFyC_book/DSFyC_book/_build/jupyter_execute/sources/notebooks_sources/modulo_ve/ejemplo_C_ve_pendulo_invertido_26_0.png"
      },
      "needs_background": "light"
     },
     "output_type": "display_data"
    }
   ],
   "source": [
    "aux1 = ctrl.ss(A,B1,C,D)\n",
    "aux2 = conjugate_tf(aux1)\n",
    "G_srle = ctrl.tf(aux1)*aux2\n",
    "ctrl.rlocus(G_srle, xlim=[-8,8], ylim=[-10,10]); #aumento los límites para ver la zona donde quiero ubicar el polo\n",
    "plt.gcf().set_size_inches(8,6)"
   ]
  },
  {
   "cell_type": "code",
   "execution_count": 18,
   "id": "d5db41cf",
   "metadata": {
    "colab": {},
    "colab_type": "code",
    "executionInfo": {
     "elapsed": 55,
     "status": "ok",
     "timestamp": 1600887870395,
     "user": {
      "displayName": "gonzalo molina",
      "photoUrl": "",
      "userId": "03146719216223860883"
     },
     "user_tz": 180
    },
    "id": "gcEmIb7P-aDR"
   },
   "outputs": [],
   "source": [
    "k=12000 # lo busco haciendo clcik sobre las lineas del root locus simétrico"
   ]
  },
  {
   "cell_type": "code",
   "execution_count": 19,
   "id": "43892607",
   "metadata": {
    "colab": {
     "base_uri": "https://localhost:8080/",
     "height": 51
    },
    "colab_type": "code",
    "executionInfo": {
     "elapsed": 80,
     "status": "ok",
     "timestamp": 1600888864627,
     "user": {
      "displayName": "gonzalo molina",
      "photoUrl": "",
      "userId": "03146719216223860883"
     },
     "user_tz": 180
    },
    "id": "9ejI9yPM-ga9",
    "outputId": "b8a25523-4f02-4b5d-caea-a8a37210da09"
   },
   "outputs": [
    {
     "name": "stderr",
     "output_type": "stream",
     "text": [
      "/opt/hostedtoolcache/Python/3.8.11/x64/lib/python3.8/site-packages/control/rlocus.py:121: FutureWarning: 'Plot' keyword is deprecated in root_locus; use 'plot'\n",
      "  warnings.warn(\"'Plot' keyword is deprecated in root_locus; \"\n"
     ]
    },
    {
     "data": {
      "text/plain": [
       "array([[-6.53957633-6.83857138j, -6.53957633+6.83857138j,\n",
       "         6.53957633-6.83857138j,  6.53957633+6.83857138j]])"
      ]
     },
     "execution_count": 19,
     "metadata": {},
     "output_type": "execute_result"
    }
   ],
   "source": [
    "r,k = ctrl.rlocus(G_srle, kvect=[8000],Plot=False)\n",
    "r"
   ]
  },
  {
   "cell_type": "code",
   "execution_count": 20,
   "id": "75994f01",
   "metadata": {
    "colab": {
     "base_uri": "https://localhost:8080/",
     "height": 34
    },
    "colab_type": "code",
    "executionInfo": {
     "elapsed": 81,
     "status": "ok",
     "timestamp": 1600888865196,
     "user": {
      "displayName": "gonzalo molina",
      "photoUrl": "",
      "userId": "03146719216223860883"
     },
     "user_tz": 180
    },
    "id": "Y_dALMUc-n2U",
    "outputId": "c793c049-acc5-4a4a-f16f-381b3fe757cb"
   },
   "outputs": [
    {
     "data": {
      "text/plain": [
       "array([-6.53957633-6.83857138j, -6.53957633+6.83857138j])"
      ]
     },
     "execution_count": 20,
     "metadata": {},
     "output_type": "execute_result"
    }
   ],
   "source": [
    "rsel = r[np.real(r)<0]\n",
    "rsel"
   ]
  },
  {
   "cell_type": "code",
   "execution_count": 21,
   "id": "ee78cb6b",
   "metadata": {
    "colab": {
     "base_uri": "https://localhost:8080/",
     "height": 51
    },
    "colab_type": "code",
    "executionInfo": {
     "elapsed": 75,
     "status": "ok",
     "timestamp": 1600888865838,
     "user": {
      "displayName": "gonzalo molina",
      "photoUrl": "",
      "userId": "03146719216223860883"
     },
     "user_tz": 180
    },
    "id": "dZcgHM_y-0bc",
    "outputId": "0c51db02-5c94-4041-eaa9-74d70485f98a"
   },
   "outputs": [
    {
     "data": {
      "text/plain": [
       "array([[13.07915266],\n",
       "       [85.53211714]])"
      ]
     },
     "execution_count": 21,
     "metadata": {},
     "output_type": "execute_result"
    }
   ],
   "source": [
    "L = ctrl.place(pendulo.A.T, pendulo.C.T, rsel).T\n",
    "L"
   ]
  },
  {
   "cell_type": "code",
   "execution_count": 22,
   "id": "bd402d3c",
   "metadata": {
    "colab": {
     "base_uri": "https://localhost:8080/",
     "height": 34
    },
    "colab_type": "code",
    "executionInfo": {
     "elapsed": 85,
     "status": "ok",
     "timestamp": 1600888866534,
     "user": {
      "displayName": "gonzalo molina",
      "photoUrl": "",
      "userId": "03146719216223860883"
     },
     "user_tz": 180
    },
    "id": "ld31qNduYSCZ",
    "outputId": "0aeb2430-2c10-46fb-a5a1-2d0f4fb16962"
   },
   "outputs": [
    {
     "data": {
      "text/plain": [
       "array([-10.53957633+9.75103426j, -10.53957633-9.75103426j])"
      ]
     },
     "execution_count": 22,
     "metadata": {},
     "output_type": "execute_result"
    }
   ],
   "source": [
    "comp_srl = ctrl.ss(s.A-s.B@K-L@s.C, L, -K, 0)\n",
    "comp_srl.pole()"
   ]
  },
  {
   "cell_type": "code",
   "execution_count": 23,
   "id": "5db40655",
   "metadata": {
    "colab": {},
    "colab_type": "code",
    "executionInfo": {
     "elapsed": 112,
     "status": "ok",
     "timestamp": 1600888867379,
     "user": {
      "displayName": "gonzalo molina",
      "photoUrl": "",
      "userId": "03146719216223860883"
     },
     "user_tz": 180
    },
    "id": "6QhVYlZC_Jxa"
   },
   "outputs": [],
   "source": [
    "sys_completo_srl =  ctrl.connect(ctrl.append(s,comp_srl),[[1,2],[2,1]],[1],[1,2])\n",
    "t_srl, y_srl = ctrl.initial_response(sys_completo_srl, X0=[1,0,0,0], T=np.linspace(0,3,1001))"
   ]
  },
  {
   "cell_type": "code",
   "execution_count": 24,
   "id": "af0a1ddd",
   "metadata": {
    "colab": {
     "base_uri": "https://localhost:8080/",
     "height": 51
    },
    "colab_type": "code",
    "executionInfo": {
     "elapsed": 76,
     "status": "ok",
     "timestamp": 1600888870584,
     "user": {
      "displayName": "gonzalo molina",
      "photoUrl": "",
      "userId": "03146719216223860883"
     },
     "user_tz": 180
    },
    "id": "Ix5XjZeCXalo",
    "outputId": "afbfbabf-9545-47e7-b0e1-30003a4fa714"
   },
   "outputs": [
    {
     "data": {
      "text/plain": [
       "array([[13.07915266],\n",
       "       [85.53211714]])"
      ]
     },
     "execution_count": 24,
     "metadata": {},
     "output_type": "execute_result"
    }
   ],
   "source": [
    "L"
   ]
  },
  {
   "cell_type": "code",
   "execution_count": 25,
   "id": "fb336fec",
   "metadata": {
    "colab": {
     "base_uri": "https://localhost:8080/",
     "height": 34
    },
    "colab_type": "code",
    "executionInfo": {
     "elapsed": 75,
     "status": "ok",
     "timestamp": 1600888871273,
     "user": {
      "displayName": "gonzalo molina",
      "photoUrl": "",
      "userId": "03146719216223860883"
     },
     "user_tz": 180
    },
    "id": "qXhyVGAJXg-W",
    "outputId": "a84b8e34-25d5-4043-846b-ff9f17d9ad0d"
   },
   "outputs": [
    {
     "data": {
      "text/plain": [
       "array([[12.,  8.]])"
      ]
     },
     "execution_count": 25,
     "metadata": {},
     "output_type": "execute_result"
    }
   ],
   "source": [
    "K"
   ]
  },
  {
   "cell_type": "code",
   "execution_count": 26,
   "id": "8be006da",
   "metadata": {
    "colab": {
     "base_uri": "https://localhost:8080/",
     "height": 430
    },
    "colab_type": "code",
    "executionInfo": {
     "elapsed": 608,
     "status": "ok",
     "timestamp": 1600889024676,
     "user": {
      "displayName": "gonzalo molina",
      "photoUrl": "",
      "userId": "03146719216223860883"
     },
     "user_tz": 180
    },
    "id": "w9zPIgY_Xi0e",
    "outputId": "7b4e10e0-63d7-45e3-d8db-dcac5abb2d0e",
    "tags": [
     "hide-input"
    ]
   },
   "outputs": [
    {
     "data": {
      "image/png": "[encoded data removed]",
      "text/plain": [
       "<Figure size 864x576 with 2 Axes>"
      ]
     },
     "metadata": {
      "filenames": {
       "image/png": "/home/runner/work/DSFyC_book/DSFyC_book/_build/jupyter_execute/sources/notebooks_sources/modulo_ve/ejemplo_C_ve_pendulo_invertido_35_0.png"
      },
      "needs_background": "light"
     },
     "output_type": "display_data"
    }
   ],
   "source": [
    "fig, ax = plt.subplots(2,1,figsize=(12,8))\n",
    "ax[0].plot(t,y[0,:],label=\"sys completo 2do orden dominante\")\n",
    "ax[0].plot(t_srl,y_srl[0,:],label=\"sys completo SRL\")\n",
    "ax[0].set_title('Respuesta al escalón en la referencia')\n",
    "ax[0].set_xlabel(\"Tiempo\")\n",
    "ax[0].set_ylabel(\"Salida\")\n",
    "ax[0].grid()\n",
    "ax[1].plot(t,y[1,:],label=\"sys completo 2do orden dominante\")\n",
    "ax[1].plot(t_srl,y_srl[1,:],label=\"sys completo SRL\")\n",
    "ax[1].set_title('Respuesta al escalón en la referencia')\n",
    "ax[1].set_xlabel(\"Tiempo\")\n",
    "ax[1].set_ylabel(\"Salida\")\n",
    "ax[1].grid()\n",
    "fig.tight_layout()"
   ]
  },
  {
   "cell_type": "code",
   "execution_count": null,
   "id": "da109438",
   "metadata": {
    "colab": {},
    "colab_type": "code",
    "id": "oavQtEvUa9QK"
   },
   "outputs": [],
   "source": []
  }
 ],
 "metadata": {
  "jupytext": {
   "formats": "ipynb,md:myst",
   "text_representation": {
    "extension": ".md",
    "format_name": "myst",
    "format_version": 0.13,
    "jupytext_version": "1.10.2"
   }
  },
  "kernelspec": {
   "display_name": "Python 3",
   "language": "python",
   "name": "python3"
  },
  "language_info": {
   "codemirror_mode": {
    "name": "ipython",
    "version": 3
   },
   "file_extension": ".py",
   "mimetype": "text/x-python",
   "name": "python",
   "nbconvert_exporter": "python",
   "pygments_lexer": "ipython3",
   "version": "3.8.11"
  },
  "source_map": [
   15,
   34,
   38,
   42,
   70,
   74,
   96,
   100,
   118,
   139,
   160,
   181,
   185,
   211,
   232,
   236,
   257,
   261,
   283,
   287,
   292,
   311,
   344,
   365,
   369,
   387,
   410,
   435,
   453,
   475,
   497,
   519,
   541,
   560,
   581,
   602,
   637
  ]
 },
 "nbformat": 4,
 "nbformat_minor": 5
}