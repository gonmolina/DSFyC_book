{
 "cells": [
  {
   "cell_type": "markdown",
   "id": "8da2a316",
   "metadata": {},
   "source": [
    "# Linealización de sistemas no-lineales\n",
    "\n",
    "## Definiciones\n",
    "\n",
    "Definimos un sistema no-lineal con el par $(\\boldsymbol{f},\\boldsymbol{g})$ de la forma:\n",
    "\n",
    "$$\n",
    "\\begin{aligned}\n",
    "\\dot{\\mathbf{x}}(t) &= \\boldsymbol{f}(\\mathbf{x}(t),\\mathbf{u}(t))\\\\\n",
    "\\mathbf{y}(t) &= \\boldsymbol{g}(\\mathbf{x}(t),\\mathbf{u}(t))\n",
    "\\end{aligned}\n",
    "$$\n",
    "\n",
    "esto es la generalización de sistemas SISO vistos con anterioridad.\n",
    "\n",
    "## Punto de equilibrio\n",
    "\n",
    "El punto de equilibrio de un sistema cualquiera para una dada entrada $\\mathbf{u}_0$ es aquel para el cual el sistema se encuentra en reposo, es decir que\n",
    "\n",
    "$$\\boldsymbol{f}(\\mathbf{x}_0, \\mathbf{u}_0) = 0$$\n",
    "\n",
    "Cabe destacar que si el sistema es lineal el puto de equilibrio del sistema será $\\mathbf{x}_0=0; \\mathbf{u}_0=0$"
   ]
  },
  {
   "cell_type": "markdown",
   "id": "0e00e72c",
   "metadata": {},
   "source": [
    "## Linealización en variables de estado (Jacobiano)\n",
    "\n",
    "Por definición sea el **sistema no-lineal** $(\\boldsymbol{f},\\boldsymbol{g})$ y dado $(\\mathbf{x}_0,\\mathbf{u}_0)$ un el **punto de equilibrio** del sistema. La linealización del sistema en $(\\mathbf{x}_0, \\mathbf{u}_0)$ es el **sistema lineal**:\n",
    "\n",
    "$$\n",
    "\\begin{split}\n",
    "A & = \\frac{\\partial \\boldsymbol{f}(\\mathbf{x}, \\mathbf{u})}{\\partial \\mathbf{x}}=\\begin{bmatrix}\n",
    "  \\frac{\\partial f_1}{\\partial x_1} & \\cdots & \\frac{\\partial f_1}{\\partial x_n} \\\\\n",
    "  \\vdots &  & \\vdots \\\\\n",
    "   \\frac{\\partial f_n}{\\partial x_1} & \\cdots & \\frac{\\partial f_n}{\\partial x_n} \\end{bmatrix}\\\\\n",
    "B & = \\frac{\\partial \\boldsymbol{f}(\\mathbf{x}, \\mathbf{u})}{\\partial \\mathbf{u}} = \\begin{bmatrix}\n",
    "  \\frac{\\partial f_1}{\\partial u_1} & \\cdots & \\frac{\\partial f_1}{\\partial u_m} \\\\\n",
    "  \\vdots &  & \\vdots \\\\\n",
    "   \\frac{\\partial f_n}{\\partial u_1} & \\cdots & \\frac{\\partial f_n}{\\partial x_m} \\end{bmatrix}\\\\\n",
    "C & = \\frac{\\partial \\boldsymbol{g}(\\mathbf{x}, \\mathbf{u})}{\\partial \\mathbf{x}} = \\begin{bmatrix}\n",
    "  \\frac{\\partial g_1}{\\partial x_1} & \\cdots & \\frac{\\partial g_1}{\\partial x_n} \\\\\n",
    "  \\vdots &  & \\vdots \\\\\n",
    "   \\frac{\\partial g_n}{\\partial x_1} & \\cdots & \\frac{\\partial g_n}{\\partial x_n} \\end{bmatrix}\\\\\n",
    "D & = \\frac{\\partial \\boldsymbol{g(\\mathbf{x}, \\mathbf{u})}}{\\partial \\mathbf{u}}  = \\begin{bmatrix}\n",
    "  \\frac{\\partial g_1}{\\partial u_1} & \\cdots & \\frac{\\partial g_1}{\\partial u_m} \\\\\n",
    "  \\vdots &  & \\vdots \\\\\n",
    "   \\frac{\\partial g_p}{\\partial u_1} & \\cdots & \\frac{\\partial g_p}{\\partial u_m} \\end{bmatrix}\\\\\n",
    "\\end{split}\n",
    "$$\n",
    "\n",
    "Donde todas las derivadas parciales son evaluadas en el punto $(\\mathbf{x}_0, \\mathbf{u}_0)$."
   ]
  },
  {
   "cell_type": "markdown",
   "id": "e88b70a0",
   "metadata": {},
   "source": [
    "## Linealización por expansión polinomial en series de **Taylor**\n",
    "\n",
    "si tenemos que $y=f(x)$ una función con una única variable $x$ y $(x_0,u_0)$ es un **punto de equilibro** del sistema, entonces la expansión de Taylor de la función $y$ será:\n",
    "\n",
    "$$\n",
    "y=f(x_0)+ \\frac{df}{dx}\\bigg\\rvert_{x=x_0} (x-x_0)+\\underbrace{ \\frac{1}{2\\,!}\\frac{d^2f}{dx^2}\\bigg\\rvert_{x=x_0} (x-x_0)^2+ \\dots}_{\\mbox{despreciando los términos no lineales}}\n",
    "$$"
   ]
  },
  {
   "cell_type": "markdown",
   "id": "f1210984",
   "metadata": {},
   "source": [
    "![fig_taylor](lin_taylor_white.png)"
   ]
  },
  {
   "cell_type": "markdown",
   "id": "6e52d33b",
   "metadata": {},
   "source": [
    "Considerando pequeñas variaciones en las proximidades del punto de equilibrio, es decir, $\\delta x = x - x_0$ se producirán pequeñas variaciones en la salida, de la forma $\\delta y=y-y_0$, donde $y_0=f(x_0)$ tendremos:"
   ]
  },
  {
   "cell_type": "markdown",
   "id": "dab83d1f",
   "metadata": {},
   "source": [
    "$$\n",
    "\\begin{matrix}\n",
    "y = y_0 + \\frac{df}{dx}\\bigg\\rvert_{x=x_0} (x-x_0) & \\Longrightarrow & \\delta y = \\frac{df}{dx}\\bigg\\rvert_{x=x_0} \\delta x\n",
    "\\end{matrix}\n",
    "$$"
   ]
  },
  {
   "cell_type": "markdown",
   "id": "1d287771",
   "metadata": {},
   "source": [
    "Lo anterior se puede ampliar para el caso de 2 variables de la siguiente manera\n",
    "$y=f(x_1,x_2)$,  con $(x_{10},x_{20},u_0)$ como un **punto de equilibrio** para el sistema, entonces tendremos que la aproximación por Taylor será:\n",
    "\n",
    "$$\n",
    "y \\simeq f(x_{10},x_{20})+ \\frac{df(x_{1},x_{2})}{dx_{1}}\\bigg\\rvert_{x=(x_{10},x_{20})} (x_1-x_{10})+\\frac{df(x_{1},x_{2})}{dx_{2}}\\bigg\\rvert_{x=(x_{10},x_{20})} (x_2-x_{20})\n",
    "$$"
   ]
  },
  {
   "cell_type": "markdown",
   "id": "9b7cdfe7",
   "metadata": {},
   "source": [
    "### Ejemplo: sistema masa-resorte-amortiguador"
   ]
  },
  {
   "cell_type": "markdown",
   "id": "1422146c",
   "metadata": {},
   "source": [
    "Partiendo de la ecuación del sistema no lineal, haremos una aproximación por Taylor\n",
    "\n",
    "$$\n",
    "\\ddot x = \\frac{1}{m} F+ g - \\frac{b}{m} \\dot x - \\frac{k}{m}x^3\\\\\n",
    "y =h (\\dot x, x, F)\n",
    "$$\n",
    "\n",
    "en el punto de equilibrio:\n",
    "\n",
    "$$\n",
    " \\begin{matrix}\n",
    " \\dot x = \\ddot{x}=0 & \\Longrightarrow  & (\\dot{x_0},x_0, F_0)\n",
    " \\end{matrix}\n",
    "$$\n",
    "\n",
    "entonces\n",
    "\n",
    "$$\n",
    "y=y_0+ \\frac{dh}{dF}\\bigg\\rvert_{(\\dot{x_0},x_0,F_0)} \\delta F+\\frac{dh}{d\\dot x}\\bigg\\rvert_{(\\dot{x_0},x_0,F_0)} \\delta \\dot x\n",
    "$$\n",
    "\n",
    "$$\n",
    "\\delta y = y-y_0 = \\frac{1}{m} \\delta F+\\left(\\frac{-3k{x_0}^2}{m}\\right) \\delta x +\\left(\\frac{-b}{m}\\right)\\delta \\dot x\n",
    "$$\n",
    "\n",
    "luego, como $\\delta y=\\delta\\ddot{x}$ la ecuación linealizada es\n",
    "\n",
    "$$\n",
    "\\delta \\ddot x = \\frac{1}{m} \\delta F-\\frac{3k{x_0}^2}{m} \\delta x-\\frac{b}{m} \\delta \\dot x\n",
    "$$"
   ]
  }
 ],
 "metadata": {
  "jupytext": {
   "formats": "ipynb,md:myst",
   "text_representation": {
    "extension": ".md",
    "format_name": "myst",
    "format_version": 0.13,
    "jupytext_version": "1.11.0"
   }
  },
  "kernelspec": {
   "display_name": "Python 3",
   "language": "python",
   "name": "python3"
  },
  "language_info": {
   "codemirror_mode": {
    "name": "ipython",
    "version": 3
   },
   "file_extension": ".py",
   "mimetype": "text/x-python",
   "name": "python",
   "nbconvert_exporter": "python",
   "pygments_lexer": "ipython3",
   "version": "3.8.11"
  },
  "source_map": [
   13,
   38,
   67,
   77,
   81,
   85,
   93,
   102,
   106
  ]
 },
 "nbformat": 4,
 "nbformat_minor": 5
}