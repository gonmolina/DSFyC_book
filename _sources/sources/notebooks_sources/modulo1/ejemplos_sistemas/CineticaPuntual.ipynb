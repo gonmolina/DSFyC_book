{
 "cells": [
  {
   "cell_type": "markdown",
   "id": "7acc1b9b",
   "metadata": {},
   "source": [
    "# Ecuaciones de Cinética Puntual"
   ]
  },
  {
   "cell_type": "markdown",
   "id": "635c4922",
   "metadata": {},
   "source": [
    "## Ecuaciones de cinética de un reactor nuclear"
   ]
  },
  {
   "cell_type": "markdown",
   "id": "d85133e1",
   "metadata": {},
   "source": [
    "Las ecuaciones de cinética puntual del núcleo de un reactor a un grupo de energía y a un grupo de precursores sin fuente de neutrones son:\n",
    "\n",
    "$$\n",
    "\\begin{eqnarray}\n",
    "\\frac{dn(t)}{dt}&=&\\frac{\\rho(t)-\\beta}{\\Lambda}n(t)+\\lambda c(t)\\\\\n",
    "\\frac{dc(t)}{dt}&=&\\frac{\\beta}{\\Lambda}n(t)-\\lambda c(t)\n",
    "\\end{eqnarray}\n",
    "$$\n",
    "\n",
    "con $n$ el flujo neutrónico normalizado (en realidad es población de neutrones, pero bajo ciertas condiciones se puede considerar proporcional al flujo neutrónico o potencia nuclear), $c$ la concentración de precursores, y $\\rho$ la reactividad introducida en el mismo por las barras de control. Los parámetros del sistema son: $\\Lambda = 1,76e^{-4} s$ (tiempo de reproducción de los neutrones rápidos), $\\lambda = 0,076 1/s$ (constante de decaimiento de los precursores) y $\\beta = 765$pcm (fracción de neutrones retardados que son emitidos por los precursores)."
   ]
  },
  {
   "cell_type": "code",
   "execution_count": 1,
   "id": "4ff91094",
   "metadata": {},
   "outputs": [],
   "source": [
    "import sympy as sp\n",
    "sp.init_printing()\n",
    "n, r, b, L, l, c = sp.symbols('n, rho, beta, Lambda, lambda, c')"
   ]
  },
  {
   "cell_type": "markdown",
   "id": "d9772ce4",
   "metadata": {},
   "source": [
    "Definimos las ecuaciones de estados, es decir, las derivadas de las variables de estados en función de los estados y las entradas."
   ]
  },
  {
   "cell_type": "code",
   "execution_count": 2,
   "id": "e1c3b75b",
   "metadata": {},
   "outputs": [
    {
     "name": "stderr",
     "output_type": "stream",
     "text": [
      "/opt/hostedtoolcache/Python/3.8.11/x64/lib/python3.8/site-packages/IPython/lib/latextools.py:126: MatplotlibDeprecationWarning: \n",
      "The to_png function was deprecated in Matplotlib 3.4 and will be removed two minor releases later. Use mathtext.math_to_image instead.\n",
      "  mt.to_png(f, s, fontsize=12, dpi=dpi, color=color)\n",
      "/opt/hostedtoolcache/Python/3.8.11/x64/lib/python3.8/site-packages/IPython/lib/latextools.py:126: MatplotlibDeprecationWarning: \n",
      "The to_rgba function was deprecated in Matplotlib 3.4 and will be removed two minor releases later. Use mathtext.math_to_image instead.\n",
      "  mt.to_png(f, s, fontsize=12, dpi=dpi, color=color)\n",
      "/opt/hostedtoolcache/Python/3.8.11/x64/lib/python3.8/site-packages/IPython/lib/latextools.py:126: MatplotlibDeprecationWarning: \n",
      "The to_mask function was deprecated in Matplotlib 3.4 and will be removed two minor releases later. Use mathtext.math_to_image instead.\n",
      "  mt.to_png(f, s, fontsize=12, dpi=dpi, color=color)\n",
      "/opt/hostedtoolcache/Python/3.8.11/x64/lib/python3.8/site-packages/IPython/lib/latextools.py:126: MatplotlibDeprecationWarning: \n",
      "The MathtextBackendBitmap class was deprecated in Matplotlib 3.4 and will be removed two minor releases later. Use mathtext.math_to_image instead.\n",
      "  mt.to_png(f, s, fontsize=12, dpi=dpi, color=color)\n"
     ]
    },
    {
     "data": {
      "image/png": "[encoded data removed]",
      "text/latex": [
       "$\\displaystyle c \\lambda + \\frac{n \\left(- \\beta + \\rho\\right)}{\\Lambda}$"
      ],
      "text/plain": [
       "      n⋅(-β + ρ)\n",
       "c⋅λ + ──────────\n",
       "          Λ     "
      ]
     },
     "execution_count": 2,
     "metadata": {
      "filenames": {
       "image/png": "/home/runner/work/DSFyC_book/DSFyC_book/_build/jupyter_execute/sources/notebooks_sources/modulo1/ejemplos_sistemas/CineticaPuntual_5_1.png"
      }
     },
     "output_type": "execute_result"
    }
   ],
   "source": [
    "dn=(r-b)/L*n+l*c\n",
    "dn"
   ]
  },
  {
   "cell_type": "code",
   "execution_count": 3,
   "id": "2d253e8a",
   "metadata": {},
   "outputs": [
    {
     "data": {
      "image/png": "[encoded data removed]",
      "text/latex": [
       "$\\displaystyle - c \\lambda + \\frac{\\beta n}{\\Lambda}$"
      ],
      "text/plain": [
       "       β⋅n\n",
       "-c⋅λ + ───\n",
       "        Λ "
      ]
     },
     "execution_count": 3,
     "metadata": {
      "filenames": {
       "image/png": "/home/runner/work/DSFyC_book/DSFyC_book/_build/jupyter_execute/sources/notebooks_sources/modulo1/ejemplos_sistemas/CineticaPuntual_6_0.png"
      }
     },
     "output_type": "execute_result"
    }
   ],
   "source": [
    "dc=b/L*n-l*c\n",
    "dc"
   ]
  },
  {
   "cell_type": "markdown",
   "id": "e7bc85c8",
   "metadata": {},
   "source": [
    "Ahora le decimos a sympy que lo represente en forma matricial:"
   ]
  },
  {
   "cell_type": "code",
   "execution_count": 4,
   "id": "bf3e3b42",
   "metadata": {},
   "outputs": [
    {
     "data": {
      "text/latex": [
       "$\\displaystyle \\left[\\begin{matrix}c \\lambda + \\frac{n \\left(- \\beta + \\rho\\right)}{\\Lambda}\\\\- c \\lambda + \\frac{\\beta n}{\\Lambda}\\end{matrix}\\right]$"
      ],
      "text/plain": [
       "⎡      n⋅(-β + ρ)⎤\n",
       "⎢c⋅λ + ──────────⎥\n",
       "⎢          Λ     ⎥\n",
       "⎢                ⎥\n",
       "⎢          β⋅n   ⎥\n",
       "⎢   -c⋅λ + ───   ⎥\n",
       "⎣           Λ    ⎦"
      ]
     },
     "execution_count": 4,
     "metadata": {},
     "output_type": "execute_result"
    }
   ],
   "source": [
    "s=sp.Matrix([dn,dc]) #las ecuaciones de estados\n",
    "s"
   ]
  },
  {
   "cell_type": "code",
   "execution_count": 5,
   "id": "b7559129",
   "metadata": {},
   "outputs": [
    {
     "data": {
      "text/latex": [
       "$\\displaystyle \\left[\\begin{matrix}n\\\\c\\end{matrix}\\right]$"
      ],
      "text/plain": [
       "⎡n⎤\n",
       "⎢ ⎥\n",
       "⎣c⎦"
      ]
     },
     "execution_count": 5,
     "metadata": {},
     "output_type": "execute_result"
    }
   ],
   "source": [
    "x=sp.Matrix([n,c]) #definimos el vector de estados\n",
    "x"
   ]
  },
  {
   "cell_type": "code",
   "execution_count": 6,
   "id": "7eeb7d67",
   "metadata": {},
   "outputs": [
    {
     "data": {
      "text/latex": [
       "$\\displaystyle \\left[\\begin{matrix}\\rho\\end{matrix}\\right]$"
      ],
      "text/plain": [
       "[ρ]"
      ]
     },
     "execution_count": 6,
     "metadata": {},
     "output_type": "execute_result"
    }
   ],
   "source": [
    "u=sp.Matrix([r]) #definimos el vector de entradas\n",
    "u"
   ]
  },
  {
   "cell_type": "markdown",
   "id": "21b4bfca",
   "metadata": {},
   "source": [
    "## Linealización utilizando SymPy"
   ]
  },
  {
   "cell_type": "markdown",
   "id": "1a707451",
   "metadata": {},
   "source": [
    "Recordando la función Jacobiano, podemos valernos de esta para linealizar el sistema"
   ]
  },
  {
   "cell_type": "code",
   "execution_count": 7,
   "id": "7564e4ab",
   "metadata": {},
   "outputs": [],
   "source": [
    "A=s.jacobian(x) # la matriz A del espacio de estados\n",
    "B=s.jacobian(u) #la matriz B del espacio de estados"
   ]
  },
  {
   "cell_type": "code",
   "execution_count": 8,
   "id": "9bf1c38a",
   "metadata": {},
   "outputs": [
    {
     "data": {
      "text/latex": [
       "$\\displaystyle \\left[\\begin{matrix}\\frac{- \\beta + \\rho}{\\Lambda} & \\lambda\\\\\\frac{\\beta}{\\Lambda} & - \\lambda\\end{matrix}\\right]$"
      ],
      "text/plain": [
       "⎡-β + ρ    ⎤\n",
       "⎢──────  λ ⎥\n",
       "⎢  Λ       ⎥\n",
       "⎢          ⎥\n",
       "⎢  β       ⎥\n",
       "⎢  ─     -λ⎥\n",
       "⎣  Λ       ⎦"
      ]
     },
     "execution_count": 8,
     "metadata": {},
     "output_type": "execute_result"
    }
   ],
   "source": [
    "A"
   ]
  },
  {
   "cell_type": "code",
   "execution_count": 9,
   "id": "8da0d63e",
   "metadata": {},
   "outputs": [
    {
     "data": {
      "text/latex": [
       "$\\displaystyle \\left[\\begin{matrix}\\frac{n}{\\Lambda}\\\\0\\end{matrix}\\right]$"
      ],
      "text/plain": [
       "⎡n⎤\n",
       "⎢─⎥\n",
       "⎢Λ⎥\n",
       "⎢ ⎥\n",
       "⎣0⎦"
      ]
     },
     "execution_count": 9,
     "metadata": {},
     "output_type": "execute_result"
    }
   ],
   "source": [
    "B"
   ]
  },
  {
   "cell_type": "markdown",
   "id": "ba10d255",
   "metadata": {},
   "source": [
    "Finalmente evaluamos las matrices A y B en los valores de los parámetros que tenemos dados."
   ]
  },
  {
   "cell_type": "code",
   "execution_count": 10,
   "id": "e2d6b9b4",
   "metadata": {},
   "outputs": [
    {
     "data": {
      "text/latex": [
       "$\\displaystyle \\left[\\begin{matrix}5681.81818181818 \\rho - 43.4659090909091 & 0.076\\\\43.4659090909091 & -0.076\\end{matrix}\\right]$"
      ],
      "text/plain": [
       "⎡5681.81818181818⋅ρ - 43.4659090909091  0.076 ⎤\n",
       "⎢                                             ⎥\n",
       "⎣          43.4659090909091             -0.076⎦"
      ]
     },
     "execution_count": 10,
     "metadata": {},
     "output_type": "execute_result"
    }
   ],
   "source": [
    "A.subs([(l, 0.076), (b,765e-5),(L,1.76e-4)])"
   ]
  },
  {
   "cell_type": "code",
   "execution_count": 11,
   "id": "0058c88e",
   "metadata": {},
   "outputs": [
    {
     "data": {
      "text/latex": [
       "$\\displaystyle \\left[\\begin{matrix}5681.81818181818 n\\\\0\\end{matrix}\\right]$"
      ],
      "text/plain": [
       "⎡5681.81818181818⋅n⎤\n",
       "⎢                  ⎥\n",
       "⎣        0         ⎦"
      ]
     },
     "execution_count": 11,
     "metadata": {},
     "output_type": "execute_result"
    }
   ],
   "source": [
    "B.subs([(l, 0.076), (B,765e-5),(L,1.76e-4)])"
   ]
  },
  {
   "cell_type": "markdown",
   "id": "24f9292e",
   "metadata": {},
   "source": [
    "Para obtener el punto de equilibrio, suponemos que trabajaremos alrededor de $n=1$, y lo que se hace es igualar a cero las ecuaciones de la derivada."
   ]
  },
  {
   "cell_type": "code",
   "execution_count": 12,
   "id": "66a1044e",
   "metadata": {},
   "outputs": [],
   "source": [
    "s2=s.subs([(l, 0.076), (b,765e-5),(L,1.76e-4),(n,1)])\n",
    "sol0=sp.solve(s2,(c,r))"
   ]
  },
  {
   "cell_type": "code",
   "execution_count": 13,
   "id": "4ce2a8b0",
   "metadata": {},
   "outputs": [],
   "source": [
    "c0=sol0[c]\n",
    "r0=sol0[r]"
   ]
  },
  {
   "cell_type": "code",
   "execution_count": 14,
   "id": "a17c7f18",
   "metadata": {},
   "outputs": [],
   "source": [
    "An=A.subs([(l, 0.076), (b,765e-5),(L,1.76e-4),(n,1),(r,r0),(c,c0)])\n",
    "Bn=B.subs([(l, 0.076), (b,765e-5),(L,1.76e-4),(n,1),(r,r0),(c,c0)])"
   ]
  },
  {
   "cell_type": "markdown",
   "id": "dd79176f",
   "metadata": {},
   "source": [
    "## Simulación numérica"
   ]
  },
  {
   "cell_type": "code",
   "execution_count": 15,
   "id": "089b2a2e",
   "metadata": {},
   "outputs": [],
   "source": [
    "from scipy.integrate import solve_ivp\n",
    "import matplotlib.pyplot as plt\n",
    "# %matplotlib qt5  # descomentar para ver las figuras en ventanas emergentes"
   ]
  },
  {
   "cell_type": "code",
   "execution_count": 16,
   "id": "88dcf8a2",
   "metadata": {},
   "outputs": [],
   "source": [
    "l=0.076\n",
    "b=765e-5\n",
    "L=1.76e-4\n",
    "n0=1"
   ]
  },
  {
   "cell_type": "code",
   "execution_count": 17,
   "id": "86c5be70",
   "metadata": {},
   "outputs": [],
   "source": [
    "def dx(t,x):\n",
    "    n=x[0]\n",
    "    c=x[1]\n",
    "    r= r0 if t<0 else r0 -10e-5 #1000pcm para poner un valor\n",
    "    dn=(r-b)/L*n+l*c\n",
    "    dc=b/L*n-l*c\n",
    "    return ([dn,dc])"
   ]
  },
  {
   "cell_type": "code",
   "execution_count": 18,
   "id": "5d7402f1",
   "metadata": {},
   "outputs": [],
   "source": [
    "sol = solve_ivp(dx, (0,7), (n0,c0), method='BDF')\n",
    "t= sol.t\n",
    "n=sol.y[0]\n",
    "c=sol.y[1]"
   ]
  },
  {
   "cell_type": "markdown",
   "id": "1470c5d8",
   "metadata": {},
   "source": [
    "La simulación dinámica del sistema lineal la podemos hacer usando directamente el módulo de control."
   ]
  },
  {
   "cell_type": "code",
   "execution_count": 19,
   "id": "8d7d57d8",
   "metadata": {},
   "outputs": [],
   "source": [
    "import control as ctrl\n",
    "import numpy as np"
   ]
  },
  {
   "cell_type": "code",
   "execution_count": 20,
   "id": "718f1b8a",
   "metadata": {},
   "outputs": [],
   "source": [
    "Cn=np.eye(2)\n",
    "Dn=np.zeros((2,1))"
   ]
  },
  {
   "cell_type": "code",
   "execution_count": 21,
   "id": "a5c8dbf0",
   "metadata": {},
   "outputs": [],
   "source": [
    "sys = ctrl.ss(An,Bn,Cn,Dn)\n",
    "t2,y2 = ctrl.step_response(sys, T=np.linspace(0,7,1001))"
   ]
  },
  {
   "cell_type": "markdown",
   "id": "6f549628",
   "metadata": {},
   "source": [
    "Entonces ahora podemos visualizar los resultados en las siguientes figuras:"
   ]
  },
  {
   "cell_type": "code",
   "execution_count": 22,
   "id": "031c75a8",
   "metadata": {
    "tags": [
     "hide-input"
    ]
   },
   "outputs": [
    {
     "data": {
      "image/png": "[encoded data removed]",
      "text/plain": [
       "<Figure size 720x288 with 1 Axes>"
      ]
     },
     "metadata": {
      "filenames": {
       "image/png": "/home/runner/work/DSFyC_book/DSFyC_book/_build/jupyter_execute/sources/notebooks_sources/modulo1/ejemplos_sistemas/CineticaPuntual_33_0.png"
      },
      "needs_background": "light"
     },
     "output_type": "display_data"
    }
   ],
   "source": [
    "fig = plt.figure(figsize=(10,4))\n",
    "ax = fig.add_axes([0.1, 0.1, 0.8, 0.8])\n",
    "ax.plot(t,n,'r', label='Modelo no lineal')\n",
    "ax.plot(t2,(y2[0,:]*-10e-5+n0).T,'b', alpha=0.6, label='Modelo lineal')\n",
    "ax.grid()\n",
    "ax.legend()\n",
    "ax.set_title('Respuesta al escalón de -10pcm')\n",
    "ax.set_xlabel('Tiempo [s]')\n",
    "ax.set_ylabel('Flujo neutrónico');"
   ]
  },
  {
   "cell_type": "code",
   "execution_count": 23,
   "id": "f1779a9e",
   "metadata": {
    "tags": [
     "hide-input"
    ]
   },
   "outputs": [
    {
     "data": {
      "image/png": "[encoded data removed]",
      "text/plain": [
       "<Figure size 720x288 with 1 Axes>"
      ]
     },
     "metadata": {
      "filenames": {
       "image/png": "/home/runner/work/DSFyC_book/DSFyC_book/_build/jupyter_execute/sources/notebooks_sources/modulo1/ejemplos_sistemas/CineticaPuntual_34_0.png"
      },
      "needs_background": "light"
     },
     "output_type": "display_data"
    }
   ],
   "source": [
    "fig = plt.figure(figsize=(10,4))\n",
    "ax = fig.add_axes([0.1, 0.1, 0.8, 0.8])\n",
    "ax.plot(t,c,'r', label='Modelo no lineal')\n",
    "ax.plot(t2,(y2[1,:]*-10e-5+c0).T,'b', alpha=0.6, label='Modelo lineal')\n",
    "ax.grid()\n",
    "ax.legend()\n",
    "ax.set_title('Respuesta al escalón de -10pcm')\n",
    "ax.set_xlabel('Tiempo [s]')\n",
    "ax.set_ylabel('Concentración de precursores');"
   ]
  },
  {
   "cell_type": "markdown",
   "id": "3184af04",
   "metadata": {},
   "source": [
    "Vemos que el sistema linealizado es una muy buena aproximación del no lineal. Esto es por que la perturbación de 10pcm es suficientemente chica y el sistema no se aleja demasiado del punto del cual linealizamos."
   ]
  },
  {
   "cell_type": "markdown",
   "id": "117d3e20",
   "metadata": {},
   "source": [
    "## Probemos aumentado un poco más la reactividad de entrada a 200 pcm"
   ]
  },
  {
   "cell_type": "code",
   "execution_count": 24,
   "id": "c97e6cda",
   "metadata": {},
   "outputs": [],
   "source": [
    "def dx(t,x):\n",
    "    n=x[0]\n",
    "    c=x[1]\n",
    "    r= r0 if t<0 else r0 -200e-5 #1000pcm para poner un valor\n",
    "    dn=(r-b)/L*n+l*c\n",
    "    dc=b/L*n-l*c\n",
    "    return ([dn,dc])"
   ]
  },
  {
   "cell_type": "code",
   "execution_count": 25,
   "id": "58f55b39",
   "metadata": {},
   "outputs": [],
   "source": [
    "sol = solve_ivp(dx, (0,7), (n0,c0), method='BDF')\n",
    "t= sol.t\n",
    "n=sol.y[0]\n",
    "c=sol.y[1]"
   ]
  },
  {
   "cell_type": "markdown",
   "id": "66d137f8",
   "metadata": {},
   "source": [
    "Y los resultados los vemos en las siguientes gráficas:"
   ]
  },
  {
   "cell_type": "code",
   "execution_count": 26,
   "id": "b879df26",
   "metadata": {
    "tags": [
     "hide-input"
    ]
   },
   "outputs": [
    {
     "data": {
      "image/png": "[encoded data removed]",
      "text/plain": [
       "<Figure size 720x288 with 1 Axes>"
      ]
     },
     "metadata": {
      "filenames": {
       "image/png": "/home/runner/work/DSFyC_book/DSFyC_book/_build/jupyter_execute/sources/notebooks_sources/modulo1/ejemplos_sistemas/CineticaPuntual_40_0.png"
      },
      "needs_background": "light"
     },
     "output_type": "display_data"
    }
   ],
   "source": [
    "fig = plt.figure(figsize=(10,4))\n",
    "ax = fig.add_axes([0.1, 0.1, 0.8, 0.8])\n",
    "ax.plot(t,n,'r', label='Modelo no lineal')\n",
    "ax.plot(t2,(y2[0,:]*-200e-5+n0).T,'b', alpha=0.6, label='Modelo lineal')\n",
    "ax.grid()\n",
    "ax.set_title('Respuesta al escalón de -200pcm')\n",
    "ax.set_xlabel('Tiempo [s]')\n",
    "ax.legend()\n",
    "ax.set_ylabel('Flujo neutrónico');"
   ]
  },
  {
   "cell_type": "code",
   "execution_count": 27,
   "id": "736d2212",
   "metadata": {
    "tags": [
     "hide-input"
    ]
   },
   "outputs": [
    {
     "data": {
      "image/png": "[encoded data removed]",
      "text/plain": [
       "<Figure size 720x288 with 1 Axes>"
      ]
     },
     "metadata": {
      "filenames": {
       "image/png": "/home/runner/work/DSFyC_book/DSFyC_book/_build/jupyter_execute/sources/notebooks_sources/modulo1/ejemplos_sistemas/CineticaPuntual_41_0.png"
      },
      "needs_background": "light"
     },
     "output_type": "display_data"
    }
   ],
   "source": [
    "fig = plt.figure(figsize=(10,4))\n",
    "ax = fig.add_axes([0.1, 0.1, 0.8, 0.8])\n",
    "ax.plot(t,c,'r', label='Modelo no lineal')\n",
    "ax.plot(t2,(y2[1,:]*-200e-5+c0).T,'b', alpha=0.6, label='Modelo lineal')\n",
    "ax.grid()\n",
    "ax.set_title('Respuesta al escalón de -200pcm')\n",
    "ax.set_xlabel('Tiempo [s]')\n",
    "ax.legend()\n",
    "ax.set_ylabel('Concentración de precursores');"
   ]
  },
  {
   "cell_type": "markdown",
   "id": "cd9ba323",
   "metadata": {},
   "source": [
    "Vemos como ahora la aproximación es bastante peor a la que teníamos cuando lo perturbamos con 10 pcm."
   ]
  }
 ],
 "metadata": {
  "jupytext": {
   "formats": "ipynb,md:myst",
   "text_representation": {
    "extension": ".md",
    "format_name": "myst",
    "format_version": 0.13,
    "jupytext_version": "1.11.0"
   }
  },
  "kernelspec": {
   "display_name": "Python 3",
   "language": "python",
   "name": "python3"
  },
  "language_info": {
   "codemirror_mode": {
    "name": "ipython",
    "version": 3
   },
   "file_extension": ".py",
   "mimetype": "text/x-python",
   "name": "python",
   "nbconvert_exporter": "python",
   "pygments_lexer": "ipython3",
   "version": "3.8.11"
  },
  "source_map": [
   13,
   17,
   21,
   34,
   38,
   42,
   47,
   50,
   54,
   59,
   64,
   67,
   71,
   75,
   80,
   84,
   86,
   90,
   94,
   96,
   100,
   105,
   110,
   113,
   117,
   123,
   130,
   140,
   145,
   149,
   154,
   159,
   162,
   166,
   180,
   192,
   196,
   200,
   210,
   215,
   219,
   233,
   245
  ]
 },
 "nbformat": 4,
 "nbformat_minor": 5
}