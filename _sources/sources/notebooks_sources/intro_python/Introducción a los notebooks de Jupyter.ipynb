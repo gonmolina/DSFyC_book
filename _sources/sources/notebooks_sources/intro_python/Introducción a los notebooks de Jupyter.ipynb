{
 "cells": [
  {
   "cell_type": "markdown",
   "id": "616dc5d2",
   "metadata": {},
   "source": [
    "# Introducción a los cuadernos de Jupyter\n",
    "\n",
    "Estaremos utilizando Python a través de una interfaz conveniente\n",
    "que son los [Jupyter Notebook](http://jupyter.org/).\n",
    "Si a este cuaderno lo está visualizando a través de una pagina web, puede\n",
    "descargarlo haciendo click en icono de descarga ubicado arriba a la derecha\n",
    "y seleccionando el formato `ipynb`. También se puede ejecutar a desde la web,\n",
    "usando *binder*, haciendo click donde se encuentra el cohete. Los archivos\n",
    "con la extensión `.ipynb` son cuadernos de jupyter o jupyter notebooks."
   ]
  },
  {
   "cell_type": "markdown",
   "id": "43a13e36",
   "metadata": {},
   "source": [
    "Existen varias alternativas para visualizar los cuadernos de Jupyter. Paso a\n",
    "describir las más utilizadas:\n",
    "\n",
    "- Jupyter Notebook: se encuentra instalada con el software recomendado para\n",
    "la materia y consiste en una página web, que es servida por nuestra propia\n",
    "computadora. Es relativamente liviana en cuanto a recursos computacionales y\n",
    "con esta se pueden ver, ejecutar y editar los cuadernos\n",
    "\n",
    "- Jupyter Lab: es similar a la anterior, también se encuentra pre instalada\n",
    "con el software recomendado para la materia, pero cuenta con algunas\n",
    "funcionalidades extra como explorador de variables, ayuda contextual,\n",
    "explorador de archivos, y otras funcionalidades instalables a través de\n",
    "plugins. Esta es la forma recomendada por la cátedra para acceder a los\n",
    "cuadernos\n",
    "\n",
    "- Spyder: este es un entorno de desarrollo integrado (IDE) pre-instalado con\n",
    "el software recomendado por la cátedra. Para los cuadernos se usa un plugin\n",
    "que se llama spyder-notebook. Este IDE trata de emular el entorno ofrecido\n",
    "por Matlab. Es una buena elección para personas que están habituadas a\n",
    "utilizar Matlab y quieren o deben comenzar a utilizar Python y los cuadernos\n",
    "de jupyter.\n",
    "\n",
    "- Visual Studio Code: es un software gratuito de microsoft, que con un\n",
    "plugin (Python es el nombre del mismo) soporta todo lo referente a los cuadernos.\n",
    "Si bien utiliza jupyter para mostrar los cuadernos, provee una interface propia.\n",
    "Es recomendable para personas que están habituadas a programar o que quieran además\n",
    "de utilizar los cuadernos, escribir programas en Python o cualquier otro lenguaje en\n",
    "un mismo entorno. La principal desventaja es que suele ser algo complejo de configurar.\n",
    "Sin embargo cuenta con una gran documentación en la web. Se puede descarga\n",
    "[aquí](https://code.visualstudio.com/)."
   ]
  },
  {
   "cell_type": "markdown",
   "id": "8d73c1a3",
   "metadata": {},
   "source": [
    "## Un recorrido rápido\n",
    "\n",
    "Tómese un segundo para recorrer la interfaz del cuaderno con el software que\n",
    "haya elegido para visualizarlo y editarlo. Haga doble click sobre las celdas\n",
    "y mire el código fuente de cada una. Trate de entender la forma es que se\n",
    "escriben los títulos, que se definen las ecuaciones y como es diferencia una\n",
    "celda donde se va escribir código y una donde se escribe texto o ecuaciones\n",
    "matemáticas.\n",
    "\n",
    "Ahora que está familiarizado con la nomenclatura, ¡ejecutemos algo de código!\n",
    "\n",
    "*Evalúe la celda a continuación para imprimir por pantalla el mensaje\n",
    "\"Hello World\" haciendo clic dentro de la celda y luego presionando\n",
    "Shift + Enter*"
   ]
  },
  {
   "cell_type": "code",
   "execution_count": 1,
   "id": "31889454",
   "metadata": {},
   "outputs": [
    {
     "name": "stdout",
     "output_type": "stream",
     "text": [
      "Hello\n",
      "World\n"
     ]
    }
   ],
   "source": [
    "for word in ['Hello', 'World']:\n",
    "    print(word)"
   ]
  },
  {
   "cell_type": "code",
   "execution_count": 2,
   "id": "726ed09e",
   "metadata": {},
   "outputs": [
    {
     "data": {
      "text/plain": [
       "1"
      ]
     },
     "execution_count": 2,
     "metadata": {},
     "output_type": "execute_result"
    }
   ],
   "source": [
    "a = 1\n",
    "a"
   ]
  },
  {
   "cell_type": "markdown",
   "id": "fb3ef5b9",
   "metadata": {
    "lang": "es"
   },
   "source": [
    "### Matemáticas en cuadros de texto\n",
    "\n",
    "El editor de texto admite matemáticas en notación [$\\LaTeX$](latex). Puede\n",
    "hacer doble clic en un cuadro de texto para ver los códigos utilizados para\n",
    "ingresarlo:\n",
    "\n",
    "$$f(a)=\\int^{a=\\infty}_{a=0} \\frac{1}{a+2} \\mathrm{d}a$$\n",
    "\n",
    "Haga doble clic en la fórmula anterior para ver el código que la produjo."
   ]
  },
  {
   "cell_type": "markdown",
   "id": "42c6f49b",
   "metadata": {},
   "source": [
    "Aprovechemos lo aprendido para introducirnos en el mundo de programación\n",
    "científica con Python.\n",
    "\n",
    "Los siguientes secciones de la introducción son a nivel informátivo. No es necesario\n",
    "estudiarlo en esta materia, pero puede ser útil utilizarlo como material de consulta\n",
    "para resolver problemas comunes de la materia así como también de otras disciplinas\n",
    "científicas/ingenieriles."
   ]
  }
 ],
 "metadata": {
  "jupytext": {
   "encoding": "# -*- coding: utf-8 -*-",
   "formats": "ipynb,md:myst",
   "text_representation": {
    "extension": ".md",
    "format_name": "myst",
    "format_version": 0.13,
    "jupytext_version": "1.11.0"
   }
  },
  "kernelspec": {
   "display_name": "Python 3",
   "language": "python",
   "name": "python3"
  },
  "language_info": {
   "codemirror_mode": {
    "name": "ipython",
    "version": 3
   },
   "file_extension": ".py",
   "mimetype": "text/x-python",
   "name": "python",
   "nbconvert_exporter": "python",
   "pygments_lexer": "ipython3",
   "version": "3.8.11"
  },
  "source_map": [
   14,
   26,
   59,
   76,
   81,
   86,
   98
  ]
 },
 "nbformat": 4,
 "nbformat_minor": 5
}