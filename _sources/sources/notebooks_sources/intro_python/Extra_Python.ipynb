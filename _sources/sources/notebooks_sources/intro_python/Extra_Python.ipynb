{
 "cells": [
  {
   "cell_type": "markdown",
   "id": "31f12570",
   "metadata": {},
   "source": [
    "# Introducción a Python\n",
    "\n",
    "Este cuaderno usará Python como lenguaje de programación. Esto significa que\n",
    "la mayor parte de lo aprendido en este curso puede ser desarrollado y\n",
    "aplicado en cuadernos. Los cuadernos se dividen en celdas donde se puede\n",
    "poner código y luego correrlo haciendo **Mayúscula + Enter**.\n",
    "\n",
    "Aquí intenta ase intentará mostrarles algunos de los tipo de datos más comunes de\n",
    "Python con el fin de comenzar a interiorizarnos tanto con el lenguaje como con los\n",
    "cuadernos de de Jupyter."
   ]
  },
  {
   "cell_type": "markdown",
   "id": "e28f0174",
   "metadata": {},
   "source": [
    "## Números\n",
    "\n",
    "Python cuenta con varios formatos o tipos de datos para representar números.\n",
    "\n",
    "### Enteros\n",
    "\n",
    "Cuando una nueva variable numérica se define Python por defecto lo hace como\n",
    "entero. Por ejemplo:"
   ]
  },
  {
   "cell_type": "code",
   "execution_count": 1,
   "id": "0248b871",
   "metadata": {},
   "outputs": [
    {
     "data": {
      "text/plain": [
       "int"
      ]
     },
     "execution_count": 1,
     "metadata": {},
     "output_type": "execute_result"
    }
   ],
   "source": [
    "num = 1\n",
    "type(num)"
   ]
  },
  {
   "cell_type": "markdown",
   "id": "42aa1d54",
   "metadata": {},
   "source": [
    "### Punto flotante\n",
    "\n",
    "En caso de necesitar números con decimales que no pueden ser representados\n",
    "mediante enteros, Python automáticamente los transforma en números punto\n",
    "flotantes, o `float`:"
   ]
  },
  {
   "cell_type": "code",
   "execution_count": 2,
   "id": "e6825afd",
   "metadata": {},
   "outputs": [
    {
     "data": {
      "text/plain": [
       "float"
      ]
     },
     "execution_count": 2,
     "metadata": {},
     "output_type": "execute_result"
    }
   ],
   "source": [
    "num = 1.1\n",
    "type(num)"
   ]
  },
  {
   "cell_type": "markdown",
   "id": "502bd728",
   "metadata": {},
   "source": [
    "En caso de necesitar que un número entero sea representado como un flotante,\n",
    "se puede resolver agregando un punto detrás de entero, por ejemplo:"
   ]
  },
  {
   "cell_type": "code",
   "execution_count": 3,
   "id": "3e42de22",
   "metadata": {},
   "outputs": [
    {
     "data": {
      "text/plain": [
       "float"
      ]
     },
     "execution_count": 3,
     "metadata": {},
     "output_type": "execute_result"
    }
   ],
   "source": [
    "num = 1.\n",
    "type(num)"
   ]
  },
  {
   "cell_type": "markdown",
   "id": "5a1ef4d0",
   "metadata": {},
   "source": [
    "Otra forma de hacerlo, mucho menos común es:"
   ]
  },
  {
   "cell_type": "code",
   "execution_count": 4,
   "id": "fb0c614c",
   "metadata": {},
   "outputs": [
    {
     "data": {
      "text/plain": [
       "float"
      ]
     },
     "execution_count": 4,
     "metadata": {},
     "output_type": "execute_result"
    }
   ],
   "source": [
    "num = float(1)\n",
    "type(num)"
   ]
  },
  {
   "cell_type": "markdown",
   "id": "e26175b1",
   "metadata": {},
   "source": [
    "### Números complejos\n",
    "\n",
    "Python tiene soporte nativo para números complejos usando la letra `j` de la\n",
    "siguiente manera:"
   ]
  },
  {
   "cell_type": "code",
   "execution_count": 5,
   "id": "3e73ad77",
   "metadata": {},
   "outputs": [
    {
     "name": "stdout",
     "output_type": "stream",
     "text": [
      "La variable num toma el siguiente valor:  (1+2j)\n",
      "La variable num es del tipo:  <class 'complex'>\n"
     ]
    }
   ],
   "source": [
    "num = 1+2j\n",
    "print('La variable num toma el siguiente valor: ', num)\n",
    "print('La variable num es del tipo: ', type(num))"
   ]
  },
  {
   "cell_type": "markdown",
   "id": "c9fac472",
   "metadata": {},
   "source": [
    "Python soporta ciertas operaciones de forma nativa con los números complejos:"
   ]
  },
  {
   "cell_type": "code",
   "execution_count": 6,
   "id": "45ba6232",
   "metadata": {},
   "outputs": [
    {
     "name": "stdout",
     "output_type": "stream",
     "text": [
      " La suma de a + b es:  (3+7.8j)\n"
     ]
    }
   ],
   "source": [
    "a = 1 + 2j\n",
    "b = 2 + 5.8j\n",
    "print(' La suma de a + b es: ', a+b)"
   ]
  },
  {
   "cell_type": "code",
   "execution_count": 7,
   "id": "38d31420",
   "metadata": {},
   "outputs": [
    {
     "name": "stdout",
     "output_type": "stream",
     "text": [
      "El conjugado de a vale:  (1-2j)\n"
     ]
    }
   ],
   "source": [
    "print('El conjugado de a vale: ', a.conjugate())"
   ]
  },
  {
   "cell_type": "markdown",
   "id": "856afa5b",
   "metadata": {},
   "source": [
    "Fácilmente podemos obtener la parte real e imaginaria"
   ]
  },
  {
   "cell_type": "code",
   "execution_count": 8,
   "id": "ca881aeb",
   "metadata": {},
   "outputs": [
    {
     "name": "stdout",
     "output_type": "stream",
     "text": [
      "La parte real de a es  1.0  y la parte imaginaria es  2.0\n"
     ]
    }
   ],
   "source": [
    "print('La parte real de a es ', a.real, ' y la parte imaginaria es ',\n",
    "      a.imag)"
   ]
  },
  {
   "cell_type": "markdown",
   "id": "0cec78c4",
   "metadata": {},
   "source": [
    "Notar la diferencia entre el **método** `conjugate` y la **propiedad**\n",
    "`real` y la **propiedad** `imag`. Mientras que `conjugate` se comporta como\n",
    "una función propia de número complejo y debemos llamarla usando paréntesis,\n",
    "`imag` y `real` se comportan como datos o variables del número complejo."
   ]
  },
  {
   "cell_type": "markdown",
   "id": "ec13a407",
   "metadata": {},
   "source": [
    "## Listas\n",
    "\n",
    "Ejemplo de lista, se acumulan con un patron"
   ]
  },
  {
   "cell_type": "code",
   "execution_count": 9,
   "id": "710a5d1b",
   "metadata": {},
   "outputs": [
    {
     "data": {
      "text/plain": [
       "[4, 1, 9, 4, 9]"
      ]
     },
     "execution_count": 9,
     "metadata": {},
     "output_type": "execute_result"
    }
   ],
   "source": [
    "inputs = [2, 1, 3, 2, 4, 3, 6]\n",
    "result = []  # Comenzamos con una lista vacía\n",
    "for i in inputs:  # Iteramos sobre la lista inputs\n",
    "    if i < 4:  # si se cumple esta condición agregamos a result\n",
    "        result.append(i**2)\n",
    "\n",
    "result"
   ]
  },
  {
   "cell_type": "markdown",
   "id": "88fa32c5",
   "metadata": {},
   "source": [
    "Es común ver en Python incluya una sintaxis algo diferente del `for`\n",
    "y el `if` cuando se tiene que ejecutar una sola línea. El siguiente es un\n",
    "ejemplo con ambos cosas."
   ]
  },
  {
   "cell_type": "code",
   "execution_count": 10,
   "id": "e1105ceb",
   "metadata": {},
   "outputs": [
    {
     "data": {
      "text/plain": [
       "[4, 1, 9, 4, 9, 1]"
      ]
     },
     "execution_count": 10,
     "metadata": {},
     "output_type": "execute_result"
    }
   ],
   "source": [
    "result = [i**2 for i in inputs if i < 4]\n",
    "result.append(1)\n",
    "result"
   ]
  },
  {
   "cell_type": "markdown",
   "id": "2ebd2b71",
   "metadata": {},
   "source": [
    "## Diccionarios\n",
    "\n",
    "Una vez familiarizado con las listas, vemos los diccionarios, que son otro\n",
    "tipo de contenedores ordenados."
   ]
  },
  {
   "cell_type": "code",
   "execution_count": 11,
   "id": "259b9bb0",
   "metadata": {},
   "outputs": [],
   "source": [
    "lst = [1, 2, 3]"
   ]
  },
  {
   "cell_type": "markdown",
   "id": "da90ebfd",
   "metadata": {},
   "source": [
    "Podemos recuperar elementos de la lista mediante _indexado_"
   ]
  },
  {
   "cell_type": "code",
   "execution_count": 12,
   "id": "9b32cdbc",
   "metadata": {},
   "outputs": [
    {
     "data": {
      "text/plain": [
       "2"
      ]
     },
     "execution_count": 12,
     "metadata": {},
     "output_type": "execute_result"
    }
   ],
   "source": [
    "lst[1]"
   ]
  },
  {
   "cell_type": "markdown",
   "id": "1239ef91",
   "metadata": {},
   "source": [
    "Un diccionario nos da un contenedor como una lista, pero los índices pueden\n",
    "ser mucho más generales, no solo números, sino cadenas o variables de\n",
    "cualquier tipo, como por ejemplo `sympy` (y una gran cantidad de otros tipos)"
   ]
  },
  {
   "cell_type": "code",
   "execution_count": 13,
   "id": "10a9e849",
   "metadata": {},
   "outputs": [
    {
     "name": "stdout",
     "output_type": "stream",
     "text": [
      "100 45\n"
     ]
    }
   ],
   "source": [
    "dic = {'a': 100, 2: 45, 100: 45}\n",
    "print(dic['a'], dic[2])"
   ]
  },
  {
   "cell_type": "code",
   "execution_count": 14,
   "id": "7d46d9ab",
   "metadata": {
    "tags": [
     "raises-exception"
    ]
   },
   "outputs": [
    {
     "ename": "KeyError",
     "evalue": "0",
     "output_type": "error",
     "traceback": [
      "\u001b[0;31m---------------------------------------------------------------------------\u001b[0m",
      "\u001b[0;31mKeyError\u001b[0m                                  Traceback (most recent call last)",
      "\u001b[0;32m/tmp/ipykernel_1994/1077129509.py\u001b[0m in \u001b[0;36m<module>\u001b[0;34m\u001b[0m\n\u001b[0;32m----> 1\u001b[0;31m \u001b[0mprint\u001b[0m\u001b[0;34m(\u001b[0m\u001b[0mdic\u001b[0m\u001b[0;34m[\u001b[0m\u001b[0;36m0\u001b[0m\u001b[0;34m]\u001b[0m\u001b[0;34m)\u001b[0m\u001b[0;34m\u001b[0m\u001b[0;34m\u001b[0m\u001b[0m\n\u001b[0m",
      "\u001b[0;31mKeyError\u001b[0m: 0"
     ]
    }
   ],
   "source": [
    "print(dic[0])"
   ]
  },
  {
   "cell_type": "markdown",
   "id": "93950e2e",
   "metadata": {},
   "source": [
    "## Tuplas\n",
    "\n",
    "Finalmente, otro contenedor es la tupla:"
   ]
  },
  {
   "cell_type": "code",
   "execution_count": 15,
   "id": "329fa053",
   "metadata": {},
   "outputs": [],
   "source": [
    "x = 1, 2, 3\n",
    "a, b, c = x\n",
    "d, e, f = 4, 5, 6"
   ]
  },
  {
   "cell_type": "code",
   "execution_count": 16,
   "id": "7458c0da",
   "metadata": {},
   "outputs": [
    {
     "name": "stdout",
     "output_type": "stream",
     "text": [
      "2\n"
     ]
    }
   ],
   "source": [
    "def f(x):\n",
    "    Ca, Cb, Cc = x\n",
    "    return Cb\n",
    "\n",
    "\n",
    "k = f(x)\n",
    "print(k)"
   ]
  },
  {
   "cell_type": "code",
   "execution_count": 17,
   "id": "8c2d5785",
   "metadata": {},
   "outputs": [
    {
     "data": {
      "text/plain": [
       "list"
      ]
     },
     "execution_count": 17,
     "metadata": {},
     "output_type": "execute_result"
    }
   ],
   "source": [
    "li = [1, 2, 3, 4]\n",
    "type(li)"
   ]
  },
  {
   "cell_type": "markdown",
   "id": "6fcc4303",
   "metadata": {},
   "source": [
    "Las tuplas son como listas, pero se crean con comas:"
   ]
  },
  {
   "cell_type": "code",
   "execution_count": 18,
   "id": "0f748430",
   "metadata": {},
   "outputs": [
    {
     "data": {
      "text/plain": [
       "tuple"
      ]
     },
     "execution_count": 18,
     "metadata": {},
     "output_type": "execute_result"
    }
   ],
   "source": [
    "t = 1, 2, 3, 4\n",
    "type(t)"
   ]
  },
  {
   "cell_type": "markdown",
   "id": "136abe0f",
   "metadata": {},
   "source": [
    "En algunos casos, es útil usar paréntesis para agrupar tuplas, pero tenga en\n",
    "cuenta que no son requerimientos en la sintaxis:"
   ]
  },
  {
   "cell_type": "code",
   "execution_count": 19,
   "id": "dd55d5e8",
   "metadata": {},
   "outputs": [
    {
     "data": {
      "text/plain": [
       "tuple"
      ]
     },
     "execution_count": 19,
     "metadata": {},
     "output_type": "execute_result"
    }
   ],
   "source": [
    "t2 = (1, 2, 3, 4)\n",
    "type(t2)"
   ]
  },
  {
   "cell_type": "markdown",
   "id": "1e94ce23",
   "metadata": {},
   "source": [
    "Es importante entender que la coma, no los paréntesis forman tuplas:"
   ]
  },
  {
   "cell_type": "code",
   "execution_count": 20,
   "id": "e6508f39",
   "metadata": {},
   "outputs": [
    {
     "data": {
      "text/plain": [
       "int"
      ]
     },
     "execution_count": 20,
     "metadata": {},
     "output_type": "execute_result"
    }
   ],
   "source": [
    "only_one = (((((((1)))))))\n",
    "type(only_one)"
   ]
  },
  {
   "cell_type": "code",
   "execution_count": 21,
   "id": "c61cee29",
   "metadata": {},
   "outputs": [
    {
     "data": {
      "text/plain": [
       "tuple"
      ]
     },
     "execution_count": 21,
     "metadata": {},
     "output_type": "execute_result"
    }
   ],
   "source": [
    "only_one = 1,\n",
    "type(only_one)"
   ]
  },
  {
   "cell_type": "code",
   "execution_count": 22,
   "id": "6834e68a",
   "metadata": {},
   "outputs": [
    {
     "data": {
      "text/plain": [
       "1"
      ]
     },
     "execution_count": 22,
     "metadata": {},
     "output_type": "execute_result"
    }
   ],
   "source": [
    "len(only_one)"
   ]
  },
  {
   "cell_type": "markdown",
   "id": "c58f7a52",
   "metadata": {},
   "source": [
    "La única excepción a esta regla es que una tupla vacía se construye con `()`:"
   ]
  },
  {
   "cell_type": "code",
   "execution_count": 23,
   "id": "497f75eb",
   "metadata": {},
   "outputs": [
    {
     "data": {
      "text/plain": [
       "tuple"
      ]
     },
     "execution_count": 23,
     "metadata": {},
     "output_type": "execute_result"
    }
   ],
   "source": [
    "empty = ()\n",
    "type(empty)"
   ]
  },
  {
   "cell_type": "code",
   "execution_count": 24,
   "id": "a6d2d027",
   "metadata": {},
   "outputs": [
    {
     "data": {
      "text/plain": [
       "0"
      ]
     },
     "execution_count": 24,
     "metadata": {},
     "output_type": "execute_result"
    }
   ],
   "source": [
    "len(empty)"
   ]
  },
  {
   "cell_type": "markdown",
   "id": "401e48cb",
   "metadata": {},
   "source": [
    "Las diferencias entre las tuplas y las listas son que las tuplas son\n",
    "inmutables (no se pueden cambiar \"inplace\")"
   ]
  },
  {
   "cell_type": "code",
   "execution_count": 25,
   "id": "425a6ac2",
   "metadata": {},
   "outputs": [
    {
     "data": {
      "text/plain": [
       "[1, 2, 3, 4, 1]"
      ]
     },
     "execution_count": 25,
     "metadata": {},
     "output_type": "execute_result"
    }
   ],
   "source": [
    "li.append(1)\n",
    "li"
   ]
  },
  {
   "cell_type": "markdown",
   "id": "8542b21b",
   "metadata": {},
   "source": [
    "Pero si ejecutamos"
   ]
  },
  {
   "cell_type": "code",
   "execution_count": 26,
   "id": "b50db899",
   "metadata": {
    "tags": [
     "raises-exception"
    ]
   },
   "outputs": [
    {
     "ename": "AttributeError",
     "evalue": "'tuple' object has no attribute 'append'",
     "output_type": "error",
     "traceback": [
      "\u001b[0;31m---------------------------------------------------------------------------\u001b[0m",
      "\u001b[0;31mAttributeError\u001b[0m                            Traceback (most recent call last)",
      "\u001b[0;32m/tmp/ipykernel_1994/3691855584.py\u001b[0m in \u001b[0;36m<module>\u001b[0;34m\u001b[0m\n\u001b[0;32m----> 1\u001b[0;31m \u001b[0mt\u001b[0m\u001b[0;34m.\u001b[0m\u001b[0mappend\u001b[0m\u001b[0;34m(\u001b[0m\u001b[0;36m1\u001b[0m\u001b[0;34m)\u001b[0m\u001b[0;34m\u001b[0m\u001b[0;34m\u001b[0m\u001b[0m\n\u001b[0m",
      "\u001b[0;31mAttributeError\u001b[0m: 'tuple' object has no attribute 'append'"
     ]
    }
   ],
   "source": [
    "t.append(1)"
   ]
  },
  {
   "cell_type": "markdown",
   "id": "fc722f88",
   "metadata": {},
   "source": [
    "### Expansión de la tupla\n",
    "\n",
    "Una característica muy útil y general del operador de asignación en Python es\n",
    "que las tuplas se expandirán y asignarán en patrones coincidentes:"
   ]
  },
  {
   "cell_type": "code",
   "execution_count": 27,
   "id": "f5ff6cb9",
   "metadata": {},
   "outputs": [],
   "source": [
    "a, b = 1, 2"
   ]
  },
  {
   "cell_type": "markdown",
   "id": "17591241",
   "metadata": {},
   "source": [
    "Esto es bastante sofisticado y puede manejar estructuras anidadas y\n",
    "expandirse a listas:"
   ]
  },
  {
   "cell_type": "code",
   "execution_count": 28,
   "id": "76c16b99",
   "metadata": {},
   "outputs": [],
   "source": [
    "[(a, b,), c, d] = [(1, 2), 1, 4]\n",
    "[f, g, h] = [(1, 2), 1, 4]"
   ]
  },
  {
   "cell_type": "code",
   "execution_count": 29,
   "id": "07cb397f",
   "metadata": {},
   "outputs": [
    {
     "name": "stdout",
     "output_type": "stream",
     "text": [
      "(1, 2)\n",
      "((1, 2), 3)\n",
      "(1, 2, 3)\n"
     ]
    }
   ],
   "source": [
    "f = 1, 2\n",
    "print(f)\n",
    "g = f, 3\n",
    "print(g)\n",
    "h = f[0], f[1], 3\n",
    "print(h)"
   ]
  },
  {
   "cell_type": "markdown",
   "id": "e47cc0ae",
   "metadata": {},
   "source": [
    "## El bucle for en Python\n",
    "\n",
    "Como resumen en Python el bucle `for` lo que hace es recorrer los elementos de\n",
    "objeto del tipo \"iterable\". Por ejemplo una lista, un diccionario o un array\n",
    "de numpy son iterables.\n",
    "\n",
    "Para una lista:"
   ]
  },
  {
   "cell_type": "code",
   "execution_count": 30,
   "id": "04b5799c",
   "metadata": {},
   "outputs": [
    {
     "name": "stdout",
     "output_type": "stream",
     "text": [
      "1\n",
      "2\n",
      "3.0\n",
      "hola\n"
     ]
    }
   ],
   "source": [
    "lista_variada = [1, 2, 3., \"hola\"]\n",
    "for e in lista_variada:\n",
    "    print(e)"
   ]
  },
  {
   "cell_type": "markdown",
   "id": "cde55655",
   "metadata": {},
   "source": [
    "Para un diccionario,  va a devolver en cada iteración la `key` es decir:"
   ]
  },
  {
   "cell_type": "code",
   "execution_count": 31,
   "id": "78441e04",
   "metadata": {},
   "outputs": [],
   "source": [
    "mi_diccionario = {\"el_1\": \"Primer item\", 2: \"segundo item\", \"3\": 45*3.2}"
   ]
  },
  {
   "cell_type": "code",
   "execution_count": 32,
   "id": "ac950273",
   "metadata": {},
   "outputs": [
    {
     "name": "stdout",
     "output_type": "stream",
     "text": [
      "La key es de tipo  <class 'str'> y es  el_1\n",
      "El items de tipo  <class 'str'> y es  Primer item\n",
      "La key es de tipo  <class 'int'> y es  2\n",
      "El items de tipo  <class 'str'> y es  segundo item\n",
      "La key es de tipo  <class 'str'> y es  3\n",
      "El items de tipo  <class 'float'> y es  144.0\n"
     ]
    }
   ],
   "source": [
    "for key in mi_diccionario:\n",
    "    print(\"La key es de tipo \", type(key), \"y es \", key)\n",
    "    print(\"El items de tipo \", type(mi_diccionario[key]),\n",
    "          \"y es \", mi_diccionario[key])"
   ]
  },
  {
   "cell_type": "markdown",
   "id": "7c3c8040",
   "metadata": {},
   "source": [
    "Finalmente para un `array` de `numpy` me va a devolver cada elemento del\n",
    "array"
   ]
  },
  {
   "cell_type": "code",
   "execution_count": 33,
   "id": "673a4238",
   "metadata": {},
   "outputs": [
    {
     "name": "stdout",
     "output_type": "stream",
     "text": [
      "Elemento al cuadrado 1.0\n",
      "Elemento al cuadrado 28056.25\n",
      "Elemento al cuadrado 111556.0\n",
      "Elemento al cuadrado 250500.25\n",
      "Elemento al cuadrado 444889.0\n",
      "Elemento al cuadrado 694722.25\n",
      "Elemento al cuadrado 1000000.0\n"
     ]
    }
   ],
   "source": [
    "import numpy as np\n",
    "\n",
    "n = np.linspace(1, 1000, 7)\n",
    "for i in n:\n",
    "    print(\"Elemento al cuadrado\", i**2)"
   ]
  },
  {
   "cell_type": "markdown",
   "id": "cbea7651",
   "metadata": {},
   "source": [
    "## Funciones\n",
    "\n",
    "Las funciones en Python se definen a partir de la palabra calve `def`.\n",
    "Pueden tomar argumentos posicionales, y argumentos con nombres y con valores por defecto. El siguiente es un ejemplo."
   ]
  },
  {
   "cell_type": "code",
   "execution_count": 34,
   "id": "0095a0cd",
   "metadata": {},
   "outputs": [],
   "source": [
    "def cambio_de_escala(x, m=1, h=0):\n",
    "    y = [i*m+h for i in x]\n",
    "    return y"
   ]
  },
  {
   "cell_type": "markdown",
   "id": "19880be3",
   "metadata": {},
   "source": [
    "El argumento x es un argumento posicional y es obligatorio a la hora\n",
    "de llamar a la función `cambio_de_escala`. Los otros dos, pueden estar o no\n",
    "presentes a la hora de llamar. Si no están presentes, usan el valor por defecto\n",
    "definido en la función."
   ]
  },
  {
   "cell_type": "code",
   "execution_count": 35,
   "id": "0e18e537",
   "metadata": {},
   "outputs": [
    {
     "name": "stdout",
     "output_type": "stream",
     "text": [
      "[1, 2, 3, 4, 5]\n"
     ]
    }
   ],
   "source": [
    "x = [1, 2, 3, 4, 5]\n",
    "x1 = cambio_de_escala(x)\n",
    "print(x1)"
   ]
  },
  {
   "cell_type": "markdown",
   "id": "718de96b",
   "metadata": {},
   "source": [
    "Podemos ver que asumió que `m=0` y `h=1`. También podríamos llamarla a la\n",
    "función de la siguiente manera:"
   ]
  },
  {
   "cell_type": "code",
   "execution_count": 36,
   "id": "4d0b04d3",
   "metadata": {},
   "outputs": [
    {
     "name": "stdout",
     "output_type": "stream",
     "text": [
      "[3, 5, 7, 9, 11]\n"
     ]
    }
   ],
   "source": [
    "x2 = cambio_de_escala(x, m=2, h=1)\n",
    "print(x2)"
   ]
  },
  {
   "cell_type": "markdown",
   "id": "0763b089",
   "metadata": {},
   "source": [
    "O lo que es lo mismo:"
   ]
  },
  {
   "cell_type": "code",
   "execution_count": 37,
   "id": "2a74487d",
   "metadata": {},
   "outputs": [
    {
     "name": "stdout",
     "output_type": "stream",
     "text": [
      "[3, 5, 7, 9, 11]\n"
     ]
    }
   ],
   "source": [
    "x2 = cambio_de_escala(x, h=1, m=2)\n",
    "print(x2)"
   ]
  },
  {
   "cell_type": "markdown",
   "id": "087c1711",
   "metadata": {},
   "source": [
    "O equivalentemente:"
   ]
  },
  {
   "cell_type": "code",
   "execution_count": 38,
   "id": "55ce0468",
   "metadata": {},
   "outputs": [
    {
     "name": "stdout",
     "output_type": "stream",
     "text": [
      "[3, 4, 5, 6, 7]\n"
     ]
    }
   ],
   "source": [
    "x2 = cambio_de_escala(x, 1, 2)\n",
    "print(x2)"
   ]
  },
  {
   "cell_type": "markdown",
   "id": "e1915b94",
   "metadata": {},
   "source": [
    "Pero si intentamos sin darle valores a `x` tendremos:"
   ]
  },
  {
   "cell_type": "code",
   "execution_count": 39,
   "id": "226fe222",
   "metadata": {
    "tags": [
     "raises-exception"
    ]
   },
   "outputs": [
    {
     "ename": "TypeError",
     "evalue": "cambio_de_escala() missing 1 required positional argument: 'x'",
     "output_type": "error",
     "traceback": [
      "\u001b[0;31m---------------------------------------------------------------------------\u001b[0m",
      "\u001b[0;31mTypeError\u001b[0m                                 Traceback (most recent call last)",
      "\u001b[0;32m/tmp/ipykernel_1994/2015032707.py\u001b[0m in \u001b[0;36m<module>\u001b[0;34m\u001b[0m\n\u001b[0;32m----> 1\u001b[0;31m \u001b[0mx3\u001b[0m \u001b[0;34m=\u001b[0m \u001b[0mcambio_de_escala\u001b[0m\u001b[0;34m(\u001b[0m\u001b[0mm\u001b[0m\u001b[0;34m=\u001b[0m\u001b[0;36m1\u001b[0m\u001b[0;34m,\u001b[0m \u001b[0mh\u001b[0m\u001b[0;34m=\u001b[0m\u001b[0;36m2\u001b[0m\u001b[0;34m)\u001b[0m\u001b[0;34m\u001b[0m\u001b[0;34m\u001b[0m\u001b[0m\n\u001b[0m\u001b[1;32m      2\u001b[0m \u001b[0mprint\u001b[0m\u001b[0;34m(\u001b[0m\u001b[0mx3\u001b[0m\u001b[0;34m)\u001b[0m\u001b[0;34m\u001b[0m\u001b[0;34m\u001b[0m\u001b[0m\n",
      "\u001b[0;31mTypeError\u001b[0m: cambio_de_escala() missing 1 required positional argument: 'x'"
     ]
    }
   ],
   "source": [
    "x3 = cambio_de_escala(m=1, h=2)\n",
    "print(x3)"
   ]
  }
 ],
 "metadata": {
  "jupytext": {
   "encoding": "# -*- coding: utf-8 -*-",
   "formats": "md:myst,ipynb",
   "text_representation": {
    "extension": ".md",
    "format_name": "myst",
    "format_version": 0.13,
    "jupytext_version": "1.11.0"
   }
  },
  "kernelspec": {
   "display_name": "Python 3",
   "language": "python",
   "name": "python3"
  },
  "language_info": {
   "codemirror_mode": {
    "name": "ipython",
    "version": 3
   },
   "file_extension": ".py",
   "mimetype": "text/x-python",
   "name": "python",
   "nbconvert_exporter": "python",
   "pygments_lexer": "ipython3",
   "version": "3.8.11"
  },
  "source_map": [
   14,
   27,
   38,
   41,
   49,
   52,
   57,
   60,
   64,
   67,
   74,
   78,
   82,
   88,
   90,
   94,
   97,
   104,
   110,
   118,
   124,
   128,
   135,
   137,
   141,
   143,
   149,
   154,
   158,
   164,
   170,
   180,
   183,
   187,
   190,
   195,
   198,
   202,
   207,
   212,
   214,
   218,
   223,
   225,
   230,
   233,
   237,
   241,
   248,
   250,
   255,
   260,
   267,
   277,
   281,
   285,
   289,
   294,
   299,
   305,
   312,
   316,
   323,
   327,
   332,
   335,
   339,
   342,
   346,
   349,
   353
  ]
 },
 "nbformat": 4,
 "nbformat_minor": 5
}