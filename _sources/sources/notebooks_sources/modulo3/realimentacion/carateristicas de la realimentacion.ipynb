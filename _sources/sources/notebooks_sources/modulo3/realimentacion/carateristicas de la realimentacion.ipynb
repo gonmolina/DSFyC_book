{
 "cells": [
  {
   "cell_type": "markdown",
   "id": "f96fa414",
   "metadata": {},
   "source": [
    "# Características de la realimentación"
   ]
  },
  {
   "cell_type": "markdown",
   "id": "cab9b6b0",
   "metadata": {},
   "source": [
    "## Concepto\n",
    "\n",
    "El control **realimentado** o a **lazo cerrado** tiene la característica de que medimos la salida y luego la comparamos con un valor deseado. El error resultante lo utilizamos para corregir la salida del sistema.\n",
    "\n",
    ":::{figure-md}\n",
    "\n",
    "<img src=\"fig1.png\" width=400px>\n",
    "\n",
    "Lazo cerrado versus lazo abierto\n",
    ":::"
   ]
  },
  {
   "cell_type": "markdown",
   "id": "f507a1e7",
   "metadata": {},
   "source": [
    "En la figura anterior mostramos los diagramas de bloques genéricos de los sistemas de control a lazo cerrado (con realimentación) y a lazo abierto (sin realimentación)."
   ]
  },
  {
   "cell_type": "markdown",
   "id": "935310d0",
   "metadata": {},
   "source": [
    "## Ejemplo"
   ]
  },
  {
   "cell_type": "markdown",
   "id": "24296e7b",
   "metadata": {},
   "source": [
    "### Seguimiento de referencia\n",
    "\n",
    "Las ecuaciones que gobiernan el motor de corriente continua las podemos escribir en forma simplificada de la siguiente manera:\n",
    "\n",
    "$$\\tau \\dot\\omega+\\omega = K_0(V_a+K_lT_l)$$\n",
    "\n",
    "donde:\n",
    "\n",
    "$\\omega$: es la velocidad del rotor (salida del sistema).\n",
    "\n",
    "$V_a$: es la tensión aplicada al motor (entrada a la planta).\n",
    "\n",
    "$T_l$: es la carga sobre el motor.\n",
    "\n",
    "$\\tau$: es la constante de tiempo.\n",
    "\n",
    "$K_0$ y $K_l$: constantes.\n",
    "\n",
    "Realicemos una comparación de colocar un controlador a lazo abierto y otro a lazo cerrado (con realimentación unitaria)."
   ]
  },
  {
   "cell_type": "markdown",
   "id": "45f935a2",
   "metadata": {},
   "source": [
    "#### Análisis del lazo abierto para seguimiento a referencias\n",
    "\n",
    "La ganancia de nuestro controlador ($K_{co}$), será tal que $V_a = K_{co}\\omega_d$. Realizando pruebas, podemos determinar que $K_{co}$ es $1/K_0$; de este modo, para el estado estacionario sin carga ($T_l = 0$), la salida será:\n",
    "\n",
    "$$\\omega = K_0 V_a = \\frac{K_{co} \\omega_d}{ K_0} = \\omega_d$$"
   ]
  },
  {
   "cell_type": "markdown",
   "id": "64a3d482",
   "metadata": {},
   "source": [
    "#### Análisis del lazo cerrado para seguimiento a referencias\n",
    "\n",
    "Para lazo cerrado tenemos que $V_a = K_{cc}(\\omega_d - \\omega)$, donde $K_{cc}$ es la ganancia del nuevo controlador a lazo cerrado. Utilizando la primera ecuación, obtenemos:\n",
    "\n",
    "$$\\tau\\dot\\omega+(1+K_{cc}K_0)\\omega_d=K_0(K_{cc}\\omega_d+k_lT_l)$$\n",
    "\n",
    "y en el estado estacionario:\n",
    "\n",
    "$$\\omega=\\frac{K_0K_{cc}}{1+K_0K_c{c}}\\omega_d$$\n",
    "\n",
    "\n",
    "```{admonition} Conclusión\n",
    ":class: Important\n",
    "\n",
    "Entonces, si se selecciona $K_{cc}$ de manera que $K_0K_{cc} >> 1$, tenemos que $\\omega \\approx \\omega_d$.\n",
    "\n",
    "Como vemos del ejemplo en lazo abierto la salida es exactamente la referencia deseada $(\\omega = \\omega_d)$ y en lazo cerrado es aproximado $(\\omega \\approx \\omega_d)$, pero debemos tener en cuenta que para el caso del sistema a lazo abierto necesitamos conocer exactamente el valor de $K_0$ para determinar la ganancia del controlador $K_{co}$, cosa que no es necesaria para el caso del sistema a lazo cerrado.\n",
    "\n",
    "```"
   ]
  },
  {
   "cell_type": "markdown",
   "id": "7c047717",
   "metadata": {},
   "source": [
    "### Perturbaciones\n",
    "\n",
    "Una perturbación es una entrada adicional a nuestra planta, que afecta a la salida de nuestra planta.\n",
    "\n",
    "En debajo mostramos los diagramas de bloques de sistemas a lazo abierto y cerrado, con perturbaciones w. Analicemos como afectan a la salida dichas perturbaciones."
   ]
  },
  {
   "cell_type": "markdown",
   "id": "fdbcecd9",
   "metadata": {},
   "source": [
    "#### Análisis del lazo abierto frente a perturbaciones\n",
    "\n",
    "La salida y1 debido a una perturbación w, será:\n",
    "\n",
    "$$Y_1 = G\\Omega(s)$$\n",
    "\n",
    "De la misma podemos deducir que el diseñador no puede influir con su compensador para reducir los efectos de las perturbaciones."
   ]
  },
  {
   "cell_type": "markdown",
   "id": "034b0e96",
   "metadata": {},
   "source": [
    "#### Análisis del lazo cerrado frente a perturbaciones\n",
    "\n",
    "La salida $y_2$ debido a una perturbación $\\Omega$, será:\n",
    "\n",
    "$$Y_2 = \\dfrac{G}{1+DG}\\Omega(s)$$\n",
    "\n",
    "Por lo tanto, aquí el diseñador puede elegir un compensador $D$, de módulo grande, de manera de reducir el efecto de la perturbación sobre la salida."
   ]
  },
  {
   "cell_type": "markdown",
   "id": "761a21bd",
   "metadata": {},
   "source": [
    "Cabe observar aquí que para los sistemas realimentados debemos escoger un muy buen sensor."
   ]
  },
  {
   "cell_type": "markdown",
   "id": "36f1b659",
   "metadata": {},
   "source": [
    "### Análisis frente al ruido\n",
    "\n",
    "Analicemos como influye en la salida $y_2$ un ruido $v$ en el sensor. La salida será:\n",
    "\n",
    "$$Y_2=\\dfrac{DG}{1+DG}\\left(R(s)-V(s)\\right)$$\n",
    "\n",
    "Por lo tanto el diseñador no tiene forma de reducir el efecto del ruido sin afectar directamente la función de transferencia desde la referencia de entrada a la salida."
   ]
  },
  {
   "cell_type": "markdown",
   "id": "a6c4cb07",
   "metadata": {},
   "source": [
    "### Perturbación $T_l$"
   ]
  },
  {
   "cell_type": "markdown",
   "id": "c5d87bac",
   "metadata": {},
   "source": [
    "Observemos ahora cómo influye una carga perturbadora $T_l$ sobre la velocidad en el sistema de nuestro ejemplo."
   ]
  },
  {
   "cell_type": "markdown",
   "id": "fefcaf10",
   "metadata": {},
   "source": [
    "#### Ejemplo: Análisis de perturbación a lazo abierto\n",
    "\n",
    "En estado estacionario tenemos:\n",
    "\n",
    "$$\\Omega = K_0(K_{c0}\\Omega_d+K_lT_l)$$\n",
    "\n",
    "Utilizando $K_{co} = \\frac{1}/{K_0}$\n",
    "\n",
    "$$\\Omega = \\Omega_d + K_0K_lT_l$$\n",
    "\n",
    "Entonces la variación de velocidad debida a la carga es:\n",
    "\n",
    "$$\\delta \\Omega =  K_0K_lT_l$$\n",
    "\n",
    "Por lo tanto, el error de velocidad es proporcional a la carga perturbadora (y el diseñador no puede influir en los parámetros $K_l$ y $K_0$)."
   ]
  },
  {
   "cell_type": "markdown",
   "id": "9fa85721",
   "metadata": {},
   "source": [
    "#### Ejemplo: Análisis de la perturbación a lazo cerrado\n",
    "\n",
    "La velocidad en estado estacionario, para lazo cerrado, es:\n",
    "\n",
    "$$\\Omega = \\dfrac{K_0K_{cc}}{1+K_0K_{cc}}\\Omega_d+\\dfrac{K_0K_{l}}{1+K_0K_{cc}}T_l$$\n",
    "\n",
    "El diseñador puede tomar un $K_{cc}$ de modo que $K_0K_{cc} >> 1$ y $K_0 K_{cc} >> K_0 K_l$, no resultará en un error significativo con o sin torsión de carga perturbadora."
   ]
  },
  {
   "cell_type": "markdown",
   "id": "f0b59ed6",
   "metadata": {},
   "source": [
    "```{admonition} Conclusión\n",
    ":class: Important\n",
    "\n",
    "Los errores del sistema son menos sensibles a las perturbaciones en los sistemas de lazo cerrado que en los sistemas a lazo abierto.\n",
    "\n",
    "Otra característica de los sistemas realimentados es que la velocidad de respuesta se puede mejorar con respecto a su sistema a lazo abierto (cuidado: sistemas con más polos afecta la estabilidad del sistema; menos amortiguados y hasta inestables).\n",
    "```"
   ]
  },
  {
   "cell_type": "code",
   "execution_count": null,
   "id": "b5adff11",
   "metadata": {},
   "outputs": [],
   "source": []
  }
 ],
 "metadata": {
  "jupytext": {
   "formats": "ipynb,md:myst",
   "text_representation": {
    "extension": ".md",
    "format_name": "myst",
    "format_version": 0.13,
    "jupytext_version": "1.11.0"
   }
  },
  "kernelspec": {
   "display_name": "Python 3",
   "language": "python",
   "name": "python3"
  },
  "language_info": {
   "codemirror_mode": {
    "name": "ipython",
    "version": 3
   },
   "file_extension": ".py",
   "mimetype": "text/x-python",
   "name": "python",
   "nbconvert_exporter": "python",
   "pygments_lexer": "ipython3",
   "version": "3.8.11"
  },
  "source_map": [
   13,
   17,
   30,
   34,
   38,
   60,
   68,
   90,
   98,
   108,
   120,
   124,
   134,
   138,
   142,
   160,
   170,
   181
  ]
 },
 "nbformat": 4,
 "nbformat_minor": 5
}