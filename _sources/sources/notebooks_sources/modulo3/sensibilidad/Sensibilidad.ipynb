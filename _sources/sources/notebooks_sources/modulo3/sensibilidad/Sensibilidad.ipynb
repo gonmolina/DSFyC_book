{
 "cells": [
  {
   "cell_type": "markdown",
   "id": "9f42f9d6",
   "metadata": {},
   "source": [
    "# Sensibilidad\n",
    "\n",
    "**Definición** \n",
    "\n",
    "Según Bode,la sensibilidad de la función de transferencia $T$ con respecto al parámetro $C$ la definimos como la variación relativa de la función $T$ (causada por la variación de $C$) , dividida la variación relativa de $C$:\n",
    "\n",
    "$$ \\text{Sensibilidad} = \\dfrac{\\dfrac{\\Delta T}{T}}{\\dfrac{\\Delta C}{C}} $$"
   ]
  },
  {
   "cell_type": "markdown",
   "id": "fb65e708",
   "metadata": {},
   "source": [
    "Llevando las variaciones a valores tendiendo a cero, se puede definir de forma diferencial a la sensibilidad:\n",
    "\n",
    "$$ S^T_C = \\dfrac{C}{T}\\dfrac{dT}{dC}$$\n",
    "\n",
    "Mostramos un sistema a lazo abierto y lazo cerrado. Comparemos la sensibilidad para estos dos casos:\n",
    "\n",
    ":::{figure-md}\n",
    "\n",
    "<img src=\"fig2.gif\" width=500px>\n",
    "\n",
    "Lazo abierto versus lazo cerrado\n",
    ":::"
   ]
  },
  {
   "cell_type": "markdown",
   "id": "bbb56fa6",
   "metadata": {},
   "source": [
    "En el caso de lazo abierto tenemos: \n",
    "\n",
    "$$ Y_1(s) = G(s)B (s)R(s),$$ \n",
    "\n",
    "y por lo tanto un cambio en $B$ o en $G$, afecta proporcionalmente a la salida.\n",
    "\n",
    "En el caso de lazo cerrado:\n",
    "\n",
    "$$ Y_2( s ) = \\dfrac{G(s)D(s)}{1+G(s)D(s)}R(s)$$ \n",
    "\n",
    "y por lo tanto un cambio en $D$ o en $G$, serán atenuados si $\\left|DG\\right|$ se hace mucho mayor que la unidad."
   ]
  },
  {
   "cell_type": "markdown",
   "id": "1efbade9",
   "metadata": {},
   "source": [
    "## Ejemplo\n",
    "\n",
    "Supongamos tener el mismo sistema de control de velocidad del ejemplo anterior, del cual suponemos que la constante $K_0$ del motor tiene un error en $\\delta K_0$. Entonces tenemos:"
   ]
  },
  {
   "cell_type": "markdown",
   "id": "88a4db0e",
   "metadata": {},
   "source": [
    "### Lazo abierto:\n",
    "\n",
    "La velocidad a la salida será:\n",
    "\n",
    "$$\\omega = (K_0+\\delta K_0)\\frac{1}{K_0}\\omega_d = \\left(1+\\dfrac{\\delta K_0}{K_0}\\right)\\omega_d$$\n",
    "\n",
    "Por lo tanto el error sería $\\delta \\omega = \\dfrac{\\delta K_0}{K_0}\\omega_d$\n",
    "\n",
    "En términos porcentuales: $\\dfrac{\\delta \\omega}{\\omega_d} = \\dfrac{\\delta K_0}{K_0}$ \n",
    "\n",
    "Lo que indica que un error del $10\\%$ en el valor de $k_0$ se traduce en un error del $10\\%$ en el error de la velocidad $\\omega$."
   ]
  },
  {
   "cell_type": "markdown",
   "id": "6ee01500",
   "metadata": {},
   "source": [
    "### Lazo cerrado:\n",
    "\n",
    "La velocidad a la salida será:\n",
    "\n",
    "$$\\omega = \\dfrac{(K_0+\\delta K_0)K_{cc}}{1+(K_0+\\delta K_0)K_{cc}} \\omega_d = \\dfrac{(K_0+\\delta K_0)K_{cc}}{1+K_0K_{cc}+\\delta K_0K_{cc}}\\omega_d$$\n",
    "\n",
    "$$\\omega = \\dfrac{\\dfrac{K_0K_{cc}}{1+K_0K_{cc}}+\\dfrac{\\delta K_0K_{cc}}{1+K_0K_{cc}}}{1+\\dfrac{\\delta K_0K_{cc}}{1+K_0K_{cc}}}$$\n",
    "\n",
    "Si tomanos que $\\dfrac{\\delta K_0K_{cc}}{1+K_0K_{cc}}$ es pequeño, y teniendo la relación $\\dfrac{1}{1+x}\\approx 1 - x$ para $x$ pequeños, entonces:\n",
    "\n",
    "$$\\omega = \\left(\\dfrac{K_0K_{cc}}{1+K_0K_{cc}}+\\dfrac{\\delta K_0K_{cc}}{1+K_0K_{cc}}\\right)\\left({1-\\dfrac{\\delta K_0K_{cc}}{1+K_0K_{cc}}}\\right)\\omega_d$$"
   ]
  },
  {
   "cell_type": "markdown",
   "id": "893b4912",
   "metadata": {},
   "source": [
    "Ignorando la segunda potencia de $dK_0$ y definiendo $\\omega^\\prime = \\dfrac{K_0K_{cc}}{1+K_0K_{cc}}\\omega_d$  (que es la velocidad no perturbada), obtenemos:\n",
    "\n",
    "$$\\omega = \\omega^\\prime+ \\omega^\\prime\\dfrac{1}{1+K_0K_{CC}}\\dfrac{\\delta K_0}{K_0}$$\n",
    "\n",
    "Por lo tanto:\n",
    "\n",
    "$$\\dfrac{\\delta \\omega^\\prime}{\\omega^{\\prime}}=\\dfrac{1}{1+K_0K_{cc}}\\dfrac{\\delta K_0}{K_0}$$\n",
    "\n",
    "Que equivale decir que un cambio en un $10\\%$ en el valor de $K_0$, solo afectará en $\\dfrac{1}{1+K_0K_{cc}}$en $\\omega^\\prime >>\\omega_d$ y esto lo podemos hacer chico si $K_{cc} K_0 >> 1$.\n",
    "\n",
    "Aplicando la segunda definición de sensibilidad, obtendremos el mismo resultado."
   ]
  },
  {
   "cell_type": "markdown",
   "id": "664e4fab",
   "metadata": {},
   "source": [
    "```{admonition} Conclusión\n",
    ":class: important\n",
    "\n",
    "El error en la salida controlada con realimentación es sustancialmente menos sensible a las variaciones de parámetros del sistema que en un controlador de lazo abierto. Por lo tanto no se requiere un conocimiento preciso de las características del sistema, para lograr un control preciso.\n",
    "```"
   ]
  }
 ],
 "metadata": {
  "jupytext": {
   "formats": "ipynb,md:myst",
   "text_representation": {
    "extension": ".md",
    "format_name": "myst",
    "format_version": 0.13,
    "jupytext_version": "1.11.0"
   }
  },
  "kernelspec": {
   "display_name": "Python 3",
   "language": "python",
   "name": "python3"
  },
  "language_info": {
   "codemirror_mode": {
    "name": "ipython",
    "version": 3
   },
   "file_extension": ".py",
   "mimetype": "text/x-python",
   "name": "python",
   "nbconvert_exporter": "python",
   "pygments_lexer": "ipython3",
   "version": "3.8.11"
  },
  "source_map": [
   13,
   23,
   38,
   52,
   58,
   72,
   86,
   100
  ]
 },
 "nbformat": 4,
 "nbformat_minor": 5
}