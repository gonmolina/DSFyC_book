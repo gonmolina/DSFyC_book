{
 "cells": [
  {
   "cell_type": "markdown",
   "id": "dfb11bfb",
   "metadata": {},
   "source": [
    "# Efecto de los polos adicionales y de los ceros\n",
    "\n",
    "Hasta ahora hemos estudiado el comportamiento de los sistemas de segundo orden. Ahora estudiaremos como afectan a la respuesta temporal agregar un cero o un polo.\n",
    "\n",
    "Estudiemos el siguiente caso, tenemos una función de transferencia de la siguiente forma:\n",
    "\n",
    "$$G_1=\\frac{2}{(s+1)(s+2)}$$\n",
    "\n",
    "Separando en fracciones simples queda:\n",
    "\n",
    "$$G_1=\\frac{2}{s+1}-\\frac{2}{s+2}$$\n",
    "\n",
    "Vemos que ambas exponenciales tienen una amplitud similar.\n",
    "\n",
    "Agreguemos un cero en -1.1. La función de transferencia quedará de la forma:\n",
    "\n",
    "$$G_1=\\frac{2(s+1.1)}{1.1(s+1)(s+2)}$$\n",
    "\n",
    "Y separando en fracciones simples nos queda:\n",
    "\n",
    "$$G_1=\\frac{0.18}{s+1}+\\frac{1.64}{s+2}$$\n",
    "\n",
    "Como vemos, la exponencial más rápida disminuyó su amplitud en más de 10 veces."
   ]
  },
  {
   "cell_type": "markdown",
   "id": "c550a746",
   "metadata": {},
   "source": [
    "Hagamos un análisis más detallado:\n",
    "\n",
    "Tengamos en cuenta la función de transferencia normalizada de la siguiente manera:\n",
    "\n",
    "Observemos que el cero lo agregamos a un factor $\\alpha$ con respecto a la parte real de los polos complejos conjugados: $s = -\\alpha\\zeta\\omega_n = -\\alpha\\sigma$"
   ]
  },
  {
   "cell_type": "markdown",
   "id": "8f4a9de4",
   "metadata": {},
   "source": [
    "## Efecto Cero adicional\n",
    "\n",
    ":::{figure-md}\n",
    "<img style=\"display:block; margin-left: auto; margin-right: auto;\" src=\"fig6.png\" width=\"400\" alt=\"respuesta\">\n",
    "\n",
    "Respuestas al escalón de  $G(s)=\\dfrac{\\dfrac{s}{\\alpha\\zeta\\omega_n}+1}{(s/\\omega_n)^2 + 2\\zeta(s/\\omega_n)}$ para $\\zeta = 0.5$ y para distintos valores de $\\alpha$\n",
    ":::"
   ]
  },
  {
   "cell_type": "markdown",
   "id": "9567c5cc",
   "metadata": {},
   "source": [
    ":::{figure-md}\n",
    "<img style=\"display:block; margin-left: auto; margin-right: auto;\" src=\"fig7.png\" width=\"400\" alt=\"Sobrepico\">\n",
    "\n",
    "Sobrepico en función de $\\alpha$ y $\\zeta$\n",
    "\n",
    ":::"
   ]
  },
  {
   "cell_type": "markdown",
   "id": "27401fc5",
   "metadata": {},
   "source": [
    "Si queremos analizar como se comporta con el cero sobre el eje real positivo (se lo llama cero de no minima fase):"
   ]
  },
  {
   "cell_type": "markdown",
   "id": "06f4fcf9",
   "metadata": {},
   "source": [
    "De la figura concluímos que a medida que el cero se acerca al valor de la parte real de los polos, el sobrepico aumenta. En la figura anterior. vemos como aumenta el sobrepico al disminuir el valor de $\\alpha$ para distintos valores de $\\zeta$ . De la misma podemos afirmar que el valor del sobrepico no es muy afectado por el cero si el mismo se encuentra más allá de un factor 4 de la parte real de los polos complejos conjugados."
   ]
  },
  {
   "cell_type": "markdown",
   "id": "ea06b7e6",
   "metadata": {},
   "source": [
    "Si escribimos la función de transferencia de la siguiente manera:\n",
    "\n",
    "$$G(s)=\\dfrac{1}{s^2+2\\zeta s+1}+\\dfrac{1}{\\alpha\\zeta}\\dfrac{s}{s^2+2\\zeta s+1}$$\n",
    "\n",
    "Notamos que el primer término es la función de transferencia original (sin el cero), y el segundo término es la derivada de la función de transferencia original afectada por una constante $\\dfrac{1}{\\alpha\\zeta}$. Por lo tanto, la respuesta a un escalón de la función de transferencia $G(s)$ será la respuesta a un escalón de la función de transferencia sin el cero, más la derivada de esa respuesta por la constante. De esta manera podemos explicar la presencia de un sobrepico mayor. En la figura siguiente muestra la respuesta a un escalón para el sistema original, su derivada y la suma de ambas (respuesta al sistema con el cero).\n",
    "\n",
    ":::{figure-md}\n",
    "<img style=\"display:block; margin-left: auto; margin-right: auto;\" src=\"fig8.png\" width=\"400\" alt=\"Sobrepico\">\n",
    "\n",
    "Respuesta del sistema original, su derivada y la suma de ambas\n",
    ":::"
   ]
  },
  {
   "cell_type": "markdown",
   "id": "e69dfaa7",
   "metadata": {},
   "source": [
    "Para el caso de un cero en el semiplano derecho, debemos considerar $\\alpha < 0$, y sigue valiendo el mismo análisis. La próxima figura, mostramos la evolución de la respuesta a un escalón del sistema original, su derivada cambiada de signo y la respuesta del sistema con un cero en el semiplano derecho (un cero de no mínima fase). De esta figura observamos que la\n",
    "respuesta al escalón puede comenzar en sentido contrario a la referencia y luego se corrige.\n",
    "\n",
    ":::{figure-md}\n",
    "<img style=\"display:block; margin-left: auto; margin-right: auto;\" src=\"fig9.png\" width=\"400\" alt=\"Sobrepico\">\n",
    "\n",
    "Respuesta a un escalón del sistema original, su derivada cambiada de signo y la suma de ambas.\n",
    ":::"
   ]
  },
  {
   "cell_type": "markdown",
   "id": "5a131bc4",
   "metadata": {},
   "source": [
    "En la siguiente celda, al ejecutarla, se muestra una figura interactiva donde se puede cambiar el valor del $\\alpha$ y ver como afecta la respuesta temporal, el cero adicional. En rojo punteado se grafica la salida del sistema de orden 2 puro.\n",
    "\n",
    "**Nota importante:** es necesario instalar el paquete ipywidgets, y es posible que no funciones en Jupyter Lab, si no aparecen los \"slider bar\" para modificar el $\\alpha$ buscar la solución en la web, o abrir el notebook en Jupyter notebook donde debería funcionar correctamente."
   ]
  },
  {
   "cell_type": "code",
   "execution_count": 1,
   "id": "344f035c",
   "metadata": {
    "tags": [
     "raise-exception",
     "remove-output"
    ]
   },
   "outputs": [
    {
     "ename": "ModuleNotFoundError",
     "evalue": "No module named 'ipywidgets'",
     "output_type": "error",
     "traceback": [
      "\u001b[0;31m---------------------------------------------------------------------------\u001b[0m",
      "\u001b[0;31mModuleNotFoundError\u001b[0m                       Traceback (most recent call last)",
      "Cell \u001b[0;32mIn[1], line 2\u001b[0m\n\u001b[1;32m      1\u001b[0m \u001b[38;5;66;03m#Orden 2 + Cero adicional\u001b[39;00m\n\u001b[0;32m----> 2\u001b[0m \u001b[38;5;28;01mfrom\u001b[39;00m \u001b[38;5;21;01mipywidgets\u001b[39;00m \u001b[38;5;28;01mimport\u001b[39;00m interact\n\u001b[1;32m      3\u001b[0m \u001b[38;5;28;01mimport\u001b[39;00m \u001b[38;5;21;01mcontrol\u001b[39;00m \u001b[38;5;28;01mas\u001b[39;00m \u001b[38;5;21;01mctrl\u001b[39;00m\n\u001b[1;32m      4\u001b[0m \u001b[38;5;28;01mimport\u001b[39;00m \u001b[38;5;21;01mmatplotlib\u001b[39;00m\u001b[38;5;21;01m.\u001b[39;00m\u001b[38;5;21;01mpyplot\u001b[39;00m \u001b[38;5;28;01mas\u001b[39;00m \u001b[38;5;21;01mplt\u001b[39;00m\n",
      "\u001b[0;31mModuleNotFoundError\u001b[0m: No module named 'ipywidgets'"
     ]
    }
   ],
   "source": [
    "#Orden 2 + Cero adicional\n",
    "from ipywidgets import interact\n",
    "import control as ctrl\n",
    "import matplotlib.pyplot as plt\n",
    "import matplotlib.gridspec as gridspec\n",
    "import numpy as np\n",
    "%matplotlib inline\n",
    "\n",
    "def draw_figure(poleG,zeroG,t,y,yord2):\n",
    "    \n",
    "    fig = plt.figure(figsize=(12,4))\n",
    "    gs = gridspec.GridSpec(1, 2, height_ratios=[1], width_ratios=[1,2])\n",
    "    \n",
    "    ax1 = fig.add_subplot(gs[0])\n",
    "    ax2 = fig.add_subplot(gs[1])\n",
    "\n",
    "    ax1.set_title(\"Polos y Ceros\")\n",
    "    ax1.set_xlabel(\"Parte Real\")\n",
    "    ax1.set_ylabel(\"Parte imaginaria\")\n",
    "    ax1.spines['left'].set_color('none')\n",
    "    ax1.spines['right'].set_color('none')\n",
    "    ax1.spines['top'].set_color('none')\n",
    "    ax1.spines['bottom'].set_color('none')\n",
    "\n",
    "    ax2.set_title(\"Respuesta Temporal\")\n",
    "    ax2.set_xlabel(\"Tiempo\")\n",
    "    ax2.set_ylabel(\"Amplitud\")\n",
    "    fig.tight_layout()\n",
    "    \n",
    "    ax1.scatter(np.real(zeroG), np.imag(zeroG), marker='o')\n",
    "    ax1.scatter(np.real(poleG), np.imag(poleG), marker='x')\n",
    "    ax2.plot(t,y)\n",
    "    ax2.plot(t,yord2,'--r')\n",
    "    ax2.grid()\n",
    "\n",
    "\n",
    "def update(alpha=1, wn=1, zeta=0.5,tmax=10):\n",
    "    G=ctrl.tf([1/wn/alpha/zeta,1],[1/wn**2,2*zeta/wn,1])\n",
    "    Gord2=ctrl.tf([1],[1/wn**2,2*zeta/wn,1])\n",
    "    alpha=0.001 if alpha==0 else alpha\n",
    "    t=np.linspace(0,tmax,501)\n",
    "    _,y=ctrl.step_response(G,T=t)\n",
    "    _,yord2=ctrl.step_response(Gord2,T=t)\n",
    "    polesG=G.pole()\n",
    "    zeroG=G.zero()\n",
    "    draw_figure(polesG,zeroG,t,y,yord2)\n",
    "    \n",
    "interact(update, alpha=(-20.01,50,0.1),wn=(0.01,10,0.1),zeta=(0.001,1.01,0.02),tmax=(1, 20));"
   ]
  },
  {
   "cell_type": "markdown",
   "id": "3dd13fe7",
   "metadata": {},
   "source": [
    "### Efecto Polo Adicional"
   ]
  },
  {
   "cell_type": "markdown",
   "id": "1a50fc2f",
   "metadata": {},
   "source": [
    "Analicemos ahora el caso de agregar un polo. Escribamos la función de transferencia de la siguiente forma:\n",
    "\n",
    "$$G(s)=\\dfrac{1}{\\left(\\dfrac{s}{\\alpha\\zeta\\omega_n}+1\\right)\\left[\\left(\\dfrac{s}{\\omega_n}\\right)^2+2\\zeta\\left(\\dfrac{s}{\\omega_n}\\right)+1\\right]}, \\text{para } \\zeta = 0.5, \\alpha = 1, 2, 5 ,100, \\infty$$\n",
    "\n",
    ":::{figure-md}\n",
    "<img style=\"display:block; margin-left: auto; margin-right: auto;\" src=\"fig10.png\" width=\"400\" alt=\"Sobrepico\">\n",
    "\n",
    "Respuesta a un escalón para el sistema $G(s) \\text{ para } \\zeta = 0.5, \\alpha = 1, 2, 5 ,100, \\infty$\n",
    "\n",
    ":::\n",
    "\n",
    "Como podemos observar de la figura, la presencia de un polo adicional afecta sensiblemente al tiempo de crecimiento, y el mismo se hace más grande cuanto el polo adicional se acerca más al origen."
   ]
  },
  {
   "cell_type": "markdown",
   "id": "0381cb51",
   "metadata": {},
   "source": [
    "En la figura que sigue muestra el comportamiento del tiempo de crecimiento en función del valor de a parametrizada con $\\zeta$. Del mismo podemos inferir que si el polo adicional está más lejos que 4 veces la parte real de los polos complejos conjugados, el tiempo de crecimiento no es prácticamente afectado.\n",
    "\n",
    ":::{figure-md}\n",
    "<img style=\"display:block; margin-left: auto; margin-right: auto;\" src=\"fig11.png\" width=\"400\" alt=\"Sobrepico\">\n",
    "\n",
    "Tiempo de crecimiento en función de a, para $\\zeta$ = 0.5, 0.7 y 1.0\n",
    ":::"
   ]
  },
  {
   "cell_type": "markdown",
   "id": "7409e770",
   "metadata": {},
   "source": [
    "En la siguiente celda, al ejecutarla, se muestra una figura interactiva donde se puede cambiar el valor del $\\alpha$ y ver como afecta la respuesta temporal la ubicación del polo adicional. En rojo punteado se grafica la salida del sistema de orden 2 puro.\n",
    "\n",
    "**Nota importante:** es necesario instalar el paquete ipywidgets, y es posible que no funciones en Jupyter Lab, si no aparecen los \"slider bar\" para modificar el $\\alpha$ buscar la solución en la web, o abrir el notebook en Jupyter notebook donde debería funcionar correctamente."
   ]
  },
  {
   "cell_type": "code",
   "execution_count": null,
   "id": "1449215f",
   "metadata": {
    "tags": [
     "raise-exception",
     "remove-output"
    ]
   },
   "outputs": [],
   "source": [
    "#Orden 2 + Polo adicional \n",
    "from ipywidgets import interact\n",
    "import control as ctrl\n",
    "import matplotlib.pyplot as plt\n",
    "import matplotlib.gridspec as gridspec\n",
    "import numpy as np\n",
    "%matplotlib inline\n",
    "\n",
    "def draw_figure(poleG,zeroG,t,y,yord2):\n",
    "    \n",
    "    fig = plt.figure(figsize=(12,4))\n",
    "    gs = gridspec.GridSpec(1, 2, height_ratios=[1], width_ratios=[1,2])\n",
    "    \n",
    "    ax1 = fig.add_subplot(gs[0])\n",
    "    ax2 = fig.add_subplot(gs[1])\n",
    "\n",
    "    ax1.set_title(\"Polos y Ceros\")\n",
    "    ax1.set_xlabel(\"Parte Real\")\n",
    "    ax1.set_ylabel(\"Parte imaginaria\")\n",
    "    ax1.spines['left'].set_color('none')\n",
    "    ax1.spines['right'].set_color('none')\n",
    "    ax1.spines['top'].set_color('none')\n",
    "    ax1.spines['bottom'].set_color('none')\n",
    "\n",
    "    ax2.set_title(\"Respuesta Temporal\")\n",
    "    ax2.set_xlabel(\"Tiempo\")\n",
    "    ax2.set_ylabel(\"Amplitud\")\n",
    "    fig.tight_layout()\n",
    "    \n",
    "    ax1.scatter(np.real(zeroG), np.imag(zeroG), marker='o')\n",
    "    ax1.scatter(np.real(poleG), np.imag(poleG), marker='x')\n",
    "    ax2.plot(t,y)\n",
    "    ax2.plot(t,yord2,'--r')\n",
    "    ax2.grid()\n",
    "\n",
    "\n",
    "def update(alpha=1, wn=1, zeta=0.5,tmax=10):\n",
    "    G=ctrl.tf(1,[1/wn/alpha/zeta,1])*ctrl.tf(1,[1/wn**2,2*zeta/wn,1])\n",
    "    Gord2=ctrl.tf([1],[1/wn**2,2*zeta/wn,1])\n",
    "    alpha=0.001 if alpha==0 else alpha\n",
    "    t=np.linspace(0,tmax,501)\n",
    "    _,y=ctrl.step_response(G,T=t)\n",
    "    _,yord2=ctrl.step_response(Gord2,T=t)\n",
    "    polesG=G.pole()\n",
    "    zeroG=G.zero()\n",
    "    draw_figure(polesG,zeroG,t,y,yord2)\n",
    "    \n",
    "interact(update, alpha=(-20.01,50,0.1),wn=(0.01,10,0.1),zeta=(0.001,1.01,0.02),tmax=(1, 20));"
   ]
  },
  {
   "cell_type": "code",
   "execution_count": null,
   "id": "2743f960",
   "metadata": {},
   "outputs": [],
   "source": []
  }
 ],
 "metadata": {
  "jupytext": {
   "formats": "ipynb,md:myst",
   "text_representation": {
    "extension": ".md",
    "format_name": "myst",
    "format_version": 0.13,
    "jupytext_version": "1.11.0"
   }
  },
  "kernelspec": {
   "display_name": "Python 3",
   "language": "python",
   "name": "python3"
  },
  "language_info": {
   "codemirror_mode": {
    "name": "ipython",
    "version": 3
   },
   "file_extension": ".py",
   "mimetype": "text/x-python",
   "name": "python",
   "nbconvert_exporter": "python",
   "pygments_lexer": "ipython3",
   "version": "3.11.5"
  },
  "source_map": [
   13,
   39,
   47,
   57,
   66,
   70,
   74,
   88,
   99,
   105,
   156,
   160,
   175,
   185,
   191,
   244
  ]
 },
 "nbformat": 4,
 "nbformat_minor": 5
}