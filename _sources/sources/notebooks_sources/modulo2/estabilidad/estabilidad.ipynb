{
 "cells": [
  {
   "cell_type": "markdown",
   "id": "dd610fa3",
   "metadata": {},
   "source": [
    "# Estabilidad\n",
    "\n",
    "El concepto de estabilidad está relacionado con la respuesta a un estímulo apropiado del sistema a analizar. Estudiaremos aquí el caso de sistemas lineales e invariantes en el tiempo."
   ]
  },
  {
   "cell_type": "markdown",
   "id": "0685eaf5",
   "metadata": {},
   "source": [
    "## Estabilidad con entrada y salida acotada (BIBO ESTABILIDAD)\n",
    "\n",
    "### Definición de BIBO estabilidad\n",
    "\n",
    "Se dice que un sistema tiene estabilidad de entrada y salida acotada si toda  entrada acotada da lugar a una salida acotada."
   ]
  },
  {
   "cell_type": "markdown",
   "id": "1a59c430",
   "metadata": {},
   "source": [
    "## Primeras nociones de BIBO estabilidad para sistemas lineales e invariantes en el tiempo\n",
    "\n",
    "Estabilidad y localización de los polos con la función transferencia de la forma:\n",
    "\n",
    "$$H(s) = K\\frac{s^m +b_{m-1}s^{m-1}+\\cdots+b_0}{s^n +a_{n-1}s^{n-1}+\\cdots+a_0}=\\frac{N(s)}{D(s)}$$\n",
    "\n",
    "Buscamos condiciones sobre la localización de los polos de $H(s)$ en el plano complejo que aseguren la BIBO estabilidad del sistema.\n",
    "\n",
    "* Si imponemos la condición de BIBO estabilidad debe ser: $m\\leq n$ función transferencia propia ya que si no fuera el caso, efectuando el cociente de polinomios $\\frac{N(s)}{D(s)}$, tendríamos:\n",
    "\n",
    "$$H(s)=c_{m-n}s^{m-n}+\\cdots+c_1s+c_0+\\frac{\\tilde{N}(s)}{D(s)}$$\n",
    "\n",
    "por lo que si le aplicamos un escalón por ejemplo\n",
    "\n",
    "$$U(s)=\\frac{1}{s}$$\n",
    "\n",
    "la correspondiente respuesta tendrá un término $c_1$, que corresponde a $c_1 \\delta(t)$ en el dominio temporal que no es acotada."
   ]
  },
  {
   "cell_type": "markdown",
   "id": "bc6008b5",
   "metadata": {},
   "source": [
    "* Asumimos entonces que $H(s)$ es propia y la expresamos como:\n",
    "\n",
    "$$H(s) = \\dfrac{N(s)}{D(s)}=K\\dfrac{\\prod_{l=1}^m (s-z_l)}{\\prod_{l=1}^n (s-p_l)}; m\\leq n$$\n",
    "\n",
    "donde por simplicidad hemos supuesto que los polos son reales y simples. La respuesta a un escalón unitario $U(s) = \\dfrac{1}{s}$ será:\n",
    "\n",
    "$$Y(s) = \\frac{K}{s}\\dfrac{\\prod_{l=1}^m (s-z_l)}{\\prod_{l=1}^n (s-p_l)}$$\n",
    "\n",
    "Expandiendo por fracciones simples se obtiene:\n",
    "\n",
    "$$Y(s)= \\frac{K_0}{s} + \\sum_{l=1}^{n} \\frac{K_l}{s-p_l}$$\n",
    "\n",
    "donde\n",
    "\n",
    "$$K_0 = \\lim_{s\\rightarrow 0} sY(s)$$\n",
    "\n",
    "y\n",
    "\n",
    "$$ K_l = \\lim_{s\\rightarrow p_l} (s-p_l)Y(s) \\qquad l=1,\\ldots,n$$\n",
    "\n",
    "Tomando la Transformada Inversa de Laplace se obtiene:\n",
    "\n",
    "$$ y(t) =  K_0 + \\sum_{l=1}^{n} K_l e^{p_lt}, \\quad t\\geq 0$$"
   ]
  },
  {
   "cell_type": "markdown",
   "id": "8310a835",
   "metadata": {},
   "source": [
    "Vemos que para que la salida permanezca acotada los polos $p_l$ deberán ser negativos.\n",
    "\n",
    "* Si consideramos ahora la posibilidad de tener polos complejos, los mismos deberán aparecer como *pares polos complejos conjugados*, por lo que la respuesta a un escalón unitario será de la forma:\n",
    "\n",
    "$$ y(t) =  K_0 + \\sum_{l=1}^{r} K_l e^{p_lt} + \\sum_{l=1}^q,K_{1l}e^{\\sigma_lt}\\cos\\omega_lt + K_{2l}e^{\\sigma_lt}\\sin\\omega_lt \\quad t\\geq 0$$\n",
    "\n",
    "Donde hemos supuesto que hay \"r\" polos reales simples y q pares de polos complejos conjugados $()\\sigma_l+j\\omega_l$.\n",
    "\n",
    "En este caso vemos que la condición que la salida sea permanezca acotada debe ser:\n",
    "\n",
    "* $p_l \\leq 0$ polos reales negativos\n",
    "* $\\sigma_l \\leq 0$ polos complejos conjugados con parte real negativa.\n",
    "\n",
    "* Un razonamiento similar se puede hacer para el caso de tener polos reales y/o complejos con multiplicidad."
   ]
  },
  {
   "cell_type": "markdown",
   "id": "a9127d03",
   "metadata": {},
   "source": [
    "### Conclusión\n",
    "\n",
    "Una condición necesaria y suficiente para la BIBO estabilidad es que los polos estén ubicados en el semiplano izquierdo abierto (polos con parte real negativa)\n",
    "\n",
    ":::{figure-md}\n",
    "<img style=\"display:block; margin-left: auto; margin-right: auto;\" src=\"bibo_plano_s.png\" width=\"450\" alt=\"condición de estabilidad\">\n",
    "\n",
    "Zona de estabilidad de en el plano $s$\n",
    "\n",
    ":::"
   ]
  },
  {
   "cell_type": "markdown",
   "id": "dde129c9",
   "metadata": {},
   "source": [
    "## Formalizando matemáticamente BIBO estabilidad"
   ]
  },
  {
   "cell_type": "markdown",
   "id": "4d713d36",
   "metadata": {},
   "source": [
    "Observemos que esta definición es independiente de lo que ocurra dentro del sistema: una variable interna del sistema puede crecer ilimitadamente según esta definición.\n",
    "\n",
    "Comprobar esta propiedad es fácil utilizando la propiedad de convolución:\n",
    "\n",
    "Llamando $u(t)$ a la entrada, $y(t)$ la salida y $h(t)$ la respuesta a un impulso, tenemos que la salida es:\n",
    "\n",
    "$$y(t)=\\int_{-\\infty}^{\\infty}h(\\tau)u(t-\\tau)d\\tau$$"
   ]
  },
  {
   "cell_type": "markdown",
   "id": "09712499",
   "metadata": {},
   "source": [
    "Si $u(t)$ es acotada, entonces existe $M$ tal que $|u|\\le M < \\infty$ y entonces la salida está acotada por:\n",
    "\n",
    "$$|y(t)|=\\left|\\int_{-\\infty}^{\\infty} h(\\tau) u(t-\\tau) d\\tau\\right| \\leq \\int_{-\\infty}^{\\infty} |h(\\tau)||u(t-\\tau)|d\\tau \\leq M \\int_{-\\infty}^{\\infty}|h(\\tau)|d\\tau$$  \n",
    "\n",
    "Por lo tanto, la salida $y(t)$ estará acotada si la integral \n",
    "\n",
    "$$\\int_{-\\infty}^{\\infty}|h(\\tau)|d\\tau$$ \n",
    "\n",
    "es acotada."
   ]
  },
  {
   "cell_type": "markdown",
   "id": "e123bcdd",
   "metadata": {},
   "source": [
    "Por otro lado, supongamos que esta integral es no acotada, y consideramos la entrada acotada $u(t-\\tau)$ = +1, si $h(t) > 0$, y $u(t-\\tau) = -1$, si $h(t) < 0$. En este caso:\n",
    "\n",
    "$$y(t)=\\int_{-\\infty}^{\\infty}|h(\\tau)|d\\tau$$\n",
    "\n",
    "y por lo tanto la salida es no acotada. O sea que si la integral es no acotada, el sistema no es estable."
   ]
  },
  {
   "cell_type": "markdown",
   "id": "15e0031e",
   "metadata": {},
   "source": [
    "### Condición para BIBO estabilidad\n",
    "\n",
    "El sistema con respuesta al impulso $h(t)$ es estable con entrada y salida acotada si, y solo si, la integral\n",
    "\n",
    "$$\\int_{-\\infty}^{\\infty}\\left|h(\\tau)\\right|d\\tau$$\n",
    "\n",
    "es acotada."
   ]
  },
  {
   "cell_type": "markdown",
   "id": "12851893",
   "metadata": {},
   "source": [
    "### Corolario\n",
    "\n",
    "Un sistema LTI es BIBO estable si y solo si su función transferencia tiene todos los polos del lazo izquierdo del plano $s$, sin incluir el eje."
   ]
  },
  {
   "cell_type": "markdown",
   "id": "cc347534",
   "metadata": {},
   "source": [
    "### Ejemplo de aplicación de las condiciones de BIBO estabilidad\n",
    "\n",
    ":::{figure-md}\n",
    "<img style=\"display:block; margin-left: auto; margin-right: auto;\" src=\"circRC.png\" width=\"200\" alt=\"Circuito RC Serie\">\n",
    "\n",
    "Circuito R-C\n",
    ":::\n",
    "\n",
    "Analicemos la estabilidad del circuito eléctrico que muestra la figura anterior.\n",
    "\n",
    "Para este sistema eléctrico tenemos que el capacitor hace de un integrador puro, y por lo tanto la respuesta al impulso será el escalón unitario (si C = 1).\n",
    "\n",
    "Por lo tanto la integral será:\n",
    "\n",
    "$$\\int_{-\\infty}^{\\infty}\\left|h(\\tau)\\right|d\\tau=\\int_{0}^{\\infty}d\\tau$$\n",
    "\n",
    "y esta integral es no acotada, por lo tanto según esta definición de estabilidad, este sistema no es estable.\n",
    "\n",
    "Notar que la función de transferencia de este sistema tiene un polo en el origen (en el eje imaginario): $G(s) = \\frac{1}{s}$.\n",
    "\n",
    "Si un sistema invariante en el tiempo tiene cualquier polo en el eje imaginario o en el semiplano derecho, la respuesta no será acotada y para cualquier entrada acotada.\n",
    "\n",
    "```{admonition} Condición de estabilidad\n",
    ":class: important\n",
    "\n",
    "Si todos los polos están dentro del semiplano izquierdo sin incluir el eje imaginario, entonces la respuesta será estable con entrada y salida acotadas. Por lo tanto, para sistemas invariantes en el tiempo (estacionarios), podemos utilizar la ubicación de los polos de la función de transferencia del sistema para verificar su estabilidad.\n",
    "```"
   ]
  }
 ],
 "metadata": {
  "jupytext": {
   "formats": "ipynb,md:myst",
   "text_representation": {
    "extension": ".md",
    "format_name": "myst",
    "format_version": 0.13,
    "jupytext_version": "1.11.0"
   }
  },
  "kernelspec": {
   "display_name": "Python 3",
   "language": "python",
   "name": "python3"
  },
  "language_info": {
   "codemirror_mode": {
    "name": "ipython",
    "version": 3
   },
   "file_extension": ".py",
   "mimetype": "text/x-python",
   "name": "python",
   "nbconvert_exporter": "python",
   "pygments_lexer": "ipython3",
   "version": "3.8.12"
  },
  "source_map": [
   13,
   19,
   27,
   47,
   73,
   90,
   103,
   107,
   117,
   129,
   137,
   147,
   153
  ]
 },
 "nbformat": 4,
 "nbformat_minor": 5
}