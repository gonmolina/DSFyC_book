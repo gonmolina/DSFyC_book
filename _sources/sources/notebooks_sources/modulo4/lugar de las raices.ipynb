{
 "cells": [
  {
   "cell_type": "markdown",
   "id": "56c323e6",
   "metadata": {},
   "source": [
    "# Lugar de las raíces"
   ]
  },
  {
   "cell_type": "markdown",
   "id": "530505c4",
   "metadata": {},
   "source": [
    "## Introducción\n",
    "\n",
    "Muchos problemas de control consisten en analizar la respuesta de un sistema cuando varía un parámetro $k$ de la función de transferencia del sistema.\n",
    "\n",
    ":::{figure-md}\n",
    "\n",
    "<img style=\"display:block; margin-left: auto; margin-right: auto;\" src=\"fig1.png\" width=\"300\" alt=\"fig1.png\">\n",
    "\n",
    "Diagrama en bloques de un sistema con un parámetro variable $k$\n",
    "\n",
    ":::\n",
    "\n",
    "Un ejemplo de esto son las funciones de transferencia siguientes, donde en un caso de $G_1(s)$ el parámetro que varía es el parámetro $k$ y en el caso de de $G_2(s)$ el parámetro que varía es $b$\n",
    "\n",
    "$$\n",
    "\\begin{matrix}\n",
    "G_1(s)= \\frac{k(s+20)}{s^2+10s} & G_2(s)=\\frac{1}{2s^2+bs+3}\n",
    "\\end{matrix}\n",
    "$$\n",
    "\n",
    ":::{figure-md}\n",
    "\n",
    "<img style=\"display:block; margin-left: auto; margin-right: auto;\" src=\"fig2.png\" width=\"600\" alt=\"fig2.png\">\n",
    "\n",
    "Diagrama en bloques de los sistema $G_1(s)$ y $G_2(s)$\n",
    "\n",
    ":::"
   ]
  },
  {
   "cell_type": "markdown",
   "id": "2eb41788",
   "metadata": {},
   "source": [
    "Una solución práctica a este problema es evaluar el parámetro variable para distintos valores fijos y de esa forma calcular la ubicación en el plano s, de los polos y ceros, para deducir la respuesta temporal del sistema.\n",
    "\n",
    "Y si lo anterior se pudiera hacer para todos los valores de $\\ell \\in \\mathbb{R}$!. Bueno aquí, es donde entra Walter R. Evans y el \"Método de Evans\", que permite resolver en forma **gráfica** las funciones del tipo $1+\\ell~F(s)=0$ donde $F(s)$ es una función de transferencia de la forma $F(s)= \\frac{N(s)}{D(s)}$ y $\\ell \\in \\mathbb{R}$, notar que de lo anterior es posible expresar lo de la forma $D(s)+\\ell~N(s)=0$. A estos gráficos o diagramas, en control, les llamamos Lugar de las raíces o en ingles Root Locus.\n",
    "\n",
    "Este resultado lo usaremos para responder básicamente dos preguntas: ¿Cómo puedo elegir el parámetro $\\ell$ para que la respuesta dinámica del sistema cumpla con los requerimientos de performance necesarios para el sistema a controlar? y ¿Qué efecto tiene sobre la dinámica de un sistema, la variación de un parámetro $\\ell$ de su función de transferencia?"
   ]
  },
  {
   "cell_type": "markdown",
   "id": "811b8b11",
   "metadata": {},
   "source": [
    "Para comenzaremos a responder estas preguntas, analizaremos el siguiente esquema \"genérico\" de control a lazo cerrado del sistema de la figura siguiente, donde $k D(s)$ es el controlador del sistema con ganancia $k$, como parámetro variable, en principio comenzaremos con $k>0$, pero si bien, en la mayoría de los problemas que veremos $k$ es positivo,no hay restricciones con respecto a al valor de $k$.\n",
    "\n",
    ":::{figure-md}\n",
    "\n",
    "<img style=\"display:block; margin-left: auto; margin-right: auto;\" src=\"fig3.png\" width=\"400\" alt=\"fig3.png\">\n",
    "\n",
    "Sistema genérico a lazo cerrado\n",
    "\n",
    ":::"
   ]
  },
  {
   "cell_type": "markdown",
   "id": "7a66fe10",
   "metadata": {},
   "source": [
    "El diagrama en bloques equivalente, se reduce a:\n",
    "\n",
    ":::{figure-md}\n",
    "<img style=\"display:block; margin-left: auto; margin-right: auto;\" src=\"fig4.png\" width=\"300\" alt=\"fig4.png\">\n",
    "\n",
    "Diagrama equivalente del sistema a lazo cerrado\n",
    ":::\n",
    "\n",
    "La función de transferencia a lazo cerrado es:\n",
    "\n",
    "$$T(s)=\\frac{Y(s)}{R(s)}=\\frac{k D(s) G(s)}{1+k D(s) G(s)}$$\n",
    "\n",
    "donde,\n",
    "\n",
    "$$ G(s) = \\frac{N_G(s)}{D_G(s)}=\\frac{\\prod_{i=1}^{m_G}(s+z_i)}{\\prod_{j=1}^{n_G}(s+p_j)}$$ \n",
    "\n",
    "y \n",
    "\n",
    "$$ D(s) = \\frac{N_D(s)}{D_D(s)}=\\frac{\\prod_{i=1}^{m_D}(s+z_i)}{\\prod_{j=1}^{n_D}(s+p_j)}$$\n",
    "\n",
    "Los polos y ceros de $G(s)$ son la solución de $N_G(s)=0$ y $D_G(s)=0$ respectivamente, y los polos y ceros de $D(s)$ son la solución de $N_D(s)=0$ y $D_D(s)=0$.\n",
    "\n",
    "La función de transferencia a lazo cerrado se puede representar de la siguiente forma:\n",
    "\n",
    "$$T(s)=\\frac{k N_D(s) N_G(s)}{D_D(s) D_G(s)+k N_D(s) N_G(s)}$$\n",
    "\n",
    "```{admonition} Resultado importante \n",
    ":class: important\n",
    "\n",
    "En $T(s)$ se puede ver que los **ceros a lazo cerrado no se \"mueven\"**, es decir son siempre los mismos al cambiar el valor del parámetro $k$, pero los **polos** a lazo cerrado sí\n",
    "```\n",
    "\n",
    "$$\n",
    "\\begin{matrix}\n",
    "\\text{ceros} \\quad T(s) &\\Longrightarrow & k N_D(s) N_G(s) = 0 \\\\\n",
    "\\text{polos} \\quad T(s) &\\Longrightarrow & D_D(s) D_G(s)+k N_D(s) N_G(s)=0\n",
    "\\end{matrix}\n",
    "$$"
   ]
  },
  {
   "cell_type": "markdown",
   "id": "0a2ca309",
   "metadata": {},
   "source": [
    "## Ejemplo de lugar de las raíces\n",
    "\n",
    "Consideremos $G(s)= \\frac{1}{s+10}$ y $D(s)= k \\frac{(s+20)}{s}$ donde $k$ es el parámetro variable, para este problema nos interesa determinar los polos y ceros del sistema a lazo cerrado y compararlos con los de la funciones a lazo abierto, por lo que consideraremos que $k=2$\n",
    "\n",
    "$D(s)$ tiene un polo y un cero en: $p_1=0$ y $z_1=-20$\n",
    "\n",
    "$G(s)$ tiene solo un polo en: $p_2=-10$"
   ]
  },
  {
   "cell_type": "code",
   "execution_count": 1,
   "id": "5f0e938c",
   "metadata": {
    "tags": [
     "remove-cell"
    ]
   },
   "outputs": [],
   "source": [
    "import numpy as np\n",
    "import control as ctrl"
   ]
  },
  {
   "cell_type": "code",
   "execution_count": 2,
   "id": "73d6a783",
   "metadata": {},
   "outputs": [
    {
     "data": {
      "text/plain": [
       "array([-20.])"
      ]
     },
     "execution_count": 2,
     "metadata": {},
     "output_type": "execute_result"
    }
   ],
   "source": [
    "k=2\n",
    "D=ctrl.tf([1, 20],[1,0])\n",
    "G=ctrl.tf([1],[1,10])\n",
    "T=ctrl.feedback(k*D*G)\n",
    "ceros_lc=T.zero()\n",
    "ceros_lc"
   ]
  },
  {
   "cell_type": "code",
   "execution_count": 3,
   "id": "f0bdc4d0",
   "metadata": {},
   "outputs": [
    {
     "data": {
      "text/plain": [
       "array([-6.+2.j, -6.-2.j])"
      ]
     },
     "execution_count": 3,
     "metadata": {},
     "output_type": "execute_result"
    }
   ],
   "source": [
    "polos_lc=T.pole()\n",
    "polos_lc"
   ]
  },
  {
   "cell_type": "markdown",
   "id": "fdb51fa3",
   "metadata": {},
   "source": [
    "$T(s)$ tiene un cero en: $z_1=-20$\n",
    "\n",
    "$T(s)$ tiene un par de polos complejos conjugados en: $p_{1,2}=-6\\pm 2j$"
   ]
  },
  {
   "cell_type": "markdown",
   "id": "76505e73",
   "metadata": {},
   "source": [
    "## Repaso de espacio vectorial complejo: Vector complejo\n",
    "\n",
    "Veremos la representación vectorial de números complejos, para lo que partiremos de número complejo $\\overrightarrow{s}= \\sigma + j \\omega$, cuya representación vectorial es la siguiente:\n",
    "\n",
    ":::{figure-md}\n",
    "\n",
    "<img style=\"display:block; margin-left: auto; margin-right: auto;\" src=\"fig5.png\" width=\"250\" alt=\"fig5.png\">\n",
    "\n",
    "Vector $\\overrightarrow{s}= \\sigma + j \\omega$\n",
    ":::\n",
    "\n",
    "donde,\n",
    "\n",
    "$$|M|=\\sqrt{\\sigma^2+\\omega^2}$$\n",
    "\n",
    "$$ \\theta= \\arctan{\\frac{\\omega}{\\sigma} }$$"
   ]
  },
  {
   "cell_type": "markdown",
   "id": "ba5baf32",
   "metadata": {},
   "source": [
    "ahora consideremos que tenemos el vector $\\overrightarrow{v} = \\overrightarrow{s} + a$ con $a \\in \\mathbb{R}$ y $\\overrightarrow{s} = \\sigma + j \\omega \\in \\mathbb{C}$, la traslación de $\\overrightarrow{s}$, cuya representación es:\n",
    "\n",
    ":::{figure-md}\n",
    "\n",
    "<img style=\"display:block; margin-left: auto; margin-right: auto;\" src=\"fig6.png\" width=\"500\" alt=\"fig6.png\">\n",
    "\n",
    "Vector $\\overrightarrow{v}$\n",
    ":::\n",
    "\n",
    "en general, podemos decir que si que si tenemos la función de transferencia $F(s)$ donde $s$ es la variable compleja y con polos y ceros, tal que:\n",
    "\n",
    "$$F(s) = \\frac{\\prod_{i=1}^{m}(s+z_i)}{\\prod_{j=1}^{n}(s+p_j)}$$\n",
    "\n",
    "podemos halla el módulo de $F(s)$ haciendo,\n",
    "\n",
    "$$|F(s)|=\\frac{\\prod \\text{mod. ceros}}{\\prod \\text{mod. polos}}= \\frac{\\prod_{i=1}^{m}|s+z_i|}{\\prod_{j=1}^{n}|s+p_j|}$$\n",
    "\n",
    "y el argumento de $F(s)$ será,\n",
    "\n",
    "$$ \\angle{F(s)}= \\sum{ang. ceros}-\\sum{ang. polos}= \\sum_{i=1}^{m}{\\angle{(s+z_i)}}-\\sum_{j=1}^{n}{\\angle{(s+p_j)}}$$"
   ]
  },
  {
   "cell_type": "markdown",
   "id": "58a79759",
   "metadata": {},
   "source": [
    "## Ejemplo punto de prueba\n",
    "\n",
    "Supongamos un punto de prueba fijo en el plano-s $s_0=-1+j$ y la función de transferencia,\n",
    "\n",
    "$$F(s)=\\frac{1}{s(s+d)}$$\n",
    "\n",
    "Calcularemos el módulo y el argumento de $F(s_0)$\n",
    "\n",
    "$$|F(s_0)|= \\frac{1}{\\sqrt{s}\\sqrt{s}}=\\frac{1}{2}$$\n",
    "\n",
    "$$\\angle{F(s_0)}=\\underbrace{0}_{\\sum{\\angle(s+z_i)}}-\\underbrace{(45º+135º)}_{\\sum{\\angle{(s+p_j)}}}=-180º$$\n",
    "\n",
    "$$F(s_0)= \\frac{1}{2} \\angle{-180º}$$\n",
    "\n",
    ":::{figure-md}\n",
    "\n",
    "<img style=\"display:block; margin-left: auto; margin-right: auto;\" src=\"fig7.png\" width=\"250\" alt=\"fig7.png\">\n",
    "\n",
    "Módulo y argumento de $F(s_0)$\n",
    ":::"
   ]
  },
  {
   "cell_type": "markdown",
   "id": "07071a35",
   "metadata": {},
   "source": [
    "## Ejemplo: Trazado del lugar de las raíces\n",
    "\n",
    "En el siguiente ejemplo mostraremos la ubicación de los polos de $G(s)$ para distintos valores de la variable $k$, consideraremos $k>0$, cuando se cierra el lazo con realimentación unitaria, como se muestra en la siguiente figura:\n",
    "\n",
    ":::{figure-md}\n",
    "\n",
    "<img style=\"display:block; margin-left: auto; margin-right: auto;\" src=\"fig8.png\" width=\"500\" alt=\"fig8.png\">\n",
    "\n",
    "$G(s)$ a lazo cerrado con un controlador proporcional $D(s)=k$\n",
    ":::\n",
    "\n",
    "entonces calculamos la función de transferencia a lazo cerrado $T(s)$:\n",
    "\n",
    "$$T(s)=\\frac{k}{s^2+10s+k}$$\n",
    "\n",
    "los polos de $T(s)$ son la raíces de la ecuación característica del sistema\n",
    "\n",
    "$$\n",
    "\\begin{matrix}\n",
    "\\underbrace{s^2+10s+k}_{2^{do}\\text{ orden}~ \\Rightarrow ~ \\text{2 polos}}=0 & \\text{con} & k: 0\\longrightarrow \\infty\n",
    "\\end{matrix}\n",
    "$$\n",
    "\n",
    "para esto haremos una tabla y calcularemos las raíces de la ecuación característica para distintos valores de $k$ de la forma $s_{1,2}=\\frac{-b \\pm \\sqrt{b^2-4ac}}{2a}$:\n",
    "\n",
    "| k          |    polo 1    |   polo 2   |\n",
    "|:----------:|:------------:|:----------:|\n",
    "| $0$        |   $-10$      |    $0$     |\n",
    "| $\\vdots$   | $\\vdots$     | $\\vdots$   |\n",
    "| $25$       |   $-5$       |   $-5$     |\n",
    "| $\\vdots$   | $\\vdots$     | $\\vdots$   |\n",
    "| $>25$      | $-5 + j x$   |  $ -5-jx$  |\n",
    "\n",
    ":::{figure-md}\n",
    "<img style=\"display:block; margin-left: auto; margin-right: auto;\" src=\"fig9.png\" width=\"500\" alt=\"fig9.png\">\n",
    "\n",
    "Lugar de las raíces de $G(s)$\n",
    ":::"
   ]
  },
  {
   "cell_type": "markdown",
   "id": "33bdd909",
   "metadata": {},
   "source": [
    "## Propiedades de el Lugar de las Raíces\n",
    "\n",
    "El lugar geométrico de las raíces, es el lugar geométrico de valores de $s$ para el cual la ecuación característica $1 + kD(s)G(s) = 0$, ya que el parámetro $k \\in \\mathbb{R}$ varía desde $0 \\longrightarrow \\infty$.\n",
    "\n",
    "$$T(s)=\\frac{k D(s) G(s)}{1+k D(s) G(s)}$$\n",
    "\n",
    "Los polos de $T(s)$ existen cuando el polinomio característico $1 + k D(s)G(s)$ se anula, es decir,\n",
    "\n",
    "$$ k D(s) G(s) = -1 = 1 \\angle{2 \\ell +1}\\pi$$\n",
    "\n",
    "con $\\ell = 0 \\pm 1, \\pm 2, \\pm 3, \\dots$\n",
    "\n",
    "o lo que es lo mismo:\n",
    "\n",
    "$$\n",
    "\\left\\{\\begin{array}{l}\n",
    "|k D(s) G(s)|=1\\\\\n",
    "\\angle{k D(s) G(s)} = \\angle{2 \\ell +1}\\pi\n",
    "\\end{array}\\right.\n",
    "$$\n",
    "\n",
    "Teniendo en cuanta que la función compleja la podemos discriminar en su magnitud y fase, y para $k>=0$, podemos arribar a la siguientes definiciones:"
   ]
  },
  {
   "cell_type": "markdown",
   "id": "b79b41e1",
   "metadata": {},
   "source": [
    "```{admonition} Condición de fase\n",
    ":class: important\n",
    "\n",
    "El lugar geométrico de las raíces de $D(s)G(s)$ es el lugar geométrico de puntos en el plano-$s$ donde la fase de $D(s)G(s)$ es 180.\n",
    "\n",
    "Esto se lo conoce como la condición de fase, que significa matemáticamente:\n",
    "\n",
    "$$\\angle G(s) = 180^o+\\ell.360^o,\\quad \\text{con } \\ell \\text{ entero.}$$\n",
    "\n",
    "```"
   ]
  },
  {
   "cell_type": "markdown",
   "id": "f6e129a8",
   "metadata": {},
   "source": [
    "### Condición de magnitud o de módulo\n",
    "\n",
    "El criterio de magnitud es el siguiente que lo obtenemos aplicando el módulo a la ecuación $1+KG(s)=0$. Entonces resulta:\n",
    "\n",
    "$$\\|D(s) G(s)\\|=\\frac{1}{|k|}$$\n",
    "\n",
    "y para $k>0$:\n",
    "\n",
    "$$k=\\frac{1}{\\|D(s)\\| \\|G(s)\\|}$$\n",
    "\n",
    "Este criterio nos permite determnar el $k$, una vez escogido una ubicación determinada del lugar geométrico de las raíces."
   ]
  },
  {
   "cell_type": "markdown",
   "id": "a9eddb30",
   "metadata": {},
   "source": [
    "#### Ejemplo de cálculo de k con la condición de módulo\n",
    "\n",
    "si $p_1 = p_2 = -5$ un punto del plano s que cumple con la condición de fase para la función de transferencia $G(s)=\\frac{1}{s(s+10)}$\n",
    "\n",
    "Calculamos el modulo $|G(p_1)|= \\|\\frac{1}{-5(-5+10)} \\| =\\frac{1}{25}$ por lo que por la condición de módulo es:\n",
    "\n",
    "$$k=\\frac{1}{|G(p_1)|}= 25$$\n",
    "\n",
    "Este valor es el que corresponde al ejemplo anterior (ver tabla de valores y raíces)"
   ]
  },
  {
   "cell_type": "markdown",
   "id": "5c58b0f4",
   "metadata": {},
   "source": [
    "#### **Ejemplo:** cálculo de fase para un punto especifico del plano-s, $s_0$\n",
    "\n",
    "Tenemos la siguiente función de transferencia G(s) a lazo abierto:\n",
    "\n",
    "$$G(s)=\\frac{s+1}{s\\left\\{\\left[\\left(s+2\\right)^2+4\\right]\\left(s+4\\right)\\right\\}}$$\n",
    "\n",
    ":::{figure-md}\n",
    "<img style=\"display:block; margin-left: auto; margin-right: auto;\" src=\"fig10.png\" width=\"500\" alt=\"fig10.png\">\n",
    "\n",
    "$G(s)$ en un punto del plano-s genérico $s_0$\n",
    ":::"
   ]
  },
  {
   "cell_type": "markdown",
   "id": "cfd28e8b",
   "metadata": {},
   "source": [
    "En la figura anterior mostramos con cruces la ubicación de los polos de esta función de transferencia, y con círculos los ceros. Suponemos un punto de prueba ubicado en $ s_o = -1 + 2j $, y realizamos la suma de las contribuciones de las fases para determinar si es o no punto del lugar de raíces:\n",
    "\n",
    "$$\n",
    "\\begin{matrix}\n",
    "\\angle G(s) &= & \\Psi_1 - \\Phi_1- \\Phi_2- \\Phi_3- \\Phi_4\\\\\n",
    "& = & 90^o -116.6^o -0^o -76^o - 33.7^o\\\\\n",
    "& = & -136.3^o\n",
    "\\end{matrix}\n",
    "$$\n",
    "\n",
    "La fase de $ G $ para este punto de prueba vale $ -136.3^o $, y no $ 180^o $ por lo tanto este punto de prueba no pertenece al lugar geométrico de las raíces.\n",
    "\n",
    "````{note}\n",
    "\n",
    "Para verificar este punto con Python debemos evaluar la función transferencia en el punto de interés y el ángulo de valor resultante.\n",
    "\n",
    "  ```{code} python\n",
    "    s=ctrl.tf('s')\n",
    "    G=(s+1)/(s*((s+2)**2+4)*(s+4))\n",
    "    ang=np.angle(G(-1+2j))*180/np.pi\n",
    "    print(ang)\n",
    "  ```\n",
    "````\n",
    "\n",
    "\n",
    "\n",
    "Mostramos este código en acción y vemos el resultado:"
   ]
  },
  {
   "cell_type": "code",
   "execution_count": 4,
   "id": "5477d06b",
   "metadata": {},
   "outputs": [
    {
     "name": "stdout",
     "output_type": "stream",
     "text": [
      "-136.21887523513132\n"
     ]
    }
   ],
   "source": [
    "s=ctrl.tf('s')\n",
    "G=(s+1)/(s*((s+2)**2+4)*(s+4))\n",
    "ang=np.angle(G(-1+2j))*180/np.pi\n",
    "print(ang)"
   ]
  },
  {
   "cell_type": "markdown",
   "id": "59b5fed1",
   "metadata": {},
   "source": [
    "#### Ejemplo cálculo de la condición de magnitud\n",
    "\n",
    "Supongamos tener la transferencia siguiente:\n",
    "\n",
    "$$G(s)=\\frac{1}{s(s^2+4s+8)}$$\n",
    "\n",
    "cuyas polos se ubican en el origen y en $-2\\pm 2j$. En la figura siguiente mostramos el lugar de las raíces para esta función de transferencia.\n",
    "\n",
    "Elegimos un punto de prueba en $-0.667 \\pm 2j$, que pertenece al lugar geométrico de las raíces, pues ese punto cumple con ciertos requerimientos para nuestro sistema de control.\n",
    "\n",
    ":::{figure-md}\n",
    "<img style=\"display:block; margin-left: auto; margin-right: auto;\" src=\"fig11.png\" width=\"500\" alt=\"fig11.png\">\n",
    "\n",
    "$G(s)$ en un punto del plano-$s$ genérico $s_0$\n",
    ":::\n",
    "\n",
    "Entonces determinamos la ganancia $K$ para llegar a ese punto como:\n",
    "\n",
    "$$k=\\frac{1}{|G(s)|}=|s_0||s_0-s_2||s_0-s_3|$$\n",
    "\n",
    "$$k=2.108\\cdot1.33\\cdot4.216=11.85$$"
   ]
  },
  {
   "cell_type": "markdown",
   "id": "c05ab510",
   "metadata": {},
   "source": [
    "Verificamos el cálculo usando Python"
   ]
  },
  {
   "cell_type": "code",
   "execution_count": 5,
   "id": "bd616679",
   "metadata": {},
   "outputs": [
    {
     "name": "stdout",
     "output_type": "stream",
     "text": [
      "11.851585185962918\n"
     ]
    }
   ],
   "source": [
    "G=1/((s+2-2j)*(s+2+2j)*s)\n",
    "k=1/np.abs(G(-0.6667+2j))\n",
    "print(k)"
   ]
  }
 ],
 "metadata": {
  "jupytext": {
   "formats": "ipynb,md:myst",
   "text_representation": {
    "extension": ".md",
    "format_name": "myst",
    "format_version": 0.13,
    "jupytext_version": "1.11.0"
   }
  },
  "kernelspec": {
   "display_name": "Python 3",
   "language": "python",
   "name": "python3"
  },
  "language_info": {
   "codemirror_mode": {
    "name": "ipython",
    "version": 3
   },
   "file_extension": ".py",
   "mimetype": "text/x-python",
   "name": "python",
   "nbconvert_exporter": "python",
   "pygments_lexer": "ipython3",
   "version": "3.8.12"
  },
  "source_map": [
   13,
   17,
   47,
   55,
   67,
   108,
   118,
   125,
   134,
   137,
   143,
   162,
   185,
   208,
   249,
   274,
   287,
   301,
   313,
   327,
   357,
   362,
   386,
   390
  ]
 },
 "nbformat": 4,
 "nbformat_minor": 5
}