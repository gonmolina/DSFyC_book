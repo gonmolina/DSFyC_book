{
 "cells": [
  {
   "cell_type": "markdown",
   "id": "8eaac1e3",
   "metadata": {},
   "source": [
    "# Pasos para trazar el lugar geométrico de las raíces\n",
    "\n",
    "## PASO 1. Dibujamos los polos y ceros de la función de transferencia a lazo abierto (con x y o) respectivamente"
   ]
  },
  {
   "cell_type": "markdown",
   "id": "e9ca7d99",
   "metadata": {},
   "source": [
    "## PASO 2. Encontramos la parte del eje real de los lugares geométricos de las raíces\n",
    "\n",
    "Si tomamos un punto de prueba sobre el eje real, la contribución en ángulo de los ceros o polos complejos conjugados se anularán, puesto que uno de los ángulos se cancela con el de su conjugado.\n",
    "\n",
    "Entonces debemos considerar solo los polos y ceros que se encuentran sobre el eje real. Los mismos aportarán 0° si el punto de prueba está a la derecha del polo o cero, y aportará con -180° o +180° si el punto de prueba está a la izquierda del polo o cero, respectivamente.\n",
    "\n",
    "Conclusión: Es lugar geométrico de las raíces, aquel lugar del eje real que está a la izquierda de un número impar de polos y ceros."
   ]
  },
  {
   "cell_type": "markdown",
   "id": "a0192259",
   "metadata": {},
   "source": [
    "## PASO 3. Dibujamos las asíntotas para valores grandes de K\n",
    "\n",
    "Cuando $K$ tiende a infinito, la ecuación $1 + KG(s) = 0$ se satisface solamente si  $G(s) = 0$.\n",
    "Esto puede ocurrir de dos maneras:\n",
    "\n",
    "1. En los ceros de $G(s)$, o sea las raíces del polinomio $b(s)$.\n",
    "1. Escribamos la ecuación característica de la siguiente manera:\n",
    "\n",
    "$$\n",
    "\\begin{align*}\n",
    "1+K\\frac{b(s)}{a(s)} & = & 0\\\\\n",
    "1+K\\frac{s^m+b_1 s^{m-1}+\\ldots+b_m}{s^n+a_1 s^{n-1}+\\ldots+a_n} & = & 0\\\\\n",
    "\\end{align*}\n",
    "$$"
   ]
  },
  {
   "cell_type": "markdown",
   "id": "4cd043e0",
   "metadata": {},
   "source": [
    "Si $n > m$, $G(s)$ tiende a cero cuando $s$ tiende a infinito.\n",
    "\n",
    "Para $K$ grandes, $m$ ceros se cancelarían con $m$ polos, y los $(n-m)$ polos restantes se verían agrupados como en un solo polo múltiple en $\\alpha$:\n",
    "\n",
    "$$1+K\\frac{1}{(s-\\alpha)^{n-m}}=0,\\qquad s\\rightarrow\\infty,K\\rightarrow\\infty$$"
   ]
  },
  {
   "cell_type": "markdown",
   "id": "86c0952f",
   "metadata": {},
   "source": [
    "Tomemos un punto de prueba $s_o=re^{j\\phi}$, para un valor grande y fijo de $r$, y $\\phi$ variable. Aplicando el criterio de la fase, tenemos:\n",
    "\n",
    "$$(n-m)\\phi_i=180^o+l360^o$$\n",
    "\n",
    "El ángulo $\\phi_l$ nos dará el ángulo que forman la asíntotas, que serán de:\n",
    "\n",
    "$$\\phi_l=\\frac{180^o+l360^o}{n-m}, \\qquad l=0,1,2,\\ldots,n-m-1$$\n",
    "\n",
    "El lugar de origen de las asíntotas está en $s_o=\\alpha$. Averigüemos cuánto vale $\\alpha$:\n",
    "\n",
    "$$s^n+a_1 s^{n-1}+\\ldots+a_n=(s-p_1)(s-p_2)\\ldots(s-p_n)$$\n",
    "\n",
    "Es fácil de deducir que $a_1=-\\sum_{i=1}^np_i$, el opuesto de la sumatoria de los polos a lazo abierto.\n",
    "\n",
    "Por otro lado, la ecuación característica la podemos escribir de la siguiente manera:\n",
    "\n",
    "$$s^n+a_1 s^{n-1}+\\ldots+a_n+K(s^m+b_1 s^{m-1}+\\ldots+b_m)=0$$"
   ]
  },
  {
   "cell_type": "markdown",
   "id": "16bbe022",
   "metadata": {},
   "source": [
    "Si $m < (n-1)$, tenemos que $K$ no afectará el coeficiente de $s^{n-1}$, que será $a_1$; y por lo tanto, si llamamos $ri$ las raíces de esta ecuación, tenemos que:\n",
    "\n",
    "$$-a_1=\\sum_{i=1}^n r_i = \\sum_{i=1}^np_i$$\n",
    "\n",
    "Ahora, para $K$ grandes, m de las raíces coinciden con los ceros $zi$, y $(n-m)$ son del sistema asintótico $\\dfrac{1}{(s-\\alpha)^{n-m}}$, cuyos polos sumarán $(n-m)\\alpha$. Por lo tanto:\n",
    "\n",
    "$$\\sum_{i=1}^n r_i=+(n-m)\\alpha+\\sum_{i=1}^m z_i= \\sum_{i=1}^n p_i$$\n",
    "\n",
    "Entonces, el centro de las asíntotas estará dado por:\n",
    "\n",
    "$$\\alpha = \\dfrac{\\sum_{i=1}^n p_i -\\sum_{i=1}^m z_i}{n-m}$$"
   ]
  },
  {
   "cell_type": "markdown",
   "id": "0f1d0d0c",
   "metadata": {},
   "source": [
    "## PASO 4 (solo para mejor resultado en esos puntos). Calculamos los ángulos de salida y de llegada de polos y ceros\n",
    "\n",
    "Esto lo analizamos considerando un punto de prueba muy cercano al polo o al cero, y aplicando el criterio de fase."
   ]
  },
  {
   "cell_type": "markdown",
   "id": "91e966e2",
   "metadata": {},
   "source": [
    "## PASO 5 (es importante este valor). Calculamos los puntos donde los lugares geométrico de las raíces cruzan el eje imaginario\n",
    "\n",
    "Esto podemos obtener determinando el $K$, para el cual el sistema se torna inestable (con el criterio de Routh), y luego determinando las raíces de la ecuación característica para ese $K$.\n",
    "\n",
    "Otra manera de determinarlo es reemplazar en la ecuación característica $s$ por $j\\omega$, de esta manera tenemos dos ecuaciones (una para la parte real de la ecuación y otra para la imaginaria), con dos incógnitas: $K$ y $\\omega$."
   ]
  },
  {
   "cell_type": "markdown",
   "id": "201fc379",
   "metadata": {},
   "source": [
    "## PASO 6. Estimamos la localización de las raíces múltiples, especialmente en el eje real, y determinamos los ángulos de llegada y salida de estos lugares\n",
    "\n",
    "Supongamos que para un determinado $K$, existen raíces múltiples. Llamemos en ese caso $r_i$, a las raíces de la ecuación característica para ese $K$, o sea:\n",
    "\n",
    "$$1+KG(s)=0=(s-r_1)(s-r_2)\\ldots (s-r_n)=F(s)$$\n",
    "\n",
    "Llamemos $r_{\\alpha}$ a la raíz múltiple, entonces habrá un término de la productoria que será: $(s- r_{\\alpha})^a$, con $a \\ge 2$. O sea:\n",
    "\n",
    "$$F(s) = (s-r_{\\alpha})^a \\prod^{n-1}_{i=1}(s-r_i)$$"
   ]
  },
  {
   "cell_type": "markdown",
   "id": "0545f89f",
   "metadata": {},
   "source": [
    "Derivemos esta productoria, y evaluémos a la misma en $s = r_\\alpha$:\n",
    "\n",
    "$$\n",
    "\\begin{align*}\n",
    "\\left.\\frac{dF(s)}{ds}\\right|_{s=r_\\alpha}  = &\\alpha(s-r_\\alpha)^{\\alpha-1}\\prod_{i=1}^{n-a}(s-r_i)^a + (s-r_\\alpha)^a \\prod_{i=2}^{n-a}(s-r_i)+\\cdots+(s-r_\\alpha)^a\\prod_{i=1}^{n-a-1}(s-r_i)\\\\\n",
    "\\left.\\frac{dF(s)}{ds}\\right|_{s=r_\\alpha}   = & 0 + 0 +\\cdots+0\n",
    "\\end{align*}\n",
    "$$"
   ]
  },
  {
   "cell_type": "markdown",
   "id": "db02126a",
   "metadata": {},
   "source": [
    "Aplicando este resultado a la ecuación característica, y sabiendo que se debe cumplir en $s = r_\\alpha$:\n",
    "\n",
    "$$a(s)+Kb(s)=0$$\n",
    "\n",
    "y\n",
    "\n",
    "$$\\left.\\frac{da(s)}{ds}\\right|_{s=r_\\alpha}+K\\left.\\frac{db(s)}{ds}\\right|_{s=r_\\alpha}=0$$\n",
    "\n",
    "Que es equivalente a\n",
    "\n",
    "$$\\left.\\frac{da(s)}{ds}\\right|_{s=r_\\alpha}-\\frac{a(s)}{b(s)}\\left.\\frac{db(s)}{ds}\\right|_{s=r_\\alpha}=0$$\n",
    "\n",
    "Si dividimos esta ecuación por $-b(s)$, obtendremos que:\n",
    "\n",
    "$$\\frac{d}{ds}\\left(\\left.-\\frac{a(s)}{b(s)}\\right)\\right|_{s=r_\\alpha}=0$$\n",
    "\n",
    "Entonces tenemos que la condición de raíces múltiples es la siguiente:\n",
    "\n",
    "$$\\frac{d}{ds}\\left(\\left.\\frac{-1}{G(s)}\\right)\\right|_{s=r_\\alpha}=0$$"
   ]
  },
  {
   "cell_type": "markdown",
   "id": "f5d910d9",
   "metadata": {},
   "source": [
    "## PASO 7. Completamos el dibujo, combinando los resultados anteriores"
   ]
  },
  {
   "cell_type": "markdown",
   "id": "82f9da8c",
   "metadata": {},
   "source": [
    "## Trazado del lugar geométrico de las raíces para ganancias negativas\n",
    "\n",
    "Para ganancias negativas, $K < 0$, el criterio de la fase (o del ángulo) cambia por:\n",
    "\n",
    "$$\\angle G(s) = l360^o, \\qquad \\text{con}\\quad l=0,1,2,\\ldots$$\n",
    "\n",
    "puesto que la ecuación característica es $1-(-K)G(s)=0$.\n",
    "\n",
    "Dejamos como ejercicio al lector analizar como afecta este cambio a los siete pasos descriptos anteriormente para el tazado geométrico de las raíces."
   ]
  },
  {
   "cell_type": "markdown",
   "id": "16a0af97",
   "metadata": {},
   "source": [
    "## Ejemplo de trazado de lugar de las raíces\n",
    "\n",
    "Tenemos la siguiente función de transferencia a lazo abierto:\n",
    "\n",
    "$$ G(s) = \\frac{s+1}{s^2(s+9)}$$\n",
    "\n",
    "En la figura que sigue mostramos los resultados de los sucesivos pasos seguidos para el trazado del lugar geométrico de las raíces para esta función de transferencia.\n",
    "\n",
    "Para el paso 3, el cálculo del centro y ángulo de las asíntotas son:\n",
    "\n",
    "$$\\phi_l=\\frac{180^o+l360^o}{3-1}=90^o,270^o$$\n",
    "\n",
    "$$\\sigma_a=\\frac{-9-0-0+1}{3-1}=-4$$"
   ]
  },
  {
   "cell_type": "markdown",
   "id": "b3df3cbc",
   "metadata": {},
   "source": [
    "Para el paso 4, el cálculo de los ángulos $\\alpha$ de salida de los polos en el origen (suponiendo un apartamiento pequeño de los mismos), aplicando el criterio del ángulo:\n",
    "\n",
    "$$2\\alpha+0^o-0^o=180^0+n360^o \\Rightarrow \\alpha=-90^o, 90^o$$\n",
    "\n",
    "De la misma manera podemos determinar el ángulo de salida del otro polo, y el de llegada al cero."
   ]
  },
  {
   "cell_type": "markdown",
   "id": "c3ecf789",
   "metadata": {},
   "source": [
    "Para el paso 6, determinamos la raíz múltiple realizando la derivada, la cual vale $-\\sigma_m=-3$. Podemos comprobar que la multiplicidad de esta raíz es 3, ya que la derivada segunda de $\\frac{-1}{G(s)}$ con respecto a $s$ evaluada en ese punto también es cero. Por lo tanto los ángulos $\\beta$ de entrada a ese polo múltiple es:\n",
    "\n",
    "$$2+\\alpha+0^o-0^o=180^o+n360^o \\Rightarrow \\alpha = -90^o,90^o$$\n",
    "\n",
    "De la misma manera podemos determinar el ángulo de salida del otro polo, y el de llegada al cero."
   ]
  },
  {
   "cell_type": "markdown",
   "id": "f37aa8c2",
   "metadata": {},
   "source": [
    "Para el paso 6, determinamos la raíz múltiple realizando la derivada, la cual vale $\\sigma_m=-3$. Podemos comprobar que la multiplicidad de esta raíz es 3, ya que la derivada segunda de $\\frac{-1}{G(s)}$ con respecto a $s$ evaluada en ese punto también es cero. Por lo tanto los ángulos $\\beta$ de entrada a ese polo múltiple es:\n",
    "\n",
    "$$3\\beta-180^o=n360^o \\Rightarrow \\beta=-60^o,60^o,180^o$$\n",
    "\n",
    "Y los ángulos $\\gamma$ de salida son:\n",
    "\n",
    "$$3\\gamma-180^o=180^o+n360^o \\Rightarrow \\gamma=-120^o,0^o,120^o$$\n",
    "\n",
    ":::{figure-md} pasos-lr\n",
    "<img src=\"pasos_trazado_fig1.png\" width=800px>\n",
    "\n",
    "Pasos del lugar de las raíces\n",
    ":::\n",
    "\n",
    ":::{figure-md} resultados-lr\n",
    "<img src=\"pasos_trazado_fig2.png\" width=500px>\n",
    "\n",
    "Resultado final\n",
    ":::\n",
    "\n",
    "En Python, lugar de las raíces se puede resolver fácilmente usando el módulo de control."
   ]
  }
 ],
 "metadata": {
  "jupytext": {
   "formats": "ipynb,md:myst",
   "text_representation": {
    "extension": ".md",
    "format_name": "myst",
    "format_version": 0.13,
    "jupytext_version": "1.11.0"
   }
  },
  "kernelspec": {
   "display_name": "Python 3",
   "language": "python",
   "name": "python3"
  },
  "source_map": [
   13,
   19,
   29,
   46,
   54,
   74,
   88,
   94,
   102,
   114,
   125,
   147,
   151,
   163,
   179,
   187,
   195
  ]
 },
 "nbformat": 4,
 "nbformat_minor": 5
}